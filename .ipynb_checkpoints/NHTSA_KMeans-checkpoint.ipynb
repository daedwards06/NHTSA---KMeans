{
 "cells": [
  {
   "cell_type": "markdown",
   "metadata": {},
   "source": [
    "<center><h2><b> FINAL PROJECT </b></h2></center><center><h3><b>MSDS 6371 - 403</b></h3></center><center><h3><b>Data Mining</b></h3></center>\n"
   ]
  },
  {
   "cell_type": "markdown",
   "metadata": {},
   "source": [
    "<h4><b>Team Members:</b></h4>\n",
    "<ul>\n",
    "  <li>Lisa Mendez</li>\n",
    "  <li>Brandon Lawrence</li>\n",
    "  <li>Dominique Edwards</li>\n",
    "  <li>Mariana Llamas-Cendon</li>\n",
    "</ul>"
   ]
  },
  {
   "cell_type": "markdown",
   "metadata": {},
   "source": [
    "<center><h3><b> 1. Business Understanding (10 points total)</b></h3></center>"
   ]
  },
  {
   "cell_type": "markdown",
   "metadata": {},
   "source": [
    "<h4><b> 1.1 <i>Describe the purpose of the data set you selected (i.e., why was this data collected in the first place?).</i></b></h4> \n",
    "\n",
    "The National Highway Traffic Safety Administration’s (NHTSA) Office of Vehicle Safety Research’s mission is to “strategize, plan, and implement research programs to continually further the Agency's goals in reduction of crashes, fatalities, and injuries. Our research is prioritized based on potential for crash/fatality/injury reductions and is aligned with Congressional Mandates, DOT & NHTSA goals.” \n",
    "Fatality Analysis Reporting System (FARS) provides NHTSA a nationwide census of data regarding fatal injuries suffered in a motor vehicle traffic crashes. \n",
    "FARS contains data that are derived from a census of fatal traffic crashes (within all 50 states, DC, Hawaii, American Samoa, Guam, U.S. Virgin Islands, and Puerto Rico). \n",
    "In this context a crash, or accident, must involve a motor vehicle traveling on a trafficway open to the public and resulted in a death of at least one person within 30 days of the crash. The death of an occupant or a non-motorist involved in the crash results in a record included in FARS. \n",
    "Even though data has been collected since 1975-- to measure highway safety, identify traffic safety issues, recommend solutions, and assist in an objective basis to evaluate the effectiveness of motor vehicle safety standards and highway safety programs-- the data set used in this project corresponds only to the year 2015."
   ]
  },
  {
   "cell_type": "markdown",
   "metadata": {},
   "source": [
    "<h4><b>1.2 <i>How would you measure the effectiveness of a good prediction algorithm? Be specific.</i></b></h4>\n",
    "\n",
    "In order to measure the effectiveness of a good prediction algorithm methods such as cross validation can be done.  Five fold, stratified, and 10 fold.  Other metrics, such as precision, recall, and truth charts can also be done to determine how well the prediction model generalizes the data."
   ]
  },
  {
   "cell_type": "markdown",
   "metadata": {},
   "source": [
    "<center><h3><b>2. Data Understanding (20 points total)</b></h3></center>"
   ]
  },
  {
   "cell_type": "markdown",
   "metadata": {},
   "source": [
    "<h4><b>2.1 <i> [10 points] Describe the meaning and type of data (scale, values, etc.) for each\n",
    "attribute in the data file. </i></b></h4>\n",
    "\n",
    "The data set used in this project named \"accident_reduced_GOOD\" is a cleaned version of the original data set (that contained 52 attributes), in which those attributes not useful to the analysis were already deleted. The main causes for deletion were:\n",
    "\n",
    "- Missing or unknown data for those attributes represented more than 50% of the total number of observations\n",
    "- Attributes were redundant\n",
    "- Attributes did not provide any insight\n",
    "\n",
    "<p> The original data set contained <b>missing</b> or <b>unknown</b> values coded as either: <i>9, 99, 9999, 99.9999</i> or <i>999.9999</i> so they were easily identifiable; while  <i>8, 88, 8888, 88.8888, 888.8888, 98, 9998</i> meant values were <b>not reported/not available</b> .\n",
    "Values that did <b>not provide any useful information</b> such as <i>0 \"not applicable\"</i> or <i>7, 97, 98 \"other\"</i> depending on the attribute, were dropped. \n",
    "<p>In the case of categorical variables in which there was a level \"other\" coded either as <i>7, 8, 997</i> that did not provide any additional or useful information, those rows containing it were also dropped. </p>\n",
    "<p>Attribute <b><i>LGT_COND</i></b>, for instance, contains several levels dedicated to describe the darkness of a particular situation, such as:  <i>2 (Dark – Not Lighted), 3 (Dark – Lighted) and 6 (Dark-- unknown lighting)</i>. In the case of level <i>6 (Dark -- unknown lighting)</i> we considered it provides no additional nor useful information in comparison to levels 2 and 3. Therefore, we dropped the rows containing level 6. </p>\n",
    "<p>Columns <b><i>DAY, MONTH, YEAR</i></b> were combined (and dropped) into a new one named <b><i>DATETIME</i></b> which was coerced into dtype datetime. Since we could not find a feasible way to combine <b><i>DATETIME</i></b> column with columns <b><i>HOUR and MINUTE</i></b> or to even properly combine <b><i>HOUR and MINUTE</i></b> into one column to create a timestamp, we decided to drop attribute <b><i>MINUTE</i></b> as <b><i>HOUR</i></b> would provide sufficient information that can bu used. \n",
    "<p> We did not find any duplicates in the data set. <b><i>ST_CASE</i></b> is the only attribute that should contain only unique values, so we did perform a duplicate checking just to make sure that there were not two repeated cases, and it came out clean. </p>But it was dropped because it only referred to the accident reported case. \n",
    "<p> In the case of outliers, once coded missing values were converted to NaNs, we revise continuous, categorical and binary attributes using <i>.describe()</i> to check that the <b>min</b> and <b>max</b> values corresponded to the different levels and values we were expecting. Nevertheless, we will use boxplots to look at the remaining attributes more closely to determine if outliers are present, and if so, determine their importance and make a decision about keeping some of those observations or not. \n",
    "<p> The continuous variables in our data set had no missing values, therefore imputation was not required. \n",
    "\n",
    "The list of attributes dropped is found in the following table.\n",
    "\n",
    "\n",
    "<table>\n",
    "\n",
    "<tr><th colspan=\"3\", style=\"text-align: center;\"> <h1>Attributes deleted from original data set</h1></th></tr>\n",
    "<tr><th><h2> Attribute name </h2></th> <th><h2> Delete Reason </h2></th></tr>\n",
    "\n",
    "<tr> <td>COUNTY</td> <td>Use of geographical codes that will not contribute to analysis</td> </tr>\n",
    "<tr> <td>ST_CASE</td> <td>Unique identifier for each accident reported, not contributing to analysis</td></tr>\n",
    "<tr> <td>CITY</td>  <td>Too few observations available</td> </tr>\n",
    "<tr> <td>DAY</td> <td>merged with Month and Year into new column named DATETIME</td></tr> \n",
    "<tr> <td>MONTH</td> <td>merged with DAY and Year into new column named DATETIME</td></tr> \n",
    "<tr> <td>MINUTE</td> <td>Not able to convert it into appropriate format</td> </tr>\n",
    "<tr> <td>SP_JUR</td> <td>identifies if the location on the trafficway where the crash occurred qualifies as a Special Jurisdiction or not. Considering that there are about 30,560 instances of class 0 (No Special Jurisdiction), this attribute only adds noise and not much information as information about this can be obtained from attribute ROUTE.</td> </tr>\n",
    "<tr> <td>RD_OWNER</td> <td>This attribute is pretty much similar to that named ROUTE, only that in here the route is identified with a particular agency, whether Federal, State, or Local</td> </tr>\n",
    "<tr> <td>RUR_URB</td> <td>this attribute identifies if the road where the accident had ocurred is rural or urban, but that information can be derived from the attribute ROUTE</td> </tr>\n",
    "<tr> <td>LONGITUD</td> <td>This element identifies the location of the crash using Global Position coordinates, and will not contribute to analysis</td> </tr>\n",
    "<tr> <td>LATITUDE</td> <td>Same reason as LONGITUD</td> </tr>\n",
    "<tr> <td>FUNC_SYS</td> <td>This element describe the type of road where an accident happened. Information can be obtained from ROUTE</td> </tr>\n",
    "<tr> <td>TYP_INT</td> <td>TThis data element identifies and allows separation of various intersection types but can derived from RELJCT2, which identifies the crash's location with respect to presence in or proximity to components typically in junction or interchange areas</td> </tr>\n",
    "<tr> <td>NHS</td> <td>This data element identifies whether this crash occurred on a trafficway that is part of the National Highway System. We can obtain this information from ROUTE attribute</td> </tr>\n",
    "<tr> <td>TWAY_ID</td> <td>This data element records the trafficway on which the crash occurred. This information can be derived from ROUTE attribute</td> </tr>\n",
    "<tr> <td>TWAY_ID2</td> <td>Too few values available</td> </tr>\n",
    "<tr> <td>MILEPT</td> <td>Too few observations available</td> </tr>\n",
    "<tr> <td>WEATHER1</td> <td>Too few observations available</td> </tr>\n",
    "<tr> <td>WEATHER2</td> <td>Too few observations available</td> </tr>\n",
    "<tr> <td>SCH_BUS</td> <td>Not relevant for analysis</td> </tr>\n",
    "<tr> <td>RAIL</td> <td>Too few observations</td> </tr>\n",
    "<tr> <td>NOT_HOUR</td> <td>Too few observations available</td> </tr>\n",
    "<tr> <td>NOT_MIN</td> <td>Too few observations available</td> </tr>\n",
    "<tr> <td>ARR_HOUR</td> <td>Too few observations available</td> </tr>\n",
    "<tr> <td>ARR_MIN</td> <td>Too few observations available</td> </tr>\n",
    "<tr> <td>HOSP_HR</td> <td>Not relevant for analysis</td> </tr>\n",
    "<tr> <td>HOSP_MIN</td> <td>Not relevant for analysis</td> </tr>\n",
    "<tr> <td>CF1</td> <td>Too few observations available</td> </tr>\n",
    "<tr> <td>CF2</td> <td>Too few observations available</td> </tr>\n",
    "<tr> <td>CF3</td> <td>Too few observations available</td> </tr>\n"
   ]
  },
  {
   "cell_type": "markdown",
   "metadata": {},
   "source": [
    "### Attributes kept\n",
    "\n",
    "The \"accident_reduced_GOOD\" data set was cleaned prior to being used for this project, in order to reduce noise that other not-so-important or redundant attributes could add. The deletion was based on the following criteria:\n",
    "\n",
    "- Some missing values had already been deleted, when the attributes that did not provide any insight or had too few values were dropped, but it is necessary to check for missing values within the data set that will be used for this project.\n",
    "- Some Instances of some attributes that had less than 10 observations were removed (there are still some attributes that we will analyze based on a cut-off of 10) to decide if those instances are worth keeping). \n",
    "- No continuous attributes had any missing values so imputation was not required.\n",
    "\n",
    "The attributes used for this analysis are found in the following table, along with a brief description of each:\n",
    "\n",
    "\n",
    "<table>\n",
    "\n",
    "<tr><th colspan=\"3\", style=\"text-align: center;\"> <h1>Attributes kept</h1></th></tr>\n",
    "<tr><th><h2> Attribute name </h2></th> <th><h2>Type</h2></th> <th><h2> Description </h2></th></tr>\n",
    "\n",
    "<tr> <td>STATE</td> <td>Categorical/nominal</td> <td>Originally (1-56). The following states were deleted as the analysis was kept within continental U.S.:<br>\n",
    "- *American Samoa*<br>\n",
    "- *D.C*<br>\n",
    "- *Guam*<br>\n",
    "- *Puerto Rico*<br>\n",
    "- *Virgin Islands*</tr>\n",
    "<tr> <td>VE_TOTAL</td> <td>Continuous</td> <td>number of contact motor vehicles that the officer reported on the PAR as a unit involved in the crash</td> </tr>\n",
    "<tr> <td>VE_FORMS</td> <td>Continuous</td> <td>count of the number of vehicles in-transport involved in the crash</td> </tr>\n",
    "<tr> <td>PVH_INVL</td> <td>Continuous</td> <td>count of the number of parked and working vehicles involved in the crash</td> </tr>\n",
    "<tr> <td>PEDS</td> <td>Continuous</td> <td>number of Person Forms (Not a Motor Vehicle Occupant) that are applicable to this case (i.e., non-occupants) </td> </tr>\n",
    "<tr> <td>PERNOTMVIT</td> <td>Continuous</td> <td> count of the number of non-motorists in the crash </td> </tr>\n",
    "<tr> <td>PERMVIT</td> <td>Continuous</td> <td> count of the number of motorists in the crash. A motorist is a driver, \n",
    "          passenger or unknown occupant type of a motor  vehicle in-transport </td> </tr>\n",
    "<tr> <td>PERSONS</td> <td>Continuous</td> <td> count of the number of Person Level (Motor Vehicle Occupant) </td> </tr>\n",
    "<tr> <td>DAY_WEEK</td> <td>Categorical/ordinal (1-Sunday -- 7-Monday)</td> <td>  records the day of the week on which the crash occurred. <br>*Attribute was one-hot encoded </td> </tr>\n",
    "<tr> <td>HOUR</td> <td>Continuous (0-23)</td> <td>  records the hour at which the crash occurred </td> </tr>\n",
    "<tr> <td>ROUTE</td> <td>Categorical/nominal</td> <td>  identifies the route signing of the trafficway on which the crash occurred. Having the following levels:<br>          1 Interstate<br> \n",
    "                 2 U.S. Highway <br>\n",
    "                 3 State Highway <br>\n",
    "                 4 County Road <br>\n",
    "                 5 Local Street – Township <br>\n",
    "                 6 Local Street – Municipality <br>\n",
    "                 7 Local Street – Frontage Road<br>\n",
    "                 The attribute was hot-encoded</td> </tr>\n",
    "\n",
    "<tr> <td>HARM_EV</td> <td>Categorical/nominal with more than 30 levels</td> <td>  describes the first injury or damage producing event of the crash.<br> The attribute was one-hot encoded </td> </tr>\n",
    "<tr> <td>RELJCT1</td> <td>Categorical/binary</td> <td>   This data element identifies the crash's location with respect to presence in an interchange area </td> </tr>\n",
    "<tr> <td>RELJCT2</td> <td>Categorical/nominal</td> <td>  identifies the crash's location with respect to presence in an interchange area. <br>\n",
    "                 The coding of this data element is done in two sub-fields (see also C20B) and is \n",
    "                 based on the location of the “First Harmful Event” of the crash<br>\n",
    "Levels:    <br>      1 Non-Junction <br>\n",
    "                 2 Intersection<br>\n",
    "                 3 Intersection Related <br>\n",
    "                 4 Driveway Access<br>\n",
    "                 5 Entrance/Exit Ramp Related<br>\n",
    "                 6 Railway Grade Crossing<br>\n",
    "                 7 Crossover Related<br>\n",
    "                 8 Driveway Access Related<br> \n",
    "                 16 Shared-Use Path Crossing<br>\n",
    "                 17 Acceleration/Deceleration Lane<br>\n",
    "                 18 Through Roadway<br>\n",
    "                 19 Other Location Within Interchange Area<br>\n",
    "                 20 Entrance/Exit Ramp<br> *Attribute was one-hot encoded </td> </tr>\n",
    "\n",
    "<tr> <td>WRK_ZONE</td> <td>Categorical/nominal </td> <td>  identifies a motor vehicle traffic crash in which the first harmful event occurs \n",
    "                 within the boundaries of a work zone or on an approach to or exit from a work zone, \n",
    "                 resulting from an activity, behavior, or control related to the movement of the \n",
    "                 traffic units through the work zone. <br>\n",
    "Levels:   <br>       0 None <br>\n",
    "                 1 Construction <br>\n",
    "                 2 Maintenance <br>\n",
    "                 3 Utility <br> *Attribute was one-hor encoded</td> </tr>\n",
    "<tr> <td>MAN_COLL</td> <td>Categorical/nominal</td> <td>  describes the orientation of two motor vehicles in-transport when they are \n",
    "                 involved in the “First Harmful Event” of a collision crash. If the “First \n",
    "                 Harmful Event” is not a collision between two motor vehicles in-transport it \n",
    "                 is classified as such.\" <br>\n",
    "Levels:   <br>       0 Not Collision with Motor Vehicle in Transport <br>\n",
    "                 1 Front-to-Rear<br>\n",
    "                 2 Front-to-Front<br>\n",
    "                 6 Angle<br>\n",
    "                 7 Sideswipe – Same Direction<br>\n",
    "                 8 Sideswipe – Opposite Direction<br>\n",
    "                 9 Rear-to-Side<br>\n",
    "                 10 Rear-to-Rear<br>\n",
    "                 11 Other (End-Swipes and Others)<br> *Attribute was one-hor encoded</td> </tr>\n",
    "\n",
    "<tr> <td>REL_ROAD</td> <td>Categorical/nominal</td> <td>  identifies the location of the crash as it relates to its position within or \n",
    "                 outside the trafficway based on the “First Harmful Event”. <br>\n",
    "Levels: <br>         1 On Roadway<br>\n",
    "                 2 On Shoulder<br>\n",
    "                 3 On Median<br>\n",
    "                 4 On Roadside<br>\n",
    "                 5 Outside Trafficway<br>\n",
    "                 6 Off Roadway – Location Unknown <br>\n",
    "                 7 In Parking Lane/Zone <br>\n",
    "                 8 Gore<br>\n",
    "                 10 Separator <br>\n",
    "                 11 Continuous Left-Turn Lane<br> *Attribute was one-hot encoded </td> </tr>\n",
    "<tr> <td>LGT_COND</td> <td>Categorical/nominal</td> <td>  records the type/level of light that existed at the time of the crash as indicated \n",
    "                 in the case material.<br>\n",
    "Levels:   <br>       1 Daylight<br>\n",
    "                 2 Dark – Not Lighted <br>\n",
    "                 3 Dark – Lighted <br>\n",
    "                 4 Dawn <br>\n",
    "                 5 Dusk <br>\n",
    "                 *Attribute was one-hot encoded</td> </tr>\n",
    "<tr> <td>WEATHER</td> <td>Categorical/nominal</td> <td>  records the prevailing atmospheric conditions that existed at the time of the crash \n",
    "                 as indicated in the case material. <br>\n",
    "Levels:  <br>           1 Clear <br>\n",
    "                 0 No Additional Atmospheric Conditions<br>\n",
    "                 2 Rain<br>\n",
    "                 3 Sleet, Hail<br>\n",
    "                 4 Snow<br>\n",
    "                 5 Fog, Smog, Smoke<br>\n",
    "                 6 Severe Crosswinds<br>\n",
    "                 7 Blowing Sand, Soil, Dirt<br>\n",
    "                 8 Other<br>\n",
    "                 10 Cloudy<br>\n",
    "                 11 Blowing Snow<br>\n",
    "                 12 Freezing Rain<br>*Attribute was one-hot encoded  </td> </tr>\n",
    "<tr> <td>FATALS</td> <td>Continuous </td> <td>   records the number of fatally injured persons in the crash. 01-99 Number of \n",
    "                 Fatalities that Occurred in the crash </td> </tr>\n",
    "\n",
    "<tr> <td>DRUNK_DR</td> <td>Continuous </td> <td>   records the number of drunk drivers involved in the crash. 00-99 Number of Drunk \n",
    "                 Drivers Involved in the Fatal Crash </td> </tr>\n",
    "\n",
    "\n"
   ]
  },
  {
   "cell_type": "code",
   "execution_count": 1,
   "metadata": {},
   "outputs": [],
   "source": [
    "import warnings\n",
    "warnings.filterwarnings(\"ignore\")\n",
    "\n",
    "from datetime import datetime\n",
    "\n",
    "import pandas as pd\n",
    "from pandas import DataFrame\n",
    "import numpy as np\n",
    "#import matplotlib as plt\n",
    "import matplotlib.pyplot as plt\n",
    "%matplotlib inline\n"
   ]
  },
  {
   "cell_type": "code",
   "execution_count": 2,
   "metadata": {
    "scrolled": false
   },
   "outputs": [
    {
     "data": {
      "text/html": [
       "<div>\n",
       "<style scoped>\n",
       "    .dataframe tbody tr th:only-of-type {\n",
       "        vertical-align: middle;\n",
       "    }\n",
       "\n",
       "    .dataframe tbody tr th {\n",
       "        vertical-align: top;\n",
       "    }\n",
       "\n",
       "    .dataframe thead th {\n",
       "        text-align: right;\n",
       "    }\n",
       "</style>\n",
       "<table border=\"1\" class=\"dataframe\">\n",
       "  <thead>\n",
       "    <tr style=\"text-align: right;\">\n",
       "      <th></th>\n",
       "      <th>Unnamed: 0</th>\n",
       "      <th>STATE</th>\n",
       "      <th>VE_TOTAL</th>\n",
       "      <th>VE_FORMS</th>\n",
       "      <th>PVH_INVL</th>\n",
       "      <th>PEDS</th>\n",
       "      <th>PERNOTMVIT</th>\n",
       "      <th>PERMVIT</th>\n",
       "      <th>PERSONS</th>\n",
       "      <th>DAY_WEEK</th>\n",
       "      <th>...</th>\n",
       "      <th>HARM_EV</th>\n",
       "      <th>MAN_COLL</th>\n",
       "      <th>RELJCT1</th>\n",
       "      <th>RELJCT2</th>\n",
       "      <th>WRK_ZONE</th>\n",
       "      <th>REL_ROAD</th>\n",
       "      <th>LGT_COND</th>\n",
       "      <th>WEATHER</th>\n",
       "      <th>FATALS</th>\n",
       "      <th>DRUNK_DR</th>\n",
       "    </tr>\n",
       "  </thead>\n",
       "  <tbody>\n",
       "    <tr>\n",
       "      <th>0</th>\n",
       "      <td>0</td>\n",
       "      <td>1</td>\n",
       "      <td>1</td>\n",
       "      <td>1</td>\n",
       "      <td>0</td>\n",
       "      <td>0</td>\n",
       "      <td>0</td>\n",
       "      <td>1</td>\n",
       "      <td>1</td>\n",
       "      <td>5</td>\n",
       "      <td>...</td>\n",
       "      <td>35.0</td>\n",
       "      <td>0.0</td>\n",
       "      <td>0.0</td>\n",
       "      <td>1.0</td>\n",
       "      <td>0</td>\n",
       "      <td>4.0</td>\n",
       "      <td>2.0</td>\n",
       "      <td>1.0</td>\n",
       "      <td>1</td>\n",
       "      <td>1</td>\n",
       "    </tr>\n",
       "    <tr>\n",
       "      <th>1</th>\n",
       "      <td>1</td>\n",
       "      <td>1</td>\n",
       "      <td>1</td>\n",
       "      <td>1</td>\n",
       "      <td>0</td>\n",
       "      <td>0</td>\n",
       "      <td>0</td>\n",
       "      <td>1</td>\n",
       "      <td>1</td>\n",
       "      <td>5</td>\n",
       "      <td>...</td>\n",
       "      <td>34.0</td>\n",
       "      <td>0.0</td>\n",
       "      <td>0.0</td>\n",
       "      <td>1.0</td>\n",
       "      <td>0</td>\n",
       "      <td>3.0</td>\n",
       "      <td>2.0</td>\n",
       "      <td>10.0</td>\n",
       "      <td>1</td>\n",
       "      <td>0</td>\n",
       "    </tr>\n",
       "    <tr>\n",
       "      <th>2</th>\n",
       "      <td>2</td>\n",
       "      <td>1</td>\n",
       "      <td>1</td>\n",
       "      <td>1</td>\n",
       "      <td>0</td>\n",
       "      <td>0</td>\n",
       "      <td>0</td>\n",
       "      <td>2</td>\n",
       "      <td>2</td>\n",
       "      <td>5</td>\n",
       "      <td>...</td>\n",
       "      <td>42.0</td>\n",
       "      <td>0.0</td>\n",
       "      <td>0.0</td>\n",
       "      <td>1.0</td>\n",
       "      <td>0</td>\n",
       "      <td>4.0</td>\n",
       "      <td>2.0</td>\n",
       "      <td>1.0</td>\n",
       "      <td>1</td>\n",
       "      <td>1</td>\n",
       "    </tr>\n",
       "    <tr>\n",
       "      <th>3</th>\n",
       "      <td>3</td>\n",
       "      <td>1</td>\n",
       "      <td>1</td>\n",
       "      <td>1</td>\n",
       "      <td>0</td>\n",
       "      <td>0</td>\n",
       "      <td>0</td>\n",
       "      <td>1</td>\n",
       "      <td>1</td>\n",
       "      <td>1</td>\n",
       "      <td>...</td>\n",
       "      <td>53.0</td>\n",
       "      <td>0.0</td>\n",
       "      <td>0.0</td>\n",
       "      <td>1.0</td>\n",
       "      <td>0</td>\n",
       "      <td>4.0</td>\n",
       "      <td>2.0</td>\n",
       "      <td>10.0</td>\n",
       "      <td>1</td>\n",
       "      <td>1</td>\n",
       "    </tr>\n",
       "    <tr>\n",
       "      <th>4</th>\n",
       "      <td>4</td>\n",
       "      <td>1</td>\n",
       "      <td>2</td>\n",
       "      <td>2</td>\n",
       "      <td>0</td>\n",
       "      <td>0</td>\n",
       "      <td>0</td>\n",
       "      <td>2</td>\n",
       "      <td>2</td>\n",
       "      <td>4</td>\n",
       "      <td>...</td>\n",
       "      <td>12.0</td>\n",
       "      <td>6.0</td>\n",
       "      <td>0.0</td>\n",
       "      <td>2.0</td>\n",
       "      <td>0</td>\n",
       "      <td>1.0</td>\n",
       "      <td>1.0</td>\n",
       "      <td>1.0</td>\n",
       "      <td>1</td>\n",
       "      <td>0</td>\n",
       "    </tr>\n",
       "  </tbody>\n",
       "</table>\n",
       "<p>5 rows × 22 columns</p>\n",
       "</div>"
      ],
      "text/plain": [
       "   Unnamed: 0  STATE  VE_TOTAL  VE_FORMS  PVH_INVL  PEDS  PERNOTMVIT  PERMVIT  \\\n",
       "0           0      1         1         1         0     0           0        1   \n",
       "1           1      1         1         1         0     0           0        1   \n",
       "2           2      1         1         1         0     0           0        2   \n",
       "3           3      1         1         1         0     0           0        1   \n",
       "4           4      1         2         2         0     0           0        2   \n",
       "\n",
       "   PERSONS  DAY_WEEK  ...  HARM_EV  MAN_COLL  RELJCT1  RELJCT2  WRK_ZONE  \\\n",
       "0        1         5  ...     35.0       0.0      0.0      1.0         0   \n",
       "1        1         5  ...     34.0       0.0      0.0      1.0         0   \n",
       "2        2         5  ...     42.0       0.0      0.0      1.0         0   \n",
       "3        1         1  ...     53.0       0.0      0.0      1.0         0   \n",
       "4        2         4  ...     12.0       6.0      0.0      2.0         0   \n",
       "\n",
       "   REL_ROAD  LGT_COND  WEATHER  FATALS  DRUNK_DR  \n",
       "0       4.0       2.0      1.0       1         1  \n",
       "1       3.0       2.0     10.0       1         0  \n",
       "2       4.0       2.0      1.0       1         1  \n",
       "3       4.0       2.0     10.0       1         1  \n",
       "4       1.0       1.0      1.0       1         0  \n",
       "\n",
       "[5 rows x 22 columns]"
      ]
     },
     "execution_count": 2,
     "metadata": {},
     "output_type": "execute_result"
    }
   ],
   "source": [
    "df_reduced = pd.read_excel('Data/accident_reduced_GOOD.xlsx')\n",
    "df_reduced.head()"
   ]
  },
  {
   "cell_type": "code",
   "execution_count": 3,
   "metadata": {},
   "outputs": [
    {
     "name": "stdout",
     "output_type": "stream",
     "text": [
      "The number of rows is        30782\n",
      "The number of attributes is  22\n"
     ]
    }
   ],
   "source": [
    "print ('The number of rows is       ', df_reduced.shape[0])\n",
    "print ('The number of attributes is ', df_reduced.shape[1])"
   ]
  },
  {
   "cell_type": "code",
   "execution_count": 4,
   "metadata": {
    "scrolled": true
   },
   "outputs": [
    {
     "data": {
      "text/html": [
       "<div>\n",
       "<style scoped>\n",
       "    .dataframe tbody tr th:only-of-type {\n",
       "        vertical-align: middle;\n",
       "    }\n",
       "\n",
       "    .dataframe tbody tr th {\n",
       "        vertical-align: top;\n",
       "    }\n",
       "\n",
       "    .dataframe thead th {\n",
       "        text-align: right;\n",
       "    }\n",
       "</style>\n",
       "<table border=\"1\" class=\"dataframe\">\n",
       "  <thead>\n",
       "    <tr style=\"text-align: right;\">\n",
       "      <th></th>\n",
       "      <th>Unnamed: 0</th>\n",
       "      <th>STATE</th>\n",
       "      <th>VE_TOTAL</th>\n",
       "      <th>VE_FORMS</th>\n",
       "      <th>PVH_INVL</th>\n",
       "      <th>PEDS</th>\n",
       "      <th>PERNOTMVIT</th>\n",
       "      <th>PERMVIT</th>\n",
       "      <th>PERSONS</th>\n",
       "      <th>DAY_WEEK</th>\n",
       "      <th>...</th>\n",
       "      <th>HARM_EV</th>\n",
       "      <th>MAN_COLL</th>\n",
       "      <th>RELJCT1</th>\n",
       "      <th>RELJCT2</th>\n",
       "      <th>WRK_ZONE</th>\n",
       "      <th>REL_ROAD</th>\n",
       "      <th>LGT_COND</th>\n",
       "      <th>WEATHER</th>\n",
       "      <th>FATALS</th>\n",
       "      <th>DRUNK_DR</th>\n",
       "    </tr>\n",
       "  </thead>\n",
       "  <tbody>\n",
       "    <tr>\n",
       "      <th>count</th>\n",
       "      <td>30782.000000</td>\n",
       "      <td>30782.000000</td>\n",
       "      <td>30782.000000</td>\n",
       "      <td>30782.000000</td>\n",
       "      <td>30782.000000</td>\n",
       "      <td>30782.000000</td>\n",
       "      <td>30782.000000</td>\n",
       "      <td>30782.000000</td>\n",
       "      <td>30782.000000</td>\n",
       "      <td>30782.000000</td>\n",
       "      <td>...</td>\n",
       "      <td>30765.000000</td>\n",
       "      <td>30713.000000</td>\n",
       "      <td>30770.000000</td>\n",
       "      <td>30743.000000</td>\n",
       "      <td>30782.000000</td>\n",
       "      <td>30742.000000</td>\n",
       "      <td>30633.000000</td>\n",
       "      <td>30528.000000</td>\n",
       "      <td>30782.000000</td>\n",
       "      <td>30782.000000</td>\n",
       "    </tr>\n",
       "    <tr>\n",
       "      <th>mean</th>\n",
       "      <td>15881.223410</td>\n",
       "      <td>27.257326</td>\n",
       "      <td>1.560295</td>\n",
       "      <td>1.525275</td>\n",
       "      <td>0.035020</td>\n",
       "      <td>0.213599</td>\n",
       "      <td>0.222533</td>\n",
       "      <td>2.290982</td>\n",
       "      <td>2.299916</td>\n",
       "      <td>4.101683</td>\n",
       "      <td>...</td>\n",
       "      <td>18.096408</td>\n",
       "      <td>1.590597</td>\n",
       "      <td>0.042931</td>\n",
       "      <td>1.992811</td>\n",
       "      <td>0.034338</td>\n",
       "      <td>2.197645</td>\n",
       "      <td>1.821793</td>\n",
       "      <td>2.741713</td>\n",
       "      <td>1.091515</td>\n",
       "      <td>0.282048</td>\n",
       "    </tr>\n",
       "    <tr>\n",
       "      <th>std</th>\n",
       "      <td>9215.836958</td>\n",
       "      <td>16.164732</td>\n",
       "      <td>0.896582</td>\n",
       "      <td>0.860231</td>\n",
       "      <td>0.264058</td>\n",
       "      <td>0.481171</td>\n",
       "      <td>0.508517</td>\n",
       "      <td>1.957383</td>\n",
       "      <td>1.962260</td>\n",
       "      <td>2.090771</td>\n",
       "      <td>...</td>\n",
       "      <td>13.917434</td>\n",
       "      <td>2.507310</td>\n",
       "      <td>0.202706</td>\n",
       "      <td>2.811779</td>\n",
       "      <td>0.295109</td>\n",
       "      <td>1.583078</td>\n",
       "      <td>0.973972</td>\n",
       "      <td>3.397274</td>\n",
       "      <td>0.367148</td>\n",
       "      <td>0.466383</td>\n",
       "    </tr>\n",
       "    <tr>\n",
       "      <th>min</th>\n",
       "      <td>0.000000</td>\n",
       "      <td>1.000000</td>\n",
       "      <td>1.000000</td>\n",
       "      <td>1.000000</td>\n",
       "      <td>0.000000</td>\n",
       "      <td>0.000000</td>\n",
       "      <td>0.000000</td>\n",
       "      <td>0.000000</td>\n",
       "      <td>0.000000</td>\n",
       "      <td>1.000000</td>\n",
       "      <td>...</td>\n",
       "      <td>1.000000</td>\n",
       "      <td>0.000000</td>\n",
       "      <td>0.000000</td>\n",
       "      <td>1.000000</td>\n",
       "      <td>0.000000</td>\n",
       "      <td>1.000000</td>\n",
       "      <td>1.000000</td>\n",
       "      <td>1.000000</td>\n",
       "      <td>1.000000</td>\n",
       "      <td>0.000000</td>\n",
       "    </tr>\n",
       "    <tr>\n",
       "      <th>25%</th>\n",
       "      <td>7919.250000</td>\n",
       "      <td>12.000000</td>\n",
       "      <td>1.000000</td>\n",
       "      <td>1.000000</td>\n",
       "      <td>0.000000</td>\n",
       "      <td>0.000000</td>\n",
       "      <td>0.000000</td>\n",
       "      <td>1.000000</td>\n",
       "      <td>1.000000</td>\n",
       "      <td>2.000000</td>\n",
       "      <td>...</td>\n",
       "      <td>9.000000</td>\n",
       "      <td>0.000000</td>\n",
       "      <td>0.000000</td>\n",
       "      <td>1.000000</td>\n",
       "      <td>0.000000</td>\n",
       "      <td>1.000000</td>\n",
       "      <td>1.000000</td>\n",
       "      <td>1.000000</td>\n",
       "      <td>1.000000</td>\n",
       "      <td>0.000000</td>\n",
       "    </tr>\n",
       "    <tr>\n",
       "      <th>50%</th>\n",
       "      <td>15865.500000</td>\n",
       "      <td>27.000000</td>\n",
       "      <td>1.000000</td>\n",
       "      <td>1.000000</td>\n",
       "      <td>0.000000</td>\n",
       "      <td>0.000000</td>\n",
       "      <td>0.000000</td>\n",
       "      <td>2.000000</td>\n",
       "      <td>2.000000</td>\n",
       "      <td>4.000000</td>\n",
       "      <td>...</td>\n",
       "      <td>12.000000</td>\n",
       "      <td>0.000000</td>\n",
       "      <td>0.000000</td>\n",
       "      <td>1.000000</td>\n",
       "      <td>0.000000</td>\n",
       "      <td>1.000000</td>\n",
       "      <td>2.000000</td>\n",
       "      <td>1.000000</td>\n",
       "      <td>1.000000</td>\n",
       "      <td>0.000000</td>\n",
       "    </tr>\n",
       "    <tr>\n",
       "      <th>75%</th>\n",
       "      <td>23676.750000</td>\n",
       "      <td>42.000000</td>\n",
       "      <td>2.000000</td>\n",
       "      <td>2.000000</td>\n",
       "      <td>0.000000</td>\n",
       "      <td>0.000000</td>\n",
       "      <td>0.000000</td>\n",
       "      <td>3.000000</td>\n",
       "      <td>3.000000</td>\n",
       "      <td>6.000000</td>\n",
       "      <td>...</td>\n",
       "      <td>30.000000</td>\n",
       "      <td>2.000000</td>\n",
       "      <td>0.000000</td>\n",
       "      <td>2.000000</td>\n",
       "      <td>0.000000</td>\n",
       "      <td>4.000000</td>\n",
       "      <td>2.000000</td>\n",
       "      <td>2.000000</td>\n",
       "      <td>1.000000</td>\n",
       "      <td>1.000000</td>\n",
       "    </tr>\n",
       "    <tr>\n",
       "      <th>max</th>\n",
       "      <td>32165.000000</td>\n",
       "      <td>56.000000</td>\n",
       "      <td>58.000000</td>\n",
       "      <td>58.000000</td>\n",
       "      <td>11.000000</td>\n",
       "      <td>16.000000</td>\n",
       "      <td>16.000000</td>\n",
       "      <td>93.000000</td>\n",
       "      <td>93.000000</td>\n",
       "      <td>7.000000</td>\n",
       "      <td>...</td>\n",
       "      <td>59.000000</td>\n",
       "      <td>11.000000</td>\n",
       "      <td>1.000000</td>\n",
       "      <td>20.000000</td>\n",
       "      <td>4.000000</td>\n",
       "      <td>11.000000</td>\n",
       "      <td>5.000000</td>\n",
       "      <td>12.000000</td>\n",
       "      <td>10.000000</td>\n",
       "      <td>3.000000</td>\n",
       "    </tr>\n",
       "  </tbody>\n",
       "</table>\n",
       "<p>8 rows × 22 columns</p>\n",
       "</div>"
      ],
      "text/plain": [
       "         Unnamed: 0         STATE      VE_TOTAL      VE_FORMS      PVH_INVL  \\\n",
       "count  30782.000000  30782.000000  30782.000000  30782.000000  30782.000000   \n",
       "mean   15881.223410     27.257326      1.560295      1.525275      0.035020   \n",
       "std     9215.836958     16.164732      0.896582      0.860231      0.264058   \n",
       "min        0.000000      1.000000      1.000000      1.000000      0.000000   \n",
       "25%     7919.250000     12.000000      1.000000      1.000000      0.000000   \n",
       "50%    15865.500000     27.000000      1.000000      1.000000      0.000000   \n",
       "75%    23676.750000     42.000000      2.000000      2.000000      0.000000   \n",
       "max    32165.000000     56.000000     58.000000     58.000000     11.000000   \n",
       "\n",
       "               PEDS    PERNOTMVIT       PERMVIT       PERSONS      DAY_WEEK  \\\n",
       "count  30782.000000  30782.000000  30782.000000  30782.000000  30782.000000   \n",
       "mean       0.213599      0.222533      2.290982      2.299916      4.101683   \n",
       "std        0.481171      0.508517      1.957383      1.962260      2.090771   \n",
       "min        0.000000      0.000000      0.000000      0.000000      1.000000   \n",
       "25%        0.000000      0.000000      1.000000      1.000000      2.000000   \n",
       "50%        0.000000      0.000000      2.000000      2.000000      4.000000   \n",
       "75%        0.000000      0.000000      3.000000      3.000000      6.000000   \n",
       "max       16.000000     16.000000     93.000000     93.000000      7.000000   \n",
       "\n",
       "       ...       HARM_EV      MAN_COLL       RELJCT1       RELJCT2  \\\n",
       "count  ...  30765.000000  30713.000000  30770.000000  30743.000000   \n",
       "mean   ...     18.096408      1.590597      0.042931      1.992811   \n",
       "std    ...     13.917434      2.507310      0.202706      2.811779   \n",
       "min    ...      1.000000      0.000000      0.000000      1.000000   \n",
       "25%    ...      9.000000      0.000000      0.000000      1.000000   \n",
       "50%    ...     12.000000      0.000000      0.000000      1.000000   \n",
       "75%    ...     30.000000      2.000000      0.000000      2.000000   \n",
       "max    ...     59.000000     11.000000      1.000000     20.000000   \n",
       "\n",
       "           WRK_ZONE      REL_ROAD      LGT_COND       WEATHER        FATALS  \\\n",
       "count  30782.000000  30742.000000  30633.000000  30528.000000  30782.000000   \n",
       "mean       0.034338      2.197645      1.821793      2.741713      1.091515   \n",
       "std        0.295109      1.583078      0.973972      3.397274      0.367148   \n",
       "min        0.000000      1.000000      1.000000      1.000000      1.000000   \n",
       "25%        0.000000      1.000000      1.000000      1.000000      1.000000   \n",
       "50%        0.000000      1.000000      2.000000      1.000000      1.000000   \n",
       "75%        0.000000      4.000000      2.000000      2.000000      1.000000   \n",
       "max        4.000000     11.000000      5.000000     12.000000     10.000000   \n",
       "\n",
       "           DRUNK_DR  \n",
       "count  30782.000000  \n",
       "mean       0.282048  \n",
       "std        0.466383  \n",
       "min        0.000000  \n",
       "25%        0.000000  \n",
       "50%        0.000000  \n",
       "75%        1.000000  \n",
       "max        3.000000  \n",
       "\n",
       "[8 rows x 22 columns]"
      ]
     },
     "execution_count": 4,
     "metadata": {},
     "output_type": "execute_result"
    }
   ],
   "source": [
    "df_reduced.describe()"
   ]
  },
  {
   "cell_type": "markdown",
   "metadata": {},
   "source": [
    "### Data cleaning"
   ]
  },
  {
   "cell_type": "markdown",
   "metadata": {},
   "source": [
    "#### Dealing with missing values\n",
    "As it was mentioned earlier, those missing values that were easily identifiable were already deleted. It is imperative to check now for missing values within the current data set. \n",
    "\n",
    "Based on our experience wth this data set, we expect missing values to be located within categorical attributes but not continuous ones."
   ]
  },
  {
   "cell_type": "code",
   "execution_count": 5,
   "metadata": {},
   "outputs": [
    {
     "data": {
      "text/plain": [
       "Unnamed: 0    False\n",
       "STATE         False\n",
       "VE_TOTAL      False\n",
       "VE_FORMS      False\n",
       "PVH_INVL      False\n",
       "PEDS          False\n",
       "PERNOTMVIT    False\n",
       "PERMVIT       False\n",
       "PERSONS       False\n",
       "DAY_WEEK      False\n",
       "HOUR           True\n",
       "ROUTE          True\n",
       "HARM_EV        True\n",
       "MAN_COLL       True\n",
       "RELJCT1        True\n",
       "RELJCT2        True\n",
       "WRK_ZONE      False\n",
       "REL_ROAD       True\n",
       "LGT_COND       True\n",
       "WEATHER        True\n",
       "FATALS        False\n",
       "DRUNK_DR      False\n",
       "dtype: bool"
      ]
     },
     "execution_count": 5,
     "metadata": {},
     "output_type": "execute_result"
    }
   ],
   "source": [
    "df_reduced.isnull().any()"
   ]
  },
  {
   "cell_type": "markdown",
   "metadata": {},
   "source": [
    "None of the continuous variables have missing values:\n",
    "\n",
    "<li> **VE_TOTAL**</li>\n",
    "<li> ** VE_FORMS**</li>\n",
    "<li> ** PVH_INVL**</li>\n",
    "<li> **PEDS**</li>\n",
    "<li> **PERNOTMVIT**</li>\n",
    "<li> **PERMVIT**</li>\n",
    "<li> **PERSONS**</li>\n",
    "<li> **FATALS**</li>\n",
    "<li> **DR_DRIVER**</li>\n",
    "\n",
    "\n",
    "We tried eliminating missing values from categorical attributes by imputing the mode, but missing values prevailed and since <a href=\"https://pandas.pydata.org/pandas-docs/stable/missing_data.html\">Pandas</a> treats missing values as zero, so deleting missing values from dataframe is the best option since some of our categorical variables are binary. \n",
    "\n",
    "So in the following two cells, we will get rid of missing values from the whole data set, and then check that the missing values are in fact out. "
   ]
  },
  {
   "cell_type": "code",
   "execution_count": 6,
   "metadata": {},
   "outputs": [],
   "source": [
    "# Drop missing values from data set\n",
    "df_reduced.dropna(inplace = True)"
   ]
  },
  {
   "cell_type": "code",
   "execution_count": 7,
   "metadata": {},
   "outputs": [
    {
     "data": {
      "text/plain": [
       "Unnamed: 0    False\n",
       "STATE         False\n",
       "VE_TOTAL      False\n",
       "VE_FORMS      False\n",
       "PVH_INVL      False\n",
       "PEDS          False\n",
       "PERNOTMVIT    False\n",
       "PERMVIT       False\n",
       "PERSONS       False\n",
       "DAY_WEEK      False\n",
       "HOUR          False\n",
       "ROUTE         False\n",
       "HARM_EV       False\n",
       "MAN_COLL      False\n",
       "RELJCT1       False\n",
       "RELJCT2       False\n",
       "WRK_ZONE      False\n",
       "REL_ROAD      False\n",
       "LGT_COND      False\n",
       "WEATHER       False\n",
       "FATALS        False\n",
       "DRUNK_DR      False\n",
       "dtype: bool"
      ]
     },
     "execution_count": 7,
     "metadata": {},
     "output_type": "execute_result"
    }
   ],
   "source": [
    "# Check that missing values are in fact gone\n",
    "df_reduced.isnull().any()"
   ]
  },
  {
   "cell_type": "markdown",
   "metadata": {},
   "source": [
    "#### Coercing values from float to integer \n",
    "The categorical attributes from the original data set were recorded as integers not floats, although we can see in the table above that many of the categoricals were read as floats for an unknown reason. For the sake of consistency, we will coerce floats to integers. This was not performed previously because presence of missing values prevented us from doing so."
   ]
  },
  {
   "cell_type": "code",
   "execution_count": 8,
   "metadata": {},
   "outputs": [],
   "source": [
    "df_reduced['HOUR'] = df_reduced.HOUR.astype(int)\n",
    "df_reduced['ROUTE'] = df_reduced.ROUTE.astype(int)\n",
    "df_reduced['HARM_EV'] = df_reduced.HARM_EV.astype(int)\n",
    "df_reduced['MAN_COLL'] = df_reduced.MAN_COLL.astype(int)\n",
    "df_reduced['RELJCT1'] = df_reduced.RELJCT1.astype(int)\n",
    "df_reduced['RELJCT2'] = df_reduced.RELJCT2.astype(int)\n",
    "df_reduced['REL_ROAD'] = df_reduced.REL_ROAD.astype(int)\n",
    "df_reduced['LGT_COND'] = df_reduced.LGT_COND.astype(int)\n",
    "df_reduced['WEATHER'] = df_reduced.WEATHER.astype(int)"
   ]
  },
  {
   "cell_type": "markdown",
   "metadata": {},
   "source": [
    "#### Deleting instances with  less than 10 values\n",
    "\n",
    "A cutoff of 10 was determined for all of the attributes, considering that for this project the intention is not to look for individual cases, but at cases that have at least a good number of observations to be considered important. The cutoff of 10 seemed appropriate because it also includes lower values that could be interesting to look at without narrowing down too much to only higher incidences. \n",
    "\n",
    "First, it is imperative to check the frequencies of each of the attributes that we believe could contain values less than 10. "
   ]
  },
  {
   "cell_type": "code",
   "execution_count": 9,
   "metadata": {
    "scrolled": true
   },
   "outputs": [
    {
     "data": {
      "text/plain": [
       "1     16036\n",
       "2     10620\n",
       "3      1685\n",
       "4       382\n",
       "5       112\n",
       "6        58\n",
       "7        25\n",
       "8        13\n",
       "9         9\n",
       "12        2\n",
       "11        2\n",
       "19        2\n",
       "31        1\n",
       "22        1\n",
       "14        1\n",
       "10        1\n",
       "58        1\n",
       "29        1\n",
       "16        1\n",
       "Name: VE_TOTAL, dtype: int64"
      ]
     },
     "execution_count": 9,
     "metadata": {},
     "output_type": "execute_result"
    }
   ],
   "source": [
    "df_reduced.VE_TOTAL.value_counts()"
   ]
  },
  {
   "cell_type": "code",
   "execution_count": 10,
   "metadata": {},
   "outputs": [],
   "source": [
    "df_reduced = df_reduced[df_reduced.VE_TOTAL != 11]\n",
    "df_reduced = df_reduced[df_reduced.VE_TOTAL != 12]\n",
    "df_reduced = df_reduced[df_reduced.VE_TOTAL != 9]"
   ]
  },
  {
   "cell_type": "code",
   "execution_count": 11,
   "metadata": {},
   "outputs": [
    {
     "data": {
      "text/plain": [
       "1     16585\n",
       "2     10340\n",
       "3      1509\n",
       "4       325\n",
       "5        98\n",
       "6        44\n",
       "7        21\n",
       "8         9\n",
       "18        2\n",
       "31        1\n",
       "14        1\n",
       "29        1\n",
       "58        1\n",
       "10        1\n",
       "19        1\n",
       "16        1\n",
       "Name: VE_FORMS, dtype: int64"
      ]
     },
     "execution_count": 11,
     "metadata": {},
     "output_type": "execute_result"
    }
   ],
   "source": [
    "df_reduced.VE_FORMS.value_counts()"
   ]
  },
  {
   "cell_type": "code",
   "execution_count": 12,
   "metadata": {
    "scrolled": true
   },
   "outputs": [
    {
     "data": {
      "text/plain": [
       "0     23246\n",
       "1      5286\n",
       "2       295\n",
       "3        61\n",
       "4        27\n",
       "5         9\n",
       "6         7\n",
       "7         5\n",
       "9         2\n",
       "11        1\n",
       "16        1\n",
       "Name: PERNOTMVIT, dtype: int64"
      ]
     },
     "execution_count": 12,
     "metadata": {},
     "output_type": "execute_result"
    }
   ],
   "source": [
    "df_reduced.PERNOTMVIT.value_counts()"
   ]
  },
  {
   "cell_type": "code",
   "execution_count": 13,
   "metadata": {},
   "outputs": [],
   "source": [
    "df_reduced = df_reduced[df_reduced.PERNOTMVIT != 16]\n",
    "df_reduced = df_reduced[df_reduced.PERNOTMVIT != 11]\n",
    "df_reduced = df_reduced[df_reduced.PERNOTMVIT != 13]\n",
    "df_reduced = df_reduced[df_reduced.PERNOTMVIT != 9]\n",
    "df_reduced = df_reduced[df_reduced.PERNOTMVIT != 7]\n",
    "df_reduced = df_reduced[df_reduced.PERNOTMVIT != 6]\n",
    "df_reduced = df_reduced[df_reduced.PERNOTMVIT != 5]"
   ]
  },
  {
   "cell_type": "code",
   "execution_count": 14,
   "metadata": {
    "scrolled": true
   },
   "outputs": [
    {
     "data": {
      "text/plain": [
       "1     11812\n",
       "2      7958\n",
       "3      4272\n",
       "4      2167\n",
       "5      1189\n",
       "6       660\n",
       "7       346\n",
       "8       206\n",
       "9        86\n",
       "10       59\n",
       "11       42\n",
       "12       28\n",
       "0        27\n",
       "13       15\n",
       "14        8\n",
       "18        6\n",
       "15        6\n",
       "16        4\n",
       "24        4\n",
       "17        2\n",
       "27        2\n",
       "22        1\n",
       "28        1\n",
       "32        1\n",
       "48        1\n",
       "93        1\n",
       "49        1\n",
       "29        1\n",
       "50        1\n",
       "23        1\n",
       "19        1\n",
       "35        1\n",
       "25        1\n",
       "20        1\n",
       "68        1\n",
       "37        1\n",
       "53        1\n",
       "Name: PERMVIT, dtype: int64"
      ]
     },
     "execution_count": 14,
     "metadata": {},
     "output_type": "execute_result"
    }
   ],
   "source": [
    "df_reduced.PERMVIT.value_counts()"
   ]
  },
  {
   "cell_type": "code",
   "execution_count": 15,
   "metadata": {},
   "outputs": [],
   "source": [
    "df_reduced = df_reduced[df_reduced.PERMVIT != 53]\n",
    "df_reduced = df_reduced[df_reduced.PERMVIT != 37]\n",
    "df_reduced = df_reduced[df_reduced.PERMVIT != 68]\n",
    "df_reduced = df_reduced[df_reduced.PERMVIT != 20]\n",
    "df_reduced = df_reduced[df_reduced.PERMVIT != 25]\n",
    "df_reduced = df_reduced[df_reduced.PERMVIT != 35]\n",
    "df_reduced = df_reduced[df_reduced.PERMVIT != 23]\n",
    "df_reduced = df_reduced[df_reduced.PERMVIT != 28]\n",
    "df_reduced = df_reduced[df_reduced.PERMVIT != 50]\n",
    "df_reduced = df_reduced[df_reduced.PERMVIT != 49]\n",
    "df_reduced = df_reduced[df_reduced.PERMVIT != 93]\n",
    "df_reduced = df_reduced[df_reduced.PERMVIT != 48]\n",
    "df_reduced = df_reduced[df_reduced.PERMVIT != 32]\n",
    "df_reduced = df_reduced[df_reduced.PERMVIT != 29]\n",
    "df_reduced = df_reduced[df_reduced.PERMVIT != 22]\n",
    "df_reduced = df_reduced[df_reduced.PERMVIT != 19]\n",
    "df_reduced = df_reduced[df_reduced.PERMVIT !=17]\n",
    "df_reduced = df_reduced[df_reduced.PERMVIT != 24]\n",
    "df_reduced = df_reduced[df_reduced.PERMVIT != 16]\n",
    "df_reduced = df_reduced[df_reduced.PERMVIT != 15]\n",
    "df_reduced = df_reduced[df_reduced.PERMVIT != 18]\n",
    "df_reduced = df_reduced[df_reduced.PERMVIT != 14]"
   ]
  },
  {
   "cell_type": "code",
   "execution_count": 16,
   "metadata": {},
   "outputs": [
    {
     "data": {
      "text/plain": [
       "0    23325\n",
       "1     5224\n",
       "2      264\n",
       "3       39\n",
       "4       17\n",
       "Name: PEDS, dtype: int64"
      ]
     },
     "execution_count": 16,
     "metadata": {},
     "output_type": "execute_result"
    }
   ],
   "source": [
    "df_reduced.PEDS.value_counts()"
   ]
  },
  {
   "cell_type": "code",
   "execution_count": 17,
   "metadata": {},
   "outputs": [
    {
     "data": {
      "text/plain": [
       "1     11717\n",
       "2      7989\n",
       "3      4306\n",
       "4      2179\n",
       "5      1200\n",
       "6       665\n",
       "7       347\n",
       "8       207\n",
       "9        84\n",
       "10       59\n",
       "11       44\n",
       "12       28\n",
       "0        27\n",
       "13       14\n",
       "27        2\n",
       "14        1\n",
       "Name: PERSONS, dtype: int64"
      ]
     },
     "execution_count": 17,
     "metadata": {},
     "output_type": "execute_result"
    }
   ],
   "source": [
    "df_reduced.PERSONS.value_counts()"
   ]
  },
  {
   "cell_type": "code",
   "execution_count": 18,
   "metadata": {},
   "outputs": [],
   "source": [
    "df_reduced = df_reduced[df_reduced.PERSONS != 27]\n",
    "df_reduced = df_reduced[df_reduced.PERSONS != 14]"
   ]
  },
  {
   "cell_type": "code",
   "execution_count": 19,
   "metadata": {
    "scrolled": true
   },
   "outputs": [
    {
     "data": {
      "text/plain": [
       "0    28150\n",
       "1      556\n",
       "2      112\n",
       "3       30\n",
       "4       11\n",
       "5        4\n",
       "7        3\n",
       "Name: PVH_INVL, dtype: int64"
      ]
     },
     "execution_count": 19,
     "metadata": {},
     "output_type": "execute_result"
    }
   ],
   "source": [
    "df_reduced.PVH_INVL.value_counts()"
   ]
  },
  {
   "cell_type": "code",
   "execution_count": 20,
   "metadata": {},
   "outputs": [],
   "source": [
    "df_reduced = df_reduced[df_reduced.PVH_INVL != 7]\n",
    "df_reduced = df_reduced[df_reduced.PVH_INVL != 5]"
   ]
  },
  {
   "cell_type": "code",
   "execution_count": 21,
   "metadata": {},
   "outputs": [
    {
     "data": {
      "text/plain": [
       "7    4957\n",
       "1    4654\n",
       "6    4361\n",
       "5    3975\n",
       "4    3725\n",
       "2    3616\n",
       "3    3571\n",
       "Name: DAY_WEEK, dtype: int64"
      ]
     },
     "execution_count": 21,
     "metadata": {},
     "output_type": "execute_result"
    }
   ],
   "source": [
    "df_reduced.DAY_WEEK.value_counts()"
   ]
  },
  {
   "cell_type": "code",
   "execution_count": 22,
   "metadata": {},
   "outputs": [
    {
     "data": {
      "text/plain": [
       "18    1676\n",
       "17    1661\n",
       "20    1636\n",
       "21    1626\n",
       "19    1583\n",
       "15    1523\n",
       "16    1490\n",
       "14    1365\n",
       "22    1359\n",
       "13    1267\n",
       "23    1178\n",
       "0     1119\n",
       "12    1101\n",
       "1     1069\n",
       "2     1066\n",
       "6     1055\n",
       "11    1031\n",
       "7     1023\n",
       "10     942\n",
       "5      890\n",
       "9      859\n",
       "3      834\n",
       "8      833\n",
       "4      673\n",
       "Name: HOUR, dtype: int64"
      ]
     },
     "execution_count": 22,
     "metadata": {},
     "output_type": "execute_result"
    }
   ],
   "source": [
    "df_reduced.HOUR.value_counts()"
   ]
  },
  {
   "cell_type": "code",
   "execution_count": 23,
   "metadata": {},
   "outputs": [
    {
     "data": {
      "text/plain": [
       "3    9168\n",
       "6    5250\n",
       "2    5044\n",
       "4    4494\n",
       "1    3650\n",
       "5    1041\n",
       "7     212\n",
       "Name: ROUTE, dtype: int64"
      ]
     },
     "execution_count": 23,
     "metadata": {},
     "output_type": "execute_result"
    }
   ],
   "source": [
    "df_reduced.ROUTE.value_counts()"
   ]
  },
  {
   "cell_type": "code",
   "execution_count": 24,
   "metadata": {},
   "outputs": [
    {
     "data": {
      "text/plain": [
       "12    11174\n",
       "8      4374\n",
       "1      2498\n",
       "42     2062\n",
       "33      961\n",
       "34      893\n",
       "35      842\n",
       "24      687\n",
       "9       677\n",
       "30      606\n",
       "32      381\n",
       "59      364\n",
       "38      348\n",
       "14      310\n",
       "31      264\n",
       "53      248\n",
       "25      239\n",
       "43      228\n",
       "5       184\n",
       "11      169\n",
       "52      158\n",
       "18      129\n",
       "15      123\n",
       "21       86\n",
       "23       85\n",
       "10       79\n",
       "58       73\n",
       "39       68\n",
       "17       61\n",
       "57       59\n",
       "19       59\n",
       "26       47\n",
       "41       39\n",
       "46       35\n",
       "20       33\n",
       "3        33\n",
       "7        30\n",
       "16       29\n",
       "54       24\n",
       "48       23\n",
       "44       22\n",
       "40       20\n",
       "49       13\n",
       "45       12\n",
       "51       10\n",
       "Name: HARM_EV, dtype: int64"
      ]
     },
     "execution_count": 24,
     "metadata": {},
     "output_type": "execute_result"
    }
   ],
   "source": [
    "df_reduced.HARM_EV.value_counts()"
   ]
  },
  {
   "cell_type": "code",
   "execution_count": 25,
   "metadata": {},
   "outputs": [
    {
     "data": {
      "text/plain": [
       "0     17658\n",
       "6      5262\n",
       "2      3036\n",
       "1      2015\n",
       "7       468\n",
       "8       308\n",
       "11       73\n",
       "9        38\n",
       "10        1\n",
       "Name: MAN_COLL, dtype: int64"
      ]
     },
     "execution_count": 25,
     "metadata": {},
     "output_type": "execute_result"
    }
   ],
   "source": [
    "df_reduced.MAN_COLL.value_counts()"
   ]
  },
  {
   "cell_type": "code",
   "execution_count": 26,
   "metadata": {},
   "outputs": [],
   "source": [
    "# Level 10 refers to Rear-to-Rear type of collision\n",
    "df_reduced = df_reduced[df_reduced.MAN_COLL != 10]"
   ]
  },
  {
   "cell_type": "code",
   "execution_count": 27,
   "metadata": {},
   "outputs": [
    {
     "data": {
      "text/plain": [
       "0    27618\n",
       "1     1240\n",
       "Name: RELJCT1, dtype: int64"
      ]
     },
     "execution_count": 27,
     "metadata": {},
     "output_type": "execute_result"
    }
   ],
   "source": [
    "df_reduced.RELJCT1.value_counts()"
   ]
  },
  {
   "cell_type": "code",
   "execution_count": 28,
   "metadata": {},
   "outputs": [
    {
     "data": {
      "text/plain": [
       "1     19782\n",
       "2      4735\n",
       "3      2211\n",
       "8       839\n",
       "5       433\n",
       "18      301\n",
       "19      213\n",
       "20      112\n",
       "4        99\n",
       "6        90\n",
       "7        43\n",
       "Name: RELJCT2, dtype: int64"
      ]
     },
     "execution_count": 28,
     "metadata": {},
     "output_type": "execute_result"
    }
   ],
   "source": [
    "df_reduced.RELJCT2.value_counts()"
   ]
  },
  {
   "cell_type": "code",
   "execution_count": 29,
   "metadata": {},
   "outputs": [
    {
     "data": {
      "text/plain": [
       "0    28287\n",
       "1      404\n",
       "4      110\n",
       "2       57\n",
       "Name: WRK_ZONE, dtype: int64"
      ]
     },
     "execution_count": 29,
     "metadata": {},
     "output_type": "execute_result"
    }
   ],
   "source": [
    "df_reduced.WRK_ZONE.value_counts()"
   ]
  },
  {
   "cell_type": "code",
   "execution_count": 30,
   "metadata": {},
   "outputs": [
    {
     "data": {
      "text/plain": [
       "1     17375\n",
       "4      9048\n",
       "3      1142\n",
       "5       507\n",
       "2       424\n",
       "8       158\n",
       "10       84\n",
       "6        56\n",
       "7        49\n",
       "11       15\n",
       "Name: REL_ROAD, dtype: int64"
      ]
     },
     "execution_count": 30,
     "metadata": {},
     "output_type": "execute_result"
    }
   ],
   "source": [
    "df_reduced.REL_ROAD.value_counts()"
   ]
  },
  {
   "cell_type": "code",
   "execution_count": 31,
   "metadata": {},
   "outputs": [
    {
     "data": {
      "text/plain": [
       "1    14009\n",
       "2     8239\n",
       "3     5283\n",
       "5      730\n",
       "4      597\n",
       "Name: LGT_COND, dtype: int64"
      ]
     },
     "execution_count": 31,
     "metadata": {},
     "output_type": "execute_result"
    }
   ],
   "source": [
    "df_reduced.LGT_COND.value_counts()"
   ]
  },
  {
   "cell_type": "code",
   "execution_count": 32,
   "metadata": {
    "scrolled": true
   },
   "outputs": [
    {
     "data": {
      "text/plain": [
       "1     20799\n",
       "10     4954\n",
       "2      2269\n",
       "5       368\n",
       "4       302\n",
       "3        95\n",
       "12       23\n",
       "6        21\n",
       "11       20\n",
       "7         7\n",
       "Name: WEATHER, dtype: int64"
      ]
     },
     "execution_count": 32,
     "metadata": {},
     "output_type": "execute_result"
    }
   ],
   "source": [
    "df_reduced.WEATHER.value_counts()"
   ]
  },
  {
   "cell_type": "code",
   "execution_count": 33,
   "metadata": {},
   "outputs": [],
   "source": [
    "df_reduced = df_reduced[df_reduced.WEATHER != 7]\n",
    "df_reduced = df_reduced[df_reduced.WEATHER != 8]"
   ]
  },
  {
   "cell_type": "code",
   "execution_count": 34,
   "metadata": {
    "scrolled": true
   },
   "outputs": [
    {
     "data": {
      "text/plain": [
       "0    20929\n",
       "1     7707\n",
       "2      213\n",
       "3        2\n",
       "Name: DRUNK_DR, dtype: int64"
      ]
     },
     "execution_count": 34,
     "metadata": {},
     "output_type": "execute_result"
    }
   ],
   "source": [
    "df_reduced.DRUNK_DR.value_counts()"
   ]
  },
  {
   "cell_type": "code",
   "execution_count": 35,
   "metadata": {},
   "outputs": [],
   "source": [
    "df_reduced = df_reduced[df_reduced.DRUNK_DR != 3]"
   ]
  },
  {
   "cell_type": "code",
   "execution_count": 36,
   "metadata": {
    "scrolled": true
   },
   "outputs": [
    {
     "data": {
      "text/plain": [
       "1    26726\n",
       "2     1753\n",
       "3      275\n",
       "4       70\n",
       "5       20\n",
       "6        5\n",
       "Name: FATALS, dtype: int64"
      ]
     },
     "execution_count": 36,
     "metadata": {},
     "output_type": "execute_result"
    }
   ],
   "source": [
    "df_reduced.FATALS.value_counts()"
   ]
  },
  {
   "cell_type": "code",
   "execution_count": 37,
   "metadata": {},
   "outputs": [],
   "source": [
    "df_reduced = df_reduced[df_reduced.FATALS != 6]"
   ]
  },
  {
   "cell_type": "markdown",
   "metadata": {},
   "source": [
    "#### Delete levels from attribute STATE\n",
    "\n",
    "The **STATE** attribute, which is a categorical, contained 56 levels (from 1 to 56)-- each one representing a state plus territories. Our analysis will only consider those states from continental U.S., including Hawaii and Alaska, then the following incidences will be removed: \n",
    "- *American Samoa*\n",
    "- *D.C*\n",
    "- *Guam*\n",
    "- *Puerto Rico*\n",
    "- *Virgin Islands*\n",
    " "
   ]
  },
  {
   "cell_type": "code",
   "execution_count": 38,
   "metadata": {},
   "outputs": [],
   "source": [
    "# Delete those states that are not part of continental USA.\n",
    "df_reduced = df_reduced[df_reduced.STATE != 3] # Delete rows that pertain to American Samoa\n",
    "df_reduced = df_reduced[df_reduced.STATE != 11] # Delete rows that pertian to D.C.\n",
    "df_reduced = df_reduced[df_reduced.STATE != 14] # Delete rows that contain Guam\n",
    "df_reduced = df_reduced[df_reduced.STATE != 43] # Delete rows that pertain to Puerto Rico\n",
    "df_reduced = df_reduced[df_reduced.STATE != 52] # Delete rows that pertain to Virgin Islands"
   ]
  },
  {
   "cell_type": "markdown",
   "metadata": {},
   "source": [
    "After deleting those states that won't be useful in this project, we check the frequencies of the remaining states to make sure that none has less than 10 observations."
   ]
  },
  {
   "cell_type": "code",
   "execution_count": 39,
   "metadata": {
    "scrolled": true
   },
   "outputs": [
    {
     "data": {
      "text/plain": [
       "6     2818\n",
       "48    2386\n",
       "12    1498\n",
       "13    1308\n",
       "37    1259\n",
       "42    1066\n",
       "36    1034\n",
       "39    1002\n",
       "17     879\n",
       "26     874\n",
       "45     861\n",
       "47     832\n",
       "1      765\n",
       "29     762\n",
       "18     744\n",
       "51     688\n",
       "21     674\n",
       "22     641\n",
       "4      631\n",
       "28     596\n",
       "40     572\n",
       "55     506\n",
       "8      504\n",
       "53     485\n",
       "34     453\n",
       "5      447\n",
       "24     436\n",
       "41     359\n",
       "27     348\n",
       "20     309\n",
       "32     286\n",
       "19     276\n",
       "9      245\n",
       "54     241\n",
       "35     235\n",
       "49     235\n",
       "30     192\n",
       "31     185\n",
       "16     151\n",
       "25     147\n",
       "23     139\n",
       "56     122\n",
       "46     114\n",
       "33     101\n",
       "38     100\n",
       "10      91\n",
       "15      81\n",
       "2       55\n",
       "50      49\n",
       "44      41\n",
       "Name: STATE, dtype: int64"
      ]
     },
     "execution_count": 39,
     "metadata": {},
     "output_type": "execute_result"
    }
   ],
   "source": [
    "df_reduced.STATE.value_counts()"
   ]
  },
  {
   "cell_type": "markdown",
   "metadata": {},
   "source": [
    "All of the states that were kept have more than 10 observations, so there is no need to perform any other actions on this variable. "
   ]
  },
  {
   "cell_type": "code",
   "execution_count": 40,
   "metadata": {
    "scrolled": true
   },
   "outputs": [
    {
     "name": "stdout",
     "output_type": "stream",
     "text": [
      "The number of rows is        28823\n",
      "The number of attributes is  22\n"
     ]
    }
   ],
   "source": [
    "print ('The number of rows is       ', df_reduced.shape[0])\n",
    "print ('The number of attributes is ', df_reduced.shape[1])"
   ]
  },
  {
   "cell_type": "markdown",
   "metadata": {},
   "source": [
    "After removing all rows that had less than 10 incidences from every attribute, and deleting the territories that do not pertain to continental USA, only 1,959 observations were removed, about 6% of the data. "
   ]
  },
  {
   "cell_type": "markdown",
   "metadata": {},
   "source": [
    "#### Properly Indexing dataframe\n",
    "\n",
    "For an unknown reason, the index of the whole data set was set to start at 0 as opposed to 1, so it was necessary for our own understanding to switch it back to starting at 1. "
   ]
  },
  {
   "cell_type": "code",
   "execution_count": 41,
   "metadata": {},
   "outputs": [],
   "source": [
    "#change index to start at 1 not 0\n",
    "df_reduced.index = np.arange(1, len(df_reduced)+1)"
   ]
  },
  {
   "cell_type": "markdown",
   "metadata": {},
   "source": [
    "#### Visualizing the first version of the \"cleaned\" data set"
   ]
  },
  {
   "cell_type": "code",
   "execution_count": 42,
   "metadata": {},
   "outputs": [
    {
     "data": {
      "text/html": [
       "<div>\n",
       "<style scoped>\n",
       "    .dataframe tbody tr th:only-of-type {\n",
       "        vertical-align: middle;\n",
       "    }\n",
       "\n",
       "    .dataframe tbody tr th {\n",
       "        vertical-align: top;\n",
       "    }\n",
       "\n",
       "    .dataframe thead th {\n",
       "        text-align: right;\n",
       "    }\n",
       "</style>\n",
       "<table border=\"1\" class=\"dataframe\">\n",
       "  <thead>\n",
       "    <tr style=\"text-align: right;\">\n",
       "      <th></th>\n",
       "      <th>Unnamed: 0</th>\n",
       "      <th>STATE</th>\n",
       "      <th>VE_TOTAL</th>\n",
       "      <th>VE_FORMS</th>\n",
       "      <th>PVH_INVL</th>\n",
       "      <th>PEDS</th>\n",
       "      <th>PERNOTMVIT</th>\n",
       "      <th>PERMVIT</th>\n",
       "      <th>PERSONS</th>\n",
       "      <th>DAY_WEEK</th>\n",
       "      <th>...</th>\n",
       "      <th>HARM_EV</th>\n",
       "      <th>MAN_COLL</th>\n",
       "      <th>RELJCT1</th>\n",
       "      <th>RELJCT2</th>\n",
       "      <th>WRK_ZONE</th>\n",
       "      <th>REL_ROAD</th>\n",
       "      <th>LGT_COND</th>\n",
       "      <th>WEATHER</th>\n",
       "      <th>FATALS</th>\n",
       "      <th>DRUNK_DR</th>\n",
       "    </tr>\n",
       "  </thead>\n",
       "  <tbody>\n",
       "    <tr>\n",
       "      <th>count</th>\n",
       "      <td>28823.000000</td>\n",
       "      <td>28823.000000</td>\n",
       "      <td>28823.000000</td>\n",
       "      <td>28823.000000</td>\n",
       "      <td>28823.000000</td>\n",
       "      <td>28823.000000</td>\n",
       "      <td>28823.000000</td>\n",
       "      <td>28823.000000</td>\n",
       "      <td>28823.000000</td>\n",
       "      <td>28823.000000</td>\n",
       "      <td>...</td>\n",
       "      <td>28823.000000</td>\n",
       "      <td>28823.000000</td>\n",
       "      <td>28823.000000</td>\n",
       "      <td>28823.000000</td>\n",
       "      <td>28823.000000</td>\n",
       "      <td>28823.000000</td>\n",
       "      <td>28823.000000</td>\n",
       "      <td>28823.000000</td>\n",
       "      <td>28823.000000</td>\n",
       "      <td>28823.000000</td>\n",
       "    </tr>\n",
       "    <tr>\n",
       "      <th>mean</th>\n",
       "      <td>16216.451167</td>\n",
       "      <td>27.862436</td>\n",
       "      <td>1.551435</td>\n",
       "      <td>1.519759</td>\n",
       "      <td>0.031676</td>\n",
       "      <td>0.205149</td>\n",
       "      <td>0.212816</td>\n",
       "      <td>2.269160</td>\n",
       "      <td>2.276828</td>\n",
       "      <td>4.097006</td>\n",
       "      <td>...</td>\n",
       "      <td>18.116088</td>\n",
       "      <td>1.611977</td>\n",
       "      <td>0.043021</td>\n",
       "      <td>2.000312</td>\n",
       "      <td>0.033029</td>\n",
       "      <td>2.195122</td>\n",
       "      <td>1.815182</td>\n",
       "      <td>2.733893</td>\n",
       "      <td>1.089963</td>\n",
       "      <td>0.281997</td>\n",
       "    </tr>\n",
       "    <tr>\n",
       "      <th>std</th>\n",
       "      <td>9234.278852</td>\n",
       "      <td>16.182681</td>\n",
       "      <td>0.740342</td>\n",
       "      <td>0.715242</td>\n",
       "      <td>0.221970</td>\n",
       "      <td>0.442517</td>\n",
       "      <td>0.458635</td>\n",
       "      <td>1.619565</td>\n",
       "      <td>1.621389</td>\n",
       "      <td>2.086971</td>\n",
       "      <td>...</td>\n",
       "      <td>13.903453</td>\n",
       "      <td>2.517900</td>\n",
       "      <td>0.202908</td>\n",
       "      <td>2.848601</td>\n",
       "      <td>0.284969</td>\n",
       "      <td>1.585693</td>\n",
       "      <td>0.972106</td>\n",
       "      <td>3.389701</td>\n",
       "      <td>0.351929</td>\n",
       "      <td>0.466114</td>\n",
       "    </tr>\n",
       "    <tr>\n",
       "      <th>min</th>\n",
       "      <td>0.000000</td>\n",
       "      <td>1.000000</td>\n",
       "      <td>1.000000</td>\n",
       "      <td>1.000000</td>\n",
       "      <td>0.000000</td>\n",
       "      <td>0.000000</td>\n",
       "      <td>0.000000</td>\n",
       "      <td>0.000000</td>\n",
       "      <td>0.000000</td>\n",
       "      <td>1.000000</td>\n",
       "      <td>...</td>\n",
       "      <td>1.000000</td>\n",
       "      <td>0.000000</td>\n",
       "      <td>0.000000</td>\n",
       "      <td>1.000000</td>\n",
       "      <td>0.000000</td>\n",
       "      <td>1.000000</td>\n",
       "      <td>1.000000</td>\n",
       "      <td>1.000000</td>\n",
       "      <td>1.000000</td>\n",
       "      <td>0.000000</td>\n",
       "    </tr>\n",
       "    <tr>\n",
       "      <th>25%</th>\n",
       "      <td>8805.500000</td>\n",
       "      <td>13.000000</td>\n",
       "      <td>1.000000</td>\n",
       "      <td>1.000000</td>\n",
       "      <td>0.000000</td>\n",
       "      <td>0.000000</td>\n",
       "      <td>0.000000</td>\n",
       "      <td>1.000000</td>\n",
       "      <td>1.000000</td>\n",
       "      <td>2.000000</td>\n",
       "      <td>...</td>\n",
       "      <td>9.000000</td>\n",
       "      <td>0.000000</td>\n",
       "      <td>0.000000</td>\n",
       "      <td>1.000000</td>\n",
       "      <td>0.000000</td>\n",
       "      <td>1.000000</td>\n",
       "      <td>1.000000</td>\n",
       "      <td>1.000000</td>\n",
       "      <td>1.000000</td>\n",
       "      <td>0.000000</td>\n",
       "    </tr>\n",
       "    <tr>\n",
       "      <th>50%</th>\n",
       "      <td>16436.000000</td>\n",
       "      <td>28.000000</td>\n",
       "      <td>1.000000</td>\n",
       "      <td>1.000000</td>\n",
       "      <td>0.000000</td>\n",
       "      <td>0.000000</td>\n",
       "      <td>0.000000</td>\n",
       "      <td>2.000000</td>\n",
       "      <td>2.000000</td>\n",
       "      <td>4.000000</td>\n",
       "      <td>...</td>\n",
       "      <td>12.000000</td>\n",
       "      <td>0.000000</td>\n",
       "      <td>0.000000</td>\n",
       "      <td>1.000000</td>\n",
       "      <td>0.000000</td>\n",
       "      <td>1.000000</td>\n",
       "      <td>2.000000</td>\n",
       "      <td>1.000000</td>\n",
       "      <td>1.000000</td>\n",
       "      <td>0.000000</td>\n",
       "    </tr>\n",
       "    <tr>\n",
       "      <th>75%</th>\n",
       "      <td>23993.500000</td>\n",
       "      <td>42.000000</td>\n",
       "      <td>2.000000</td>\n",
       "      <td>2.000000</td>\n",
       "      <td>0.000000</td>\n",
       "      <td>0.000000</td>\n",
       "      <td>0.000000</td>\n",
       "      <td>3.000000</td>\n",
       "      <td>3.000000</td>\n",
       "      <td>6.000000</td>\n",
       "      <td>...</td>\n",
       "      <td>30.000000</td>\n",
       "      <td>2.000000</td>\n",
       "      <td>0.000000</td>\n",
       "      <td>2.000000</td>\n",
       "      <td>0.000000</td>\n",
       "      <td>4.000000</td>\n",
       "      <td>2.000000</td>\n",
       "      <td>2.000000</td>\n",
       "      <td>1.000000</td>\n",
       "      <td>1.000000</td>\n",
       "    </tr>\n",
       "    <tr>\n",
       "      <th>max</th>\n",
       "      <td>32165.000000</td>\n",
       "      <td>56.000000</td>\n",
       "      <td>8.000000</td>\n",
       "      <td>8.000000</td>\n",
       "      <td>4.000000</td>\n",
       "      <td>4.000000</td>\n",
       "      <td>4.000000</td>\n",
       "      <td>13.000000</td>\n",
       "      <td>13.000000</td>\n",
       "      <td>7.000000</td>\n",
       "      <td>...</td>\n",
       "      <td>59.000000</td>\n",
       "      <td>11.000000</td>\n",
       "      <td>1.000000</td>\n",
       "      <td>20.000000</td>\n",
       "      <td>4.000000</td>\n",
       "      <td>11.000000</td>\n",
       "      <td>5.000000</td>\n",
       "      <td>12.000000</td>\n",
       "      <td>5.000000</td>\n",
       "      <td>2.000000</td>\n",
       "    </tr>\n",
       "  </tbody>\n",
       "</table>\n",
       "<p>8 rows × 22 columns</p>\n",
       "</div>"
      ],
      "text/plain": [
       "         Unnamed: 0         STATE      VE_TOTAL      VE_FORMS      PVH_INVL  \\\n",
       "count  28823.000000  28823.000000  28823.000000  28823.000000  28823.000000   \n",
       "mean   16216.451167     27.862436      1.551435      1.519759      0.031676   \n",
       "std     9234.278852     16.182681      0.740342      0.715242      0.221970   \n",
       "min        0.000000      1.000000      1.000000      1.000000      0.000000   \n",
       "25%     8805.500000     13.000000      1.000000      1.000000      0.000000   \n",
       "50%    16436.000000     28.000000      1.000000      1.000000      0.000000   \n",
       "75%    23993.500000     42.000000      2.000000      2.000000      0.000000   \n",
       "max    32165.000000     56.000000      8.000000      8.000000      4.000000   \n",
       "\n",
       "               PEDS    PERNOTMVIT       PERMVIT       PERSONS      DAY_WEEK  \\\n",
       "count  28823.000000  28823.000000  28823.000000  28823.000000  28823.000000   \n",
       "mean       0.205149      0.212816      2.269160      2.276828      4.097006   \n",
       "std        0.442517      0.458635      1.619565      1.621389      2.086971   \n",
       "min        0.000000      0.000000      0.000000      0.000000      1.000000   \n",
       "25%        0.000000      0.000000      1.000000      1.000000      2.000000   \n",
       "50%        0.000000      0.000000      2.000000      2.000000      4.000000   \n",
       "75%        0.000000      0.000000      3.000000      3.000000      6.000000   \n",
       "max        4.000000      4.000000     13.000000     13.000000      7.000000   \n",
       "\n",
       "       ...       HARM_EV      MAN_COLL       RELJCT1       RELJCT2  \\\n",
       "count  ...  28823.000000  28823.000000  28823.000000  28823.000000   \n",
       "mean   ...     18.116088      1.611977      0.043021      2.000312   \n",
       "std    ...     13.903453      2.517900      0.202908      2.848601   \n",
       "min    ...      1.000000      0.000000      0.000000      1.000000   \n",
       "25%    ...      9.000000      0.000000      0.000000      1.000000   \n",
       "50%    ...     12.000000      0.000000      0.000000      1.000000   \n",
       "75%    ...     30.000000      2.000000      0.000000      2.000000   \n",
       "max    ...     59.000000     11.000000      1.000000     20.000000   \n",
       "\n",
       "           WRK_ZONE      REL_ROAD      LGT_COND       WEATHER        FATALS  \\\n",
       "count  28823.000000  28823.000000  28823.000000  28823.000000  28823.000000   \n",
       "mean       0.033029      2.195122      1.815182      2.733893      1.089963   \n",
       "std        0.284969      1.585693      0.972106      3.389701      0.351929   \n",
       "min        0.000000      1.000000      1.000000      1.000000      1.000000   \n",
       "25%        0.000000      1.000000      1.000000      1.000000      1.000000   \n",
       "50%        0.000000      1.000000      2.000000      1.000000      1.000000   \n",
       "75%        0.000000      4.000000      2.000000      2.000000      1.000000   \n",
       "max        4.000000     11.000000      5.000000     12.000000      5.000000   \n",
       "\n",
       "           DRUNK_DR  \n",
       "count  28823.000000  \n",
       "mean       0.281997  \n",
       "std        0.466114  \n",
       "min        0.000000  \n",
       "25%        0.000000  \n",
       "50%        0.000000  \n",
       "75%        1.000000  \n",
       "max        2.000000  \n",
       "\n",
       "[8 rows x 22 columns]"
      ]
     },
     "execution_count": 42,
     "metadata": {},
     "output_type": "execute_result"
    }
   ],
   "source": [
    "df_reduced.describe()"
   ]
  },
  {
   "cell_type": "markdown",
   "metadata": {},
   "source": [
    "By using describe, it becomes evident that there are no observation with less than 10 incidences, and no missing values. "
   ]
  },
  {
   "cell_type": "code",
   "execution_count": 43,
   "metadata": {},
   "outputs": [
    {
     "data": {
      "text/plain": [
       "<matplotlib.axes._subplots.AxesSubplot at 0x1bb154f9630>"
      ]
     },
     "execution_count": 43,
     "metadata": {},
     "output_type": "execute_result"
    },
    {
     "data": {
      "image/png": "[encoded data removed]",
      "text/plain": [
       "<Figure size 2160x2160 with 1 Axes>"
      ]
     },
     "metadata": {
      "needs_background": "light"
     },
     "output_type": "display_data"
    }
   ],
   "source": [
    "df_reduced.plot(kind='box', figsize = (30, 30))"
   ]
  },
  {
   "cell_type": "markdown",
   "metadata": {
    "collapsed": true
   },
   "source": [
    "#### Outliers \n",
    "\n",
    "Considering that for these data a cutoff of 10 was established, any outlier that is displayed in the boxplot figure above is not really an outlier because even the most unusual scenarios, for instance a crash involving more than 6 cars, will have some significant representation within a one year period thus becoming not as uncommon. \n",
    "\n",
    "In this section we will review only those attributes that based on their boxplot seem odd or interesting. \n",
    "\n",
    "Based in the boxplots for each of the attributes in the above figure, VE_TOTAL (number of vehicles involved in a crash, whether in-transit or not)-- as it was expected after deleting all instances with less than 10 observations-- displays some observations outside the boxplot with a maximum value of 8. A crash involving 8 cars could be seen as an extremely unusual situation, but when our data contains 13 accidents that involved 8 cars in just one year, this cannot be considered an outlier. \n",
    "\n",
    "VE_FORMS (number of vehicles in-transport involved in crash),on the other hand, displays the exact same values as VE_TOTAL. Their means differ by 0.03 and their standard deviations differ by 0.02, making us believe that these two variables are measuring exactly the same. Therefore, VE_FORMS will be deleted next. \n",
    "\n",
    "PVH_INVL (number of parked vehicles involved in crash) displays a maximum of 4 vehicles involved in an single accident. Then again, considering the cutoff of 10,  we can be sure that even though the 25%, median, and 75% quantiles equal 0, having 11 accidents involving 4 parked vehicles is not as unusual. \n",
    "\n",
    "The high values shown in PEDS (number of people not occupants of a vehicle involved in the accident)-- considering that the min, 25%, median and 75% equal to 0-- are not outliers either, considering that there are 17 events in our data that involved at once the maximum value of 4 people. It could be argued that PEDS and PERNOTMVIT are astoundingly similar, even pertaining their means and standard deviations which differ approximately by 0.02. They are not equal. Consider that both have a maximum value of 4 people involved at once in an accident, but the number of observations clearly differ: PEDS have 11 accidents involving 4 people, while PERNOTMVIT has 27 accidents involving the same amount of people. \n",
    "\n",
    "Similar is the case involving attributes PERMVIT (number of motorists in the crash) and PERSONS (number of occupants in vehicles directly involved in the crash) as judging only their boxplots they look exactly the same, and even their values for min, 25%, 50%, 75%, and max are equal. Judging also from the non-significant difference between their means and standard deviations, we could argue that both attributes are identical. Even both are left skewed, denoting that they are not normally distributed. Nevetheless, they are not equal if we look at their frequencies, in which PERMVIT's maximum value of 13 has a frequency of 15, while PERSONS's has a frequency of 14.  table above the figure display the same exact values. Another difference comes with their median values, in which even though slight they are different: PERMVIT has 11,812 occurrences of the value 1, while PERSONS has 11,717. \n",
    "\n",
    "MAN_COLL is another categorical attribute with 11 levels. Being level 0 the median. Interesting is that largest non-outlier is equal to the 75% (level 2). One reason for this behavior could be that the frequencies after level 2 (3036), dramatically descend to 468 up to 38. A similar case is that of RELJCT2 which frequencies dramatically decrease as the levels increase. There is nothing strange for its boxplot not having lower whiskers considering that the median coresponds to level 1 which has the highest frequency of 19,782. \n",
    "\n",
    "DRUNK_DR as expected the median is 0, but interestingly enough there were 213 cases in which two drivers involved in an accident were drunk. \n",
    "\n",
    "FATALS also indicates that 1 fatality in an accident is the most scenario with 26,726 cases. Nevertheless, the case in which an accident resulted in 5 fatalities had 20 incidences in the year 2015. \n",
    "\n",
    "\n",
    "Some attributes that show nothing really interesting are: \n",
    "\n",
    "- STATE has no outliers, and it seems to be normally distributed.\n",
    "\n",
    "- DAY_WEEK is a categorical variable with only 7 levels denoting each day of the week starting from Sunday, so as it was expected it has no outliers. Surprising though is the fact that it is normally distributed. \n",
    "\n",
    "- The case of HOUR is similar to that of DAY_WEEK in the sense that their values are well-defined from 0-23. HOUR though is slightly right skewed, with a median value of 14 hours. \n",
    "\n",
    "- ROUTE is a categorical attribute with 7 different levels starting at 1. Also it is not normally distributed as it is slightly skewed to the left. The most common level is 3 with more than 9 thousand instances. \n",
    "\n",
    "- HARM_EV is another categorical attribute with 59 levels from which level 12 is the median, while the mean is approximately 18. This attribute is clearly positively skewed. \n",
    "\n",
    "- RELJCT1 is an unbalanced binary attribute, where class 0 represents about 90% of the data.  "
   ]
  },
  {
   "cell_type": "code",
   "execution_count": 44,
   "metadata": {},
   "outputs": [],
   "source": [
    "# Delete VE_FORMS as it seems to be redundant with VE_TOTAL\n",
    "df_reduced.drop('VE_FORMS', axis= 1, inplace =True)"
   ]
  },
  {
   "cell_type": "markdown",
   "metadata": {
    "collapsed": true
   },
   "source": [
    "### Data preparation for analysis\n",
    "\n",
    "Now that missing values, non-significant attributes and non-significant instances (cutoff of 10) had been removed from the data set, the next step is to prepare data for analysis. \n",
    "\n",
    "First and foremost, df_reduced will contain the discretized versions of some of the attributes that contain more than 10 levels, such as: \n",
    "\n",
    "- For attribute HARM_EV that contains 59 levels, some of which belong to the same category, we will combine levels that similar such as: Embarkement--Earth, Embarkement--Rock, Stone or Concrete, Embarkement--Material Unknown into one single level \"Embarkement\". This way it will reduce the attribute dimensionality aloowing for a more manageable one that will be easier to interpret. \n",
    "\n",
    "- Attribute HOUR has 23 levels, therefore we will discretize it and store its new values in a new column named HR_RANGE as follows: \n",
    "\n",
    "<li> **1** = 0-3 a.m. (when supposedly most of the crashes involving fatalities occur)</li>\n",
    "<li> **2** = 4-7 a.m. (morning hours before hitting the road for most people)</li>\n",
    "<li> **3** = 8-11 a.m. (rush hour to get to work)</li>\n",
    "<li> **4** = 12-15 p.m. (lunch hour)</li>\n",
    "<li> **5** = 16 - 19 p.m. (peak hour after work) </li>\n",
    "<li> **6** = 20-23 (night time)</li>\n",
    "\n",
    "Tried using pd.cut but could not get it to work the bins as we wanted, so we tried the harder way by creating a new column **HR_RANGE** derived from **HOUR**, which we will drop next. \n",
    "\n",
    "\n",
    "Derived from df_reduced, we will create four different subsets: \n",
    "\n",
    "- The first one that will be called \"df_accident\", and will contain the attribute STATE--which we haven't used for other projects-- and all the other attributes, some of which we had discretized to reduced their dimensions because they contained more than 10 levels;  \n",
    "\n",
    "- The second one called df_acc_dumm, will store the dummies of the categorical variables, including STATE. \n",
    "\n",
    "- The third one will be called \"df_reg\" where we will create a new attribute derived from STATE REGION, which will have only four levels: West (1), Midwest (2), South (3) and Northeast (4). \n",
    "\n",
    "- The fourth one called df_r_dumm will store the one-hot encoded categorical attributes.  store the one-hot encoded attributes derived from \"df_accident\" considering that most clustering techniques do not work well with categorical variables (half of our attibutes). \n",
    "\n",
    "\n",
    "We would like to test if whether one-hot encoding or not categorical attributes will play an important role in the predictive power of the final model. "
   ]
  },
  {
   "cell_type": "markdown",
   "metadata": {},
   "source": [
    "#### Creation of df_accident data frame\n",
    "\n",
    "For df_accident, we will reduce dimensionality of two attributes that we believe are important to determine the number of fatalities or to understand how and under what circumstances a fatality is more likely to happen. \n",
    "\n",
    "- HARM_EV, which describes the first injury or damage producing the crash. This attribute is made up of 20 levels, we will reduce them to six by grouping causes that are similar to each other.\n",
    "- HOUR, from 0-23 indicates the hour (in military style) in which an accident happened. We will also discretize this attribute as it was already explained in the previous cell.  "
   ]
  },
  {
   "cell_type": "code",
   "execution_count": 45,
   "metadata": {},
   "outputs": [],
   "source": [
    "# Create new data frame df_accident\n",
    "\n",
    "df_accident = df_reduced\n",
    "\n",
    "# reducing dimensionality of HARM_EV attribute by creating a new colum to store the new combined levels\n",
    "# and then drop original colum\n",
    "\n",
    "df_accident['HARM_EV_RED'] = 0\n",
    "\n",
    "# 1. Rollover (1), Fire/Explosion (2), immersion (3), Motor vehicle in transport (12), Motor vehicle parked (14). \n",
    "#will be stored in 1 as \"Causes\" for accident.\n",
    "df_accident['HARM_EV_RED'][df_accident['HARM_EV'] == 2] = 1\n",
    "df_accident['HARM_EV_RED'][df_accident['HARM_EV'] == 3] = 1\n",
    "df_accident['HARM_EV_RED'][df_accident['HARM_EV'] == 12] = 1\n",
    "df_accident['HARM_EV_RED'][df_accident['HARM_EV'] == 14] = 1\n",
    "df_accident['HARM_EV_RED'][df_accident['HARM_EV'] == 54] = 1\n",
    "df_accident['HARM_EV_RED'][df_accident['HARM_EV'] == 55] = 1\n",
    "df_accident['HARM_EV_RED'][df_accident['HARM_EV'] == 72] = 1\n",
    "df_accident['HARM_EV_RED'][df_accident['HARM_EV'] == 73] = 1\n",
    "df_accident['HARM_EV_RED'][df_accident['HARM_EV'] == 45] = 1\n",
    "df_accident['HARM_EV_RED'][df_accident['HARM_EV'] == 35] = 1\n",
    "\n",
    "\n",
    "#2. Gas Inhalation (4), Fell/Jumped from vehicle (5), Injured in vehicle (non-collision-- 6) will be stored as 2, which now \n",
    "# will become \"non-collision causes\" for accident\n",
    "df_accident['HARM_EV_RED'][df_accident['HARM_EV'] == 4] = 2\n",
    "df_accident['HARM_EV_RED'][df_accident['HARM_EV'] == 5] = 2\n",
    "df_accident['HARM_EV_RED'][df_accident['HARM_EV'] == 6] = 2\n",
    "\n",
    "# 3. pedestrian (8), Pedalcyclist (9), non-motorist on personal conveyance (15) will be stored as 3, becoming \"People cause for\n",
    "# accident\"\n",
    "df_accident['HARM_EV_RED'][df_accident['HARM_EV'] == 8] = 3\n",
    "df_accident['HARM_EV_RED'][df_accident['HARM_EV'] == 9] = 3\n",
    "df_accident['HARM_EV_RED'][df_accident['HARM_EV'] == 15] = 3\n",
    "\n",
    "# 4. Live animal (11) will be stored as 4, becoming \"Living beings cause for accident\"\n",
    "df_accident['HARM_EV_RED'][df_accident['HARM_EV'] == 11] = 4\n",
    "df_accident['HARM_EV_RED'][df_accident['HARM_EV'] == 49] = 4\n",
    "\n",
    "# 5. Post (31), Utility Pole (30) Culvert (32), Curb(33), Ditch (34), Concrete Traffic Barrier (25), \n",
    "#Traffic Signal support (46), will be stored in 5, will now become \"Traffic/road causes for accident\"\n",
    "df_accident['HARM_EV_RED'][df_accident['HARM_EV'] == 31] = 5\n",
    "df_accident['HARM_EV_RED'][df_accident['HARM_EV'] == 30] = 5\n",
    "df_accident['HARM_EV_RED'][df_accident['HARM_EV'] == 32] = 5\n",
    "df_accident['HARM_EV_RED'][df_accident['HARM_EV'] == 33] = 5\n",
    "df_accident['HARM_EV_RED'][df_accident['HARM_EV'] == 34] = 5\n",
    "df_accident['HARM_EV_RED'][df_accident['HARM_EV'] == 25] = 5\n",
    "df_accident['HARM_EV_RED'][df_accident['HARM_EV'] == 46] = 5\n",
    "df_accident['HARM_EV_RED'][df_accident['HARM_EV'] == 59] = 5\n",
    "df_accident['HARM_EV_RED'][df_accident['HARM_EV'] == 44] = 5\n",
    "\n",
    "# 6.Fence (38), Wall (39), Fire Hydrant (40), Shrubbery (41), Tree (42), Snowbank (48) \n",
    "# Thrown or falling object (16), Boulder (17), Other Object (18), Bulding (19), Bridge Pier or support (21), Bridge Rail (23),\n",
    "# Guardrail Face (24),  Other barrier (26) will be stored as 6 under what we will call now \"Barriers\". \n",
    "\n",
    "df_accident['HARM_EV_RED'][df_accident['HARM_EV'] == 38] = 6\n",
    "df_accident['HARM_EV_RED'][df_accident['HARM_EV'] == 39] = 6\n",
    "df_accident['HARM_EV_RED'][df_accident['HARM_EV'] == 40] = 6\n",
    "df_accident['HARM_EV_RED'][df_accident['HARM_EV'] == 41] = 6\n",
    "df_accident['HARM_EV_RED'][df_accident['HARM_EV'] == 42] = 6\n",
    "df_accident['HARM_EV_RED'][df_accident['HARM_EV'] == 48] = 6\n",
    "df_accident['HARM_EV_RED'][df_accident['HARM_EV'] == 16] = 6\n",
    "df_accident['HARM_EV_RED'][df_accident['HARM_EV'] == 17] = 6\n",
    "df_accident['HARM_EV_RED'][df_accident['HARM_EV'] == 18] = 6\n",
    "df_accident['HARM_EV_RED'][df_accident['HARM_EV'] == 19] = 6\n",
    "df_accident['HARM_EV_RED'][df_accident['HARM_EV'] == 21] = 6\n",
    "df_accident['HARM_EV_RED'][df_accident['HARM_EV'] == 24] = 6\n",
    "df_accident['HARM_EV_RED'][df_accident['HARM_EV'] == 26] = 6\n",
    "df_accident['HARM_EV_RED'][df_accident['HARM_EV'] == 50] = 6\n",
    "df_accident['HARM_EV_RED'][df_accident['HARM_EV'] == 51] = 6\n",
    "df_accident['HARM_EV_RED'][df_accident['HARM_EV'] == 52] = 6\n",
    "df_accident['HARM_EV_RED'][df_accident['HARM_EV'] == 53] = 6\n",
    "df_accident['HARM_EV_RED'][df_accident['HARM_EV'] == 57] = 6\n",
    "df_accident['HARM_EV_RED'][df_accident['HARM_EV'] == 58] = 6"
   ]
  },
  {
   "cell_type": "code",
   "execution_count": 46,
   "metadata": {},
   "outputs": [],
   "source": [
    "#Delete original attrubute STATE\n",
    "if 'HARM_EV' in df_accident:\n",
    "    del df_accident['HARM_EV'] "
   ]
  },
  {
   "cell_type": "code",
   "execution_count": 47,
   "metadata": {},
   "outputs": [],
   "source": [
    "# Create new column to store the discretized values for HOUR then drop original attribute. \n",
    "df_accident['HR_RANGE'] = 0\n",
    "df_accident['HR_RANGE'][df_accident['HOUR'] <=3] = 1\n",
    "df_accident['HR_RANGE'][df_accident['HOUR'] ==4] = 2\n",
    "df_accident['HR_RANGE'][df_accident['HOUR'] ==5] = 2\n",
    "df_accident['HR_RANGE'][df_accident['HOUR'] == 6] = 2\n",
    "df_accident['HR_RANGE'][df_accident['HOUR'] == 7] = 2\n",
    "df_accident['HR_RANGE'][df_accident['HOUR'] == 8] = 3\n",
    "df_accident['HR_RANGE'][df_accident['HOUR'] == 9] = 3\n",
    "df_accident['HR_RANGE'][df_accident['HOUR'] == 10] = 3\n",
    "df_accident['HR_RANGE'][df_accident['HOUR'] == 11] = 3\n",
    "df_accident['HR_RANGE'][df_accident['HOUR'] == 12] = 4\n",
    "df_accident['HR_RANGE'][df_accident['HOUR'] == 13] = 4\n",
    "df_accident['HR_RANGE'][df_accident['HOUR'] == 14] = 4\n",
    "df_accident['HR_RANGE'][df_accident['HOUR'] == 15] = 4\n",
    "df_accident['HR_RANGE'][df_accident['HOUR'] == 16] = 5\n",
    "df_accident['HR_RANGE'][df_accident['HOUR'] == 17] = 5\n",
    "df_accident['HR_RANGE'][df_accident['HOUR'] == 18] = 5\n",
    "df_accident['HR_RANGE'][df_accident['HOUR'] == 19] = 5\n",
    "df_accident['HR_RANGE'][df_accident['HOUR'] == 20] = 6\n",
    "df_accident['HR_RANGE'][df_accident['HOUR'] == 21] = 6\n",
    "df_accident['HR_RANGE'][df_accident['HOUR'] == 22] = 6\n",
    "df_accident['HR_RANGE'][df_accident['HOUR'] == 23] = 6"
   ]
  },
  {
   "cell_type": "code",
   "execution_count": 48,
   "metadata": {},
   "outputs": [],
   "source": [
    "#Delete original attrubute HOUR\n",
    "if 'HOUR' in df_accident:\n",
    "    del df_accident['HOUR'] "
   ]
  },
  {
   "cell_type": "code",
   "execution_count": 49,
   "metadata": {
    "scrolled": false
   },
   "outputs": [
    {
     "data": {
      "text/html": [
       "<div>\n",
       "<style scoped>\n",
       "    .dataframe tbody tr th:only-of-type {\n",
       "        vertical-align: middle;\n",
       "    }\n",
       "\n",
       "    .dataframe tbody tr th {\n",
       "        vertical-align: top;\n",
       "    }\n",
       "\n",
       "    .dataframe thead th {\n",
       "        text-align: right;\n",
       "    }\n",
       "</style>\n",
       "<table border=\"1\" class=\"dataframe\">\n",
       "  <thead>\n",
       "    <tr style=\"text-align: right;\">\n",
       "      <th></th>\n",
       "      <th>Unnamed: 0</th>\n",
       "      <th>STATE</th>\n",
       "      <th>VE_TOTAL</th>\n",
       "      <th>PVH_INVL</th>\n",
       "      <th>PEDS</th>\n",
       "      <th>PERNOTMVIT</th>\n",
       "      <th>PERMVIT</th>\n",
       "      <th>PERSONS</th>\n",
       "      <th>DAY_WEEK</th>\n",
       "      <th>ROUTE</th>\n",
       "      <th>...</th>\n",
       "      <th>RELJCT1</th>\n",
       "      <th>RELJCT2</th>\n",
       "      <th>WRK_ZONE</th>\n",
       "      <th>REL_ROAD</th>\n",
       "      <th>LGT_COND</th>\n",
       "      <th>WEATHER</th>\n",
       "      <th>FATALS</th>\n",
       "      <th>DRUNK_DR</th>\n",
       "      <th>HARM_EV_RED</th>\n",
       "      <th>HR_RANGE</th>\n",
       "    </tr>\n",
       "  </thead>\n",
       "  <tbody>\n",
       "    <tr>\n",
       "      <th>count</th>\n",
       "      <td>28823.000000</td>\n",
       "      <td>28823.000000</td>\n",
       "      <td>28823.000000</td>\n",
       "      <td>28823.000000</td>\n",
       "      <td>28823.000000</td>\n",
       "      <td>28823.000000</td>\n",
       "      <td>28823.000000</td>\n",
       "      <td>28823.000000</td>\n",
       "      <td>28823.000000</td>\n",
       "      <td>28823.000000</td>\n",
       "      <td>...</td>\n",
       "      <td>28823.000000</td>\n",
       "      <td>28823.000000</td>\n",
       "      <td>28823.000000</td>\n",
       "      <td>28823.000000</td>\n",
       "      <td>28823.000000</td>\n",
       "      <td>28823.000000</td>\n",
       "      <td>28823.000000</td>\n",
       "      <td>28823.000000</td>\n",
       "      <td>28823.000000</td>\n",
       "      <td>28823.000000</td>\n",
       "    </tr>\n",
       "    <tr>\n",
       "      <th>mean</th>\n",
       "      <td>16216.451167</td>\n",
       "      <td>27.862436</td>\n",
       "      <td>1.551435</td>\n",
       "      <td>0.031676</td>\n",
       "      <td>0.205149</td>\n",
       "      <td>0.212816</td>\n",
       "      <td>2.269160</td>\n",
       "      <td>2.276828</td>\n",
       "      <td>4.097006</td>\n",
       "      <td>3.373903</td>\n",
       "      <td>...</td>\n",
       "      <td>0.043021</td>\n",
       "      <td>2.000312</td>\n",
       "      <td>0.033029</td>\n",
       "      <td>2.195122</td>\n",
       "      <td>1.815182</td>\n",
       "      <td>2.733893</td>\n",
       "      <td>1.089963</td>\n",
       "      <td>0.281997</td>\n",
       "      <td>2.532561</td>\n",
       "      <td>3.819484</td>\n",
       "    </tr>\n",
       "    <tr>\n",
       "      <th>std</th>\n",
       "      <td>9234.278852</td>\n",
       "      <td>16.182681</td>\n",
       "      <td>0.740342</td>\n",
       "      <td>0.221970</td>\n",
       "      <td>0.442517</td>\n",
       "      <td>0.458635</td>\n",
       "      <td>1.619565</td>\n",
       "      <td>1.621389</td>\n",
       "      <td>2.086971</td>\n",
       "      <td>1.609935</td>\n",
       "      <td>...</td>\n",
       "      <td>0.202908</td>\n",
       "      <td>2.848601</td>\n",
       "      <td>0.284969</td>\n",
       "      <td>1.585693</td>\n",
       "      <td>0.972106</td>\n",
       "      <td>3.389701</td>\n",
       "      <td>0.351929</td>\n",
       "      <td>0.466114</td>\n",
       "      <td>2.066207</td>\n",
       "      <td>1.702918</td>\n",
       "    </tr>\n",
       "    <tr>\n",
       "      <th>min</th>\n",
       "      <td>0.000000</td>\n",
       "      <td>1.000000</td>\n",
       "      <td>1.000000</td>\n",
       "      <td>0.000000</td>\n",
       "      <td>0.000000</td>\n",
       "      <td>0.000000</td>\n",
       "      <td>0.000000</td>\n",
       "      <td>0.000000</td>\n",
       "      <td>1.000000</td>\n",
       "      <td>1.000000</td>\n",
       "      <td>...</td>\n",
       "      <td>0.000000</td>\n",
       "      <td>1.000000</td>\n",
       "      <td>0.000000</td>\n",
       "      <td>1.000000</td>\n",
       "      <td>1.000000</td>\n",
       "      <td>1.000000</td>\n",
       "      <td>1.000000</td>\n",
       "      <td>0.000000</td>\n",
       "      <td>0.000000</td>\n",
       "      <td>1.000000</td>\n",
       "    </tr>\n",
       "    <tr>\n",
       "      <th>25%</th>\n",
       "      <td>8805.500000</td>\n",
       "      <td>13.000000</td>\n",
       "      <td>1.000000</td>\n",
       "      <td>0.000000</td>\n",
       "      <td>0.000000</td>\n",
       "      <td>0.000000</td>\n",
       "      <td>1.000000</td>\n",
       "      <td>1.000000</td>\n",
       "      <td>2.000000</td>\n",
       "      <td>2.000000</td>\n",
       "      <td>...</td>\n",
       "      <td>0.000000</td>\n",
       "      <td>1.000000</td>\n",
       "      <td>0.000000</td>\n",
       "      <td>1.000000</td>\n",
       "      <td>1.000000</td>\n",
       "      <td>1.000000</td>\n",
       "      <td>1.000000</td>\n",
       "      <td>0.000000</td>\n",
       "      <td>1.000000</td>\n",
       "      <td>2.000000</td>\n",
       "    </tr>\n",
       "    <tr>\n",
       "      <th>50%</th>\n",
       "      <td>16436.000000</td>\n",
       "      <td>28.000000</td>\n",
       "      <td>1.000000</td>\n",
       "      <td>0.000000</td>\n",
       "      <td>0.000000</td>\n",
       "      <td>0.000000</td>\n",
       "      <td>2.000000</td>\n",
       "      <td>2.000000</td>\n",
       "      <td>4.000000</td>\n",
       "      <td>3.000000</td>\n",
       "      <td>...</td>\n",
       "      <td>0.000000</td>\n",
       "      <td>1.000000</td>\n",
       "      <td>0.000000</td>\n",
       "      <td>1.000000</td>\n",
       "      <td>2.000000</td>\n",
       "      <td>1.000000</td>\n",
       "      <td>1.000000</td>\n",
       "      <td>0.000000</td>\n",
       "      <td>1.000000</td>\n",
       "      <td>4.000000</td>\n",
       "    </tr>\n",
       "    <tr>\n",
       "      <th>75%</th>\n",
       "      <td>23993.500000</td>\n",
       "      <td>42.000000</td>\n",
       "      <td>2.000000</td>\n",
       "      <td>0.000000</td>\n",
       "      <td>0.000000</td>\n",
       "      <td>0.000000</td>\n",
       "      <td>3.000000</td>\n",
       "      <td>3.000000</td>\n",
       "      <td>6.000000</td>\n",
       "      <td>4.000000</td>\n",
       "      <td>...</td>\n",
       "      <td>0.000000</td>\n",
       "      <td>2.000000</td>\n",
       "      <td>0.000000</td>\n",
       "      <td>4.000000</td>\n",
       "      <td>2.000000</td>\n",
       "      <td>2.000000</td>\n",
       "      <td>1.000000</td>\n",
       "      <td>1.000000</td>\n",
       "      <td>5.000000</td>\n",
       "      <td>5.000000</td>\n",
       "    </tr>\n",
       "    <tr>\n",
       "      <th>max</th>\n",
       "      <td>32165.000000</td>\n",
       "      <td>56.000000</td>\n",
       "      <td>8.000000</td>\n",
       "      <td>4.000000</td>\n",
       "      <td>4.000000</td>\n",
       "      <td>4.000000</td>\n",
       "      <td>13.000000</td>\n",
       "      <td>13.000000</td>\n",
       "      <td>7.000000</td>\n",
       "      <td>7.000000</td>\n",
       "      <td>...</td>\n",
       "      <td>1.000000</td>\n",
       "      <td>20.000000</td>\n",
       "      <td>4.000000</td>\n",
       "      <td>11.000000</td>\n",
       "      <td>5.000000</td>\n",
       "      <td>12.000000</td>\n",
       "      <td>5.000000</td>\n",
       "      <td>2.000000</td>\n",
       "      <td>6.000000</td>\n",
       "      <td>6.000000</td>\n",
       "    </tr>\n",
       "  </tbody>\n",
       "</table>\n",
       "<p>8 rows × 21 columns</p>\n",
       "</div>"
      ],
      "text/plain": [
       "         Unnamed: 0         STATE      VE_TOTAL      PVH_INVL          PEDS  \\\n",
       "count  28823.000000  28823.000000  28823.000000  28823.000000  28823.000000   \n",
       "mean   16216.451167     27.862436      1.551435      0.031676      0.205149   \n",
       "std     9234.278852     16.182681      0.740342      0.221970      0.442517   \n",
       "min        0.000000      1.000000      1.000000      0.000000      0.000000   \n",
       "25%     8805.500000     13.000000      1.000000      0.000000      0.000000   \n",
       "50%    16436.000000     28.000000      1.000000      0.000000      0.000000   \n",
       "75%    23993.500000     42.000000      2.000000      0.000000      0.000000   \n",
       "max    32165.000000     56.000000      8.000000      4.000000      4.000000   \n",
       "\n",
       "         PERNOTMVIT       PERMVIT       PERSONS      DAY_WEEK         ROUTE  \\\n",
       "count  28823.000000  28823.000000  28823.000000  28823.000000  28823.000000   \n",
       "mean       0.212816      2.269160      2.276828      4.097006      3.373903   \n",
       "std        0.458635      1.619565      1.621389      2.086971      1.609935   \n",
       "min        0.000000      0.000000      0.000000      1.000000      1.000000   \n",
       "25%        0.000000      1.000000      1.000000      2.000000      2.000000   \n",
       "50%        0.000000      2.000000      2.000000      4.000000      3.000000   \n",
       "75%        0.000000      3.000000      3.000000      6.000000      4.000000   \n",
       "max        4.000000     13.000000     13.000000      7.000000      7.000000   \n",
       "\n",
       "       ...       RELJCT1       RELJCT2      WRK_ZONE      REL_ROAD  \\\n",
       "count  ...  28823.000000  28823.000000  28823.000000  28823.000000   \n",
       "mean   ...      0.043021      2.000312      0.033029      2.195122   \n",
       "std    ...      0.202908      2.848601      0.284969      1.585693   \n",
       "min    ...      0.000000      1.000000      0.000000      1.000000   \n",
       "25%    ...      0.000000      1.000000      0.000000      1.000000   \n",
       "50%    ...      0.000000      1.000000      0.000000      1.000000   \n",
       "75%    ...      0.000000      2.000000      0.000000      4.000000   \n",
       "max    ...      1.000000     20.000000      4.000000     11.000000   \n",
       "\n",
       "           LGT_COND       WEATHER        FATALS      DRUNK_DR   HARM_EV_RED  \\\n",
       "count  28823.000000  28823.000000  28823.000000  28823.000000  28823.000000   \n",
       "mean       1.815182      2.733893      1.089963      0.281997      2.532561   \n",
       "std        0.972106      3.389701      0.351929      0.466114      2.066207   \n",
       "min        1.000000      1.000000      1.000000      0.000000      0.000000   \n",
       "25%        1.000000      1.000000      1.000000      0.000000      1.000000   \n",
       "50%        2.000000      1.000000      1.000000      0.000000      1.000000   \n",
       "75%        2.000000      2.000000      1.000000      1.000000      5.000000   \n",
       "max        5.000000     12.000000      5.000000      2.000000      6.000000   \n",
       "\n",
       "           HR_RANGE  \n",
       "count  28823.000000  \n",
       "mean       3.819484  \n",
       "std        1.702918  \n",
       "min        1.000000  \n",
       "25%        2.000000  \n",
       "50%        4.000000  \n",
       "75%        5.000000  \n",
       "max        6.000000  \n",
       "\n",
       "[8 rows x 21 columns]"
      ]
     },
     "execution_count": 49,
     "metadata": {},
     "output_type": "execute_result"
    }
   ],
   "source": [
    "df_accident.describe()"
   ]
  },
  {
   "cell_type": "code",
   "execution_count": 50,
   "metadata": {},
   "outputs": [
    {
     "name": "stdout",
     "output_type": "stream",
     "text": [
      "<class 'pandas.core.frame.DataFrame'>\n",
      "Int64Index: 28823 entries, 1 to 28823\n",
      "Data columns (total 21 columns):\n",
      "Unnamed: 0     28823 non-null int64\n",
      "STATE          28823 non-null int64\n",
      "VE_TOTAL       28823 non-null int64\n",
      "PVH_INVL       28823 non-null int64\n",
      "PEDS           28823 non-null int64\n",
      "PERNOTMVIT     28823 non-null int64\n",
      "PERMVIT        28823 non-null int64\n",
      "PERSONS        28823 non-null int64\n",
      "DAY_WEEK       28823 non-null int64\n",
      "ROUTE          28823 non-null int32\n",
      "MAN_COLL       28823 non-null int32\n",
      "RELJCT1        28823 non-null int32\n",
      "RELJCT2        28823 non-null int32\n",
      "WRK_ZONE       28823 non-null int64\n",
      "REL_ROAD       28823 non-null int32\n",
      "LGT_COND       28823 non-null int32\n",
      "WEATHER        28823 non-null int32\n",
      "FATALS         28823 non-null int64\n",
      "DRUNK_DR       28823 non-null int64\n",
      "HARM_EV_RED    28823 non-null int64\n",
      "HR_RANGE       28823 non-null int64\n",
      "dtypes: int32(7), int64(14)\n",
      "memory usage: 4.1 MB\n"
     ]
    }
   ],
   "source": [
    "df_accident.info()"
   ]
  },
  {
   "cell_type": "markdown",
   "metadata": {},
   "source": [
    "From describe, We can see the newly created attributes: REGION, HARM_EV_RED and HR_RANGE, each with the newer number levels that were determined. \n",
    "\n",
    "Let's now visualize the attributes in order to find more information about each. "
   ]
  },
  {
   "cell_type": "code",
   "execution_count": 51,
   "metadata": {
    "scrolled": true
   },
   "outputs": [
    {
     "data": {
      "text/plain": [
       "<matplotlib.axes._subplots.AxesSubplot at 0x1bb14bfa978>"
      ]
     },
     "execution_count": 51,
     "metadata": {},
     "output_type": "execute_result"
    },
    {
     "data": {
      "image/png": "[encoded data removed]",
      "text/plain": [
       "<Figure size 2160x2160 with 1 Axes>"
      ]
     },
     "metadata": {
      "needs_background": "light"
     },
     "output_type": "display_data"
    }
   ],
   "source": [
    "df_accident.plot(kind='box', figsize = (30, 30))"
   ]
  },
  {
   "cell_type": "markdown",
   "metadata": {
    "collapsed": true
   },
   "source": [
    "The boxplots above do not differ much from the previously graphed ones, and that's what we expected. The newly created attributes, particularly REGION, HARM_EV_RED and HR_RANGE display a somewhat normal distribution as opposed to the variables from which they were derived, and no points that could be considered as outliers, so from this standpoint, the discretization was a good choice. "
   ]
  },
  {
   "cell_type": "markdown",
   "metadata": {},
   "source": [
    "#### Is weather the cause for most fatalities?"
   ]
  },
  {
   "cell_type": "code",
   "execution_count": 52,
   "metadata": {
    "scrolled": true
   },
   "outputs": [
    {
     "data": {
      "image/png": "[encoded data removed]",
      "text/plain": [
       "<Figure size 432x288 with 1 Axes>"
      ]
     },
     "metadata": {
      "needs_background": "light"
     },
     "output_type": "display_data"
    }
   ],
   "source": [
    "#df_reduced.plot(x='HR_RANGE', y = 'FATALS', kind = 'scatter')\n",
    "\n",
    "df_WTR= df_accident.groupby(by=['WEATHER'])\n",
    "\n",
    "# Sum number of Fatalities\n",
    "fatal_weather = df_WTR.FATALS.sum()\n",
    "\n",
    "# Graph Chart\n",
    "plt.xlabel('Total Fatalities')\n",
    "g_fatal_weather = fatal_weather.plot(kind='barh')"
   ]
  },
  {
   "cell_type": "markdown",
   "metadata": {},
   "source": [
    "The bar plot above is quite interesting as it shows that at least for the year 2015, about 25,000 fatalities were not related to bad weather (0, means no  additional weather conditions). About 2,500 were caused by rainy conditions (2), less than 2,000 by either snow (4), fog or smoke(5), and quite interesting more than 5,000 occur under cloudy (10) conditions. "
   ]
  },
  {
   "cell_type": "markdown",
   "metadata": {},
   "source": [
    "#### Is the lighting condition a main cause for accidents with a great number of fatalities?"
   ]
  },
  {
   "cell_type": "code",
   "execution_count": 53,
   "metadata": {
    "scrolled": true
   },
   "outputs": [
    {
     "data": {
      "image/png": "[encoded data removed]",
      "text/plain": [
       "<Figure size 432x288 with 1 Axes>"
      ]
     },
     "metadata": {
      "needs_background": "light"
     },
     "output_type": "display_data"
    }
   ],
   "source": [
    "\n",
    "\n",
    "df_lgt= df_accident.groupby(by=['LGT_COND'])\n",
    "\n",
    "# Sum number of Fatalities\n",
    "fatal_cond = df_lgt.FATALS.sum()\n",
    "\n",
    "# Graph Chart\n",
    "plt.xlabel('Total Fatalities')\n",
    "g_fatal_cond = fatal_cond.plot(kind='barh')"
   ]
  },
  {
   "cell_type": "markdown",
   "metadata": {},
   "source": [
    "Based on the above graph, we can argue that most accidents in which there were about 14,500 deaths that happened in plain daylight (0). Complete darkeness (2) was the cause for more than 8,000 accidents in 2015, while partial darkness (3) was the cause of almost 6,000 fatalities. "
   ]
  },
  {
   "cell_type": "markdown",
   "metadata": {},
   "source": [
    "#### Weather and tota number accidents\n",
    "\n",
    "We have already seen that most fatalities happen under normal weather conditions, but what about the total number accidents?"
   ]
  },
  {
   "cell_type": "code",
   "execution_count": 54,
   "metadata": {
    "scrolled": false
   },
   "outputs": [
    {
     "data": {
      "image/png": "[encoded data removed]",
      "text/plain": [
       "<Figure size 432x288 with 1 Axes>"
      ]
     },
     "metadata": {
      "needs_background": "light"
     },
     "output_type": "display_data"
    }
   ],
   "source": [
    "\n",
    "df_weath= df_accident.groupby(by=['WEATHER'])\n",
    "\n",
    "# Sum number of Fatalities\n",
    "fatal_accidents = df_weath.VE_TOTAL.sum()\n",
    "\n",
    "# Graph Chart\n",
    "plt.xlabel('Total Accidents')\n",
    "g_fatal_accidents = fatal_accidents.plot(kind='barh')"
   ]
  },
  {
   "cell_type": "markdown",
   "metadata": {},
   "source": [
    "At first sight the bar plots between WEATHER and FATALS, and WEATHER and VE_TOTAL look alike. But if we look beyond appearances, it is possible to see that the number of ttotal accidents under normal weather conditions in the year 2015 exceed the 30,000 occurrences; there were about 25,000 fatalities that happened under the same conditions. Also there were more than 3,000 total accidents that happened due to the rain (2) --in comparison to about 2,500 fatalities under the same condition--, and about 7,500 under cloudy (10) conditions --a little over 5,000 fatalities happened under the same conditions. "
   ]
  },
  {
   "cell_type": "markdown",
   "metadata": {},
   "source": [
    "#### Deadly states\n",
    "\n",
    "Are there any states that concentrate a vast number of the total fatalities due to traffic accidents? We tend to believe that states with a higher concentration of inhabitants will result in a higher number of fatalities.  "
   ]
  },
  {
   "cell_type": "code",
   "execution_count": 55,
   "metadata": {
    "scrolled": true
   },
   "outputs": [
    {
     "data": {
      "image/png": "[encoded data removed]",
      "text/plain": [
       "<Figure size 2160x2160 with 1 Axes>"
      ]
     },
     "metadata": {
      "needs_background": "light"
     },
     "output_type": "display_data"
    }
   ],
   "source": [
    "# create a temporary data frame, grouping data by state \n",
    "\n",
    "df_st= df_accident.groupby(by=['STATE'])\n",
    "\n",
    "# Sum number of Fatalities on a new variable that will be used to plot\n",
    "fatal_states = df_st.FATALS.sum()\n",
    "\n",
    "# Graph Chart\n",
    "plt.xlabel('Total Fatalities')\n",
    "g_fatal_states = fatal_states.plot(kind='barh', figsize = (30,30))"
   ]
  },
  {
   "cell_type": "markdown",
   "metadata": {},
   "source": [
    "Data shows that for the year 2015, Calirofnia (6) concentrated a little over 3,000 of the total fatalities, followed by Texas (48) with about 2,750. Alaska (2) presented the lowest fatality numbers at less than 100, but it is important to put in perspective the number of inhabitants of Alaska (737,709) in comparison to CA (39 million) and TX (27 million), and with the rest of the states to determine if in fact is significant."
   ]
  },
  {
   "cell_type": "markdown",
   "metadata": {},
   "source": [
    "#### Creation of df_acc_dum data frame\n",
    "\n",
    "This particular dataframe will store the categorical attributes to which we will perform a one-hot encoding. Then, we will drop the attributes from which they were derived. "
   ]
  },
  {
   "cell_type": "code",
   "execution_count": 56,
   "metadata": {},
   "outputs": [],
   "source": [
    "df_acc_dum = df_accident.copy(deep=True)"
   ]
  },
  {
   "cell_type": "markdown",
   "metadata": {},
   "source": [
    "#### One-hot encoding of df_acc_dum categoricals"
   ]
  },
  {
   "cell_type": "code",
   "execution_count": 57,
   "metadata": {},
   "outputs": [],
   "source": [
    "# Create dummy variable from STATE attribute\n",
    "#st_df = pd.get_dummies(df_acc_dum.STATE,prefix='ST')\n",
    "#df_acc_dum = pd.concat((df_acc_dum, st_df), axis =1)"
   ]
  },
  {
   "cell_type": "code",
   "execution_count": 58,
   "metadata": {},
   "outputs": [],
   "source": [
    "# Create dummy variable from ROUTE attribute\n",
    "rte_df = pd.get_dummies(df_acc_dum.ROUTE,prefix='ROUTE')\n",
    "df_acc_dum = pd.concat((df_acc_dum, rte_df), axis =1)"
   ]
  },
  {
   "cell_type": "code",
   "execution_count": 59,
   "metadata": {},
   "outputs": [],
   "source": [
    "# Create dummy variable from HARM_EV attribute\n",
    "harm_ev_df = pd.get_dummies(df_acc_dum.HARM_EV_RED,prefix='HARM_RED')\n",
    "df_acc_dum = pd.concat((df_acc_dum, harm_ev_df), axis =1)"
   ]
  },
  {
   "cell_type": "code",
   "execution_count": 60,
   "metadata": {},
   "outputs": [],
   "source": [
    "# Create dummy variable from RELJCT2 attribute\n",
    "rjct_df = pd.get_dummies(df_acc_dum.RELJCT2,prefix='RELJCT2')\n",
    "df_acc_dum = pd.concat((df_acc_dum, rjct_df), axis =1)"
   ]
  },
  {
   "cell_type": "code",
   "execution_count": 61,
   "metadata": {},
   "outputs": [],
   "source": [
    "# Create dummy variable from WRK_ZONE attribute\n",
    "wzone_df = pd.get_dummies(df_acc_dum.WRK_ZONE,prefix='WRK_ZONE')\n",
    "df_acc_dum = pd.concat((df_acc_dum, wzone_df), axis =1)"
   ]
  },
  {
   "cell_type": "code",
   "execution_count": 62,
   "metadata": {},
   "outputs": [],
   "source": [
    "# Create dummy variable from REL_ROAD attribute\n",
    "rrd_df = pd.get_dummies(df_acc_dum.REL_ROAD,prefix='REL_ROAD')\n",
    "df_acc_dum = pd.concat((df_acc_dum, rrd_df), axis =1)"
   ]
  },
  {
   "cell_type": "code",
   "execution_count": 63,
   "metadata": {},
   "outputs": [],
   "source": [
    "# Create dummy variable from LGT_COND attribute\n",
    "lcond_df = pd.get_dummies(df_acc_dum.LGT_COND,prefix='LGT_COND')\n",
    "df_acc_dum = pd.concat((df_acc_dum, lcond_df), axis =1)"
   ]
  },
  {
   "cell_type": "code",
   "execution_count": 64,
   "metadata": {},
   "outputs": [],
   "source": [
    "# Create dummy variable from WEATHER attribute\n",
    "wth_df = pd.get_dummies(df_acc_dum.WEATHER,prefix='WEATHER')\n",
    "df_acc_dum = pd.concat((df_acc_dum, wth_df), axis =1)"
   ]
  },
  {
   "cell_type": "code",
   "execution_count": 65,
   "metadata": {},
   "outputs": [],
   "source": [
    "# Create dummy variable from DAY_WEEK attribute\n",
    "daywk_df = pd.get_dummies(df_acc_dum.DAY_WEEK,prefix='DAY_WEEK')\n",
    "df_acc_dum = pd.concat((df_acc_dum, daywk_df), axis =1)"
   ]
  },
  {
   "cell_type": "code",
   "execution_count": 66,
   "metadata": {},
   "outputs": [],
   "source": [
    "# Create dummy variable from HR_RANGE attribute\n",
    "h_range = pd.get_dummies(df_acc_dum.HR_RANGE,prefix='HR_RANGE')\n",
    "df_acc_dum = pd.concat((df_acc_dum, h_range), axis =1)"
   ]
  },
  {
   "cell_type": "code",
   "execution_count": 67,
   "metadata": {},
   "outputs": [],
   "source": [
    "# # Create dummy variable from MAN_COLL attribute\n",
    "m_coll = pd.get_dummies(df_acc_dum.MAN_COLL,prefix='MAN_COLL')\n",
    "df_acc_dum = pd.concat((df_acc_dum, m_coll), axis =1)"
   ]
  },
  {
   "cell_type": "code",
   "execution_count": 68,
   "metadata": {},
   "outputs": [],
   "source": [
    "# To clean df_accident, drop those attributes from which the dummy variables were derived\n",
    "    \n",
    "if 'ROUTE' in df_acc_dum:\n",
    "    del df_acc_dum['ROUTE'] \n",
    "\n",
    "    \n",
    "if 'HARM_EV' in df_acc_dum:\n",
    "    del df_acc_dum['HARM_EV_RED'] \n",
    "    \n",
    "if 'RELJCT2' in df_acc_dum:\n",
    "    del df_acc_dum['RELJCT2'] \n",
    "\n",
    "    \n",
    "if 'WRK_ZONE' in df_acc_dum:\n",
    "    del df_acc_dum['WRK_ZONE'] \n",
    "    \n",
    "if 'REL_ROAD' in df_acc_dum:\n",
    "    del df_acc_dum['REL_ROAD'] \n",
    "    \n",
    "if 'LGT_COND' in df_acc_dum:\n",
    "    del df_acc_dum['LGT_COND'] \n",
    "    \n",
    "if 'WEATHER' in df_acc_dum:\n",
    "    del df_acc_dum['WEATHER'] \n",
    "    \n",
    "\n",
    "if 'DAY_WEEK' in df_acc_dum:\n",
    "    del df_acc_dum['DAY_WEEK']\n",
    "    \n",
    "if 'HR_RANGE' in df_acc_dum:\n",
    "    del df_acc_dum['HR_RANGE']\n",
    "\n",
    "    \n",
    "if 'MAN_COLL' in df_acc_dum:\n",
    "    del df_acc_dum['MAN_COLL']\n",
    "    "
   ]
  },
  {
   "cell_type": "code",
   "execution_count": 69,
   "metadata": {},
   "outputs": [
    {
     "name": "stdout",
     "output_type": "stream",
     "text": [
      "The number of rows is        28823\n",
      "The number of attributes is  86\n"
     ]
    }
   ],
   "source": [
    "print ('The number of rows is       ', df_acc_dum.shape[0])\n",
    "print ('The number of attributes is ', df_acc_dum.shape[1])"
   ]
  },
  {
   "cell_type": "markdown",
   "metadata": {},
   "source": [
    "By perfoming one-hot encoding the number of attributes rose to 85. "
   ]
  },
  {
   "cell_type": "code",
   "execution_count": 70,
   "metadata": {
    "scrolled": true
   },
   "outputs": [
    {
     "data": {
      "text/html": [
       "<div>\n",
       "<style scoped>\n",
       "    .dataframe tbody tr th:only-of-type {\n",
       "        vertical-align: middle;\n",
       "    }\n",
       "\n",
       "    .dataframe tbody tr th {\n",
       "        vertical-align: top;\n",
       "    }\n",
       "\n",
       "    .dataframe thead th {\n",
       "        text-align: right;\n",
       "    }\n",
       "</style>\n",
       "<table border=\"1\" class=\"dataframe\">\n",
       "  <thead>\n",
       "    <tr style=\"text-align: right;\">\n",
       "      <th></th>\n",
       "      <th>Unnamed: 0</th>\n",
       "      <th>STATE</th>\n",
       "      <th>VE_TOTAL</th>\n",
       "      <th>PVH_INVL</th>\n",
       "      <th>PEDS</th>\n",
       "      <th>PERNOTMVIT</th>\n",
       "      <th>PERMVIT</th>\n",
       "      <th>PERSONS</th>\n",
       "      <th>RELJCT1</th>\n",
       "      <th>FATALS</th>\n",
       "      <th>...</th>\n",
       "      <th>HR_RANGE_5</th>\n",
       "      <th>HR_RANGE_6</th>\n",
       "      <th>MAN_COLL_0</th>\n",
       "      <th>MAN_COLL_1</th>\n",
       "      <th>MAN_COLL_2</th>\n",
       "      <th>MAN_COLL_6</th>\n",
       "      <th>MAN_COLL_7</th>\n",
       "      <th>MAN_COLL_8</th>\n",
       "      <th>MAN_COLL_9</th>\n",
       "      <th>MAN_COLL_11</th>\n",
       "    </tr>\n",
       "  </thead>\n",
       "  <tbody>\n",
       "    <tr>\n",
       "      <th>count</th>\n",
       "      <td>28823.000000</td>\n",
       "      <td>28823.000000</td>\n",
       "      <td>28823.000000</td>\n",
       "      <td>28823.000000</td>\n",
       "      <td>28823.000000</td>\n",
       "      <td>28823.000000</td>\n",
       "      <td>28823.000000</td>\n",
       "      <td>28823.000000</td>\n",
       "      <td>28823.000000</td>\n",
       "      <td>28823.000000</td>\n",
       "      <td>...</td>\n",
       "      <td>28823.000000</td>\n",
       "      <td>28823.000000</td>\n",
       "      <td>28823.000000</td>\n",
       "      <td>28823.000000</td>\n",
       "      <td>28823.000000</td>\n",
       "      <td>28823.000000</td>\n",
       "      <td>28823.000000</td>\n",
       "      <td>28823.000000</td>\n",
       "      <td>28823.000000</td>\n",
       "      <td>28823.000000</td>\n",
       "    </tr>\n",
       "    <tr>\n",
       "      <th>mean</th>\n",
       "      <td>16216.451167</td>\n",
       "      <td>27.862436</td>\n",
       "      <td>1.551435</td>\n",
       "      <td>0.031676</td>\n",
       "      <td>0.205149</td>\n",
       "      <td>0.212816</td>\n",
       "      <td>2.269160</td>\n",
       "      <td>2.276828</td>\n",
       "      <td>0.043021</td>\n",
       "      <td>1.089963</td>\n",
       "      <td>...</td>\n",
       "      <td>0.222045</td>\n",
       "      <td>0.200881</td>\n",
       "      <td>0.612011</td>\n",
       "      <td>0.069875</td>\n",
       "      <td>0.105124</td>\n",
       "      <td>0.182354</td>\n",
       "      <td>0.016168</td>\n",
       "      <td>0.010651</td>\n",
       "      <td>0.001318</td>\n",
       "      <td>0.002498</td>\n",
       "    </tr>\n",
       "    <tr>\n",
       "      <th>std</th>\n",
       "      <td>9234.278852</td>\n",
       "      <td>16.182681</td>\n",
       "      <td>0.740342</td>\n",
       "      <td>0.221970</td>\n",
       "      <td>0.442517</td>\n",
       "      <td>0.458635</td>\n",
       "      <td>1.619565</td>\n",
       "      <td>1.621389</td>\n",
       "      <td>0.202908</td>\n",
       "      <td>0.351929</td>\n",
       "      <td>...</td>\n",
       "      <td>0.415628</td>\n",
       "      <td>0.400666</td>\n",
       "      <td>0.487300</td>\n",
       "      <td>0.254940</td>\n",
       "      <td>0.306719</td>\n",
       "      <td>0.386143</td>\n",
       "      <td>0.126122</td>\n",
       "      <td>0.102655</td>\n",
       "      <td>0.036286</td>\n",
       "      <td>0.049918</td>\n",
       "    </tr>\n",
       "    <tr>\n",
       "      <th>min</th>\n",
       "      <td>0.000000</td>\n",
       "      <td>1.000000</td>\n",
       "      <td>1.000000</td>\n",
       "      <td>0.000000</td>\n",
       "      <td>0.000000</td>\n",
       "      <td>0.000000</td>\n",
       "      <td>0.000000</td>\n",
       "      <td>0.000000</td>\n",
       "      <td>0.000000</td>\n",
       "      <td>1.000000</td>\n",
       "      <td>...</td>\n",
       "      <td>0.000000</td>\n",
       "      <td>0.000000</td>\n",
       "      <td>0.000000</td>\n",
       "      <td>0.000000</td>\n",
       "      <td>0.000000</td>\n",
       "      <td>0.000000</td>\n",
       "      <td>0.000000</td>\n",
       "      <td>0.000000</td>\n",
       "      <td>0.000000</td>\n",
       "      <td>0.000000</td>\n",
       "    </tr>\n",
       "    <tr>\n",
       "      <th>25%</th>\n",
       "      <td>8805.500000</td>\n",
       "      <td>13.000000</td>\n",
       "      <td>1.000000</td>\n",
       "      <td>0.000000</td>\n",
       "      <td>0.000000</td>\n",
       "      <td>0.000000</td>\n",
       "      <td>1.000000</td>\n",
       "      <td>1.000000</td>\n",
       "      <td>0.000000</td>\n",
       "      <td>1.000000</td>\n",
       "      <td>...</td>\n",
       "      <td>0.000000</td>\n",
       "      <td>0.000000</td>\n",
       "      <td>0.000000</td>\n",
       "      <td>0.000000</td>\n",
       "      <td>0.000000</td>\n",
       "      <td>0.000000</td>\n",
       "      <td>0.000000</td>\n",
       "      <td>0.000000</td>\n",
       "      <td>0.000000</td>\n",
       "      <td>0.000000</td>\n",
       "    </tr>\n",
       "    <tr>\n",
       "      <th>50%</th>\n",
       "      <td>16436.000000</td>\n",
       "      <td>28.000000</td>\n",
       "      <td>1.000000</td>\n",
       "      <td>0.000000</td>\n",
       "      <td>0.000000</td>\n",
       "      <td>0.000000</td>\n",
       "      <td>2.000000</td>\n",
       "      <td>2.000000</td>\n",
       "      <td>0.000000</td>\n",
       "      <td>1.000000</td>\n",
       "      <td>...</td>\n",
       "      <td>0.000000</td>\n",
       "      <td>0.000000</td>\n",
       "      <td>1.000000</td>\n",
       "      <td>0.000000</td>\n",
       "      <td>0.000000</td>\n",
       "      <td>0.000000</td>\n",
       "      <td>0.000000</td>\n",
       "      <td>0.000000</td>\n",
       "      <td>0.000000</td>\n",
       "      <td>0.000000</td>\n",
       "    </tr>\n",
       "    <tr>\n",
       "      <th>75%</th>\n",
       "      <td>23993.500000</td>\n",
       "      <td>42.000000</td>\n",
       "      <td>2.000000</td>\n",
       "      <td>0.000000</td>\n",
       "      <td>0.000000</td>\n",
       "      <td>0.000000</td>\n",
       "      <td>3.000000</td>\n",
       "      <td>3.000000</td>\n",
       "      <td>0.000000</td>\n",
       "      <td>1.000000</td>\n",
       "      <td>...</td>\n",
       "      <td>0.000000</td>\n",
       "      <td>0.000000</td>\n",
       "      <td>1.000000</td>\n",
       "      <td>0.000000</td>\n",
       "      <td>0.000000</td>\n",
       "      <td>0.000000</td>\n",
       "      <td>0.000000</td>\n",
       "      <td>0.000000</td>\n",
       "      <td>0.000000</td>\n",
       "      <td>0.000000</td>\n",
       "    </tr>\n",
       "    <tr>\n",
       "      <th>max</th>\n",
       "      <td>32165.000000</td>\n",
       "      <td>56.000000</td>\n",
       "      <td>8.000000</td>\n",
       "      <td>4.000000</td>\n",
       "      <td>4.000000</td>\n",
       "      <td>4.000000</td>\n",
       "      <td>13.000000</td>\n",
       "      <td>13.000000</td>\n",
       "      <td>1.000000</td>\n",
       "      <td>5.000000</td>\n",
       "      <td>...</td>\n",
       "      <td>1.000000</td>\n",
       "      <td>1.000000</td>\n",
       "      <td>1.000000</td>\n",
       "      <td>1.000000</td>\n",
       "      <td>1.000000</td>\n",
       "      <td>1.000000</td>\n",
       "      <td>1.000000</td>\n",
       "      <td>1.000000</td>\n",
       "      <td>1.000000</td>\n",
       "      <td>1.000000</td>\n",
       "    </tr>\n",
       "  </tbody>\n",
       "</table>\n",
       "<p>8 rows × 86 columns</p>\n",
       "</div>"
      ],
      "text/plain": [
       "         Unnamed: 0         STATE      VE_TOTAL      PVH_INVL          PEDS  \\\n",
       "count  28823.000000  28823.000000  28823.000000  28823.000000  28823.000000   \n",
       "mean   16216.451167     27.862436      1.551435      0.031676      0.205149   \n",
       "std     9234.278852     16.182681      0.740342      0.221970      0.442517   \n",
       "min        0.000000      1.000000      1.000000      0.000000      0.000000   \n",
       "25%     8805.500000     13.000000      1.000000      0.000000      0.000000   \n",
       "50%    16436.000000     28.000000      1.000000      0.000000      0.000000   \n",
       "75%    23993.500000     42.000000      2.000000      0.000000      0.000000   \n",
       "max    32165.000000     56.000000      8.000000      4.000000      4.000000   \n",
       "\n",
       "         PERNOTMVIT       PERMVIT       PERSONS       RELJCT1        FATALS  \\\n",
       "count  28823.000000  28823.000000  28823.000000  28823.000000  28823.000000   \n",
       "mean       0.212816      2.269160      2.276828      0.043021      1.089963   \n",
       "std        0.458635      1.619565      1.621389      0.202908      0.351929   \n",
       "min        0.000000      0.000000      0.000000      0.000000      1.000000   \n",
       "25%        0.000000      1.000000      1.000000      0.000000      1.000000   \n",
       "50%        0.000000      2.000000      2.000000      0.000000      1.000000   \n",
       "75%        0.000000      3.000000      3.000000      0.000000      1.000000   \n",
       "max        4.000000     13.000000     13.000000      1.000000      5.000000   \n",
       "\n",
       "       ...    HR_RANGE_5    HR_RANGE_6    MAN_COLL_0    MAN_COLL_1  \\\n",
       "count  ...  28823.000000  28823.000000  28823.000000  28823.000000   \n",
       "mean   ...      0.222045      0.200881      0.612011      0.069875   \n",
       "std    ...      0.415628      0.400666      0.487300      0.254940   \n",
       "min    ...      0.000000      0.000000      0.000000      0.000000   \n",
       "25%    ...      0.000000      0.000000      0.000000      0.000000   \n",
       "50%    ...      0.000000      0.000000      1.000000      0.000000   \n",
       "75%    ...      0.000000      0.000000      1.000000      0.000000   \n",
       "max    ...      1.000000      1.000000      1.000000      1.000000   \n",
       "\n",
       "         MAN_COLL_2    MAN_COLL_6    MAN_COLL_7    MAN_COLL_8    MAN_COLL_9  \\\n",
       "count  28823.000000  28823.000000  28823.000000  28823.000000  28823.000000   \n",
       "mean       0.105124      0.182354      0.016168      0.010651      0.001318   \n",
       "std        0.306719      0.386143      0.126122      0.102655      0.036286   \n",
       "min        0.000000      0.000000      0.000000      0.000000      0.000000   \n",
       "25%        0.000000      0.000000      0.000000      0.000000      0.000000   \n",
       "50%        0.000000      0.000000      0.000000      0.000000      0.000000   \n",
       "75%        0.000000      0.000000      0.000000      0.000000      0.000000   \n",
       "max        1.000000      1.000000      1.000000      1.000000      1.000000   \n",
       "\n",
       "        MAN_COLL_11  \n",
       "count  28823.000000  \n",
       "mean       0.002498  \n",
       "std        0.049918  \n",
       "min        0.000000  \n",
       "25%        0.000000  \n",
       "50%        0.000000  \n",
       "75%        0.000000  \n",
       "max        1.000000  \n",
       "\n",
       "[8 rows x 86 columns]"
      ]
     },
     "execution_count": 70,
     "metadata": {},
     "output_type": "execute_result"
    }
   ],
   "source": [
    "df_acc_dum.describe(include='all')"
   ]
  },
  {
   "cell_type": "markdown",
   "metadata": {},
   "source": [
    "#### Creation of df_reg\n",
    "\n",
    "This dataframe will differ from df_accident in the sense that instead of containing STATE, it will contain a discretized version of it, called REGION, as we had already explained.  "
   ]
  },
  {
   "cell_type": "code",
   "execution_count": 71,
   "metadata": {},
   "outputs": [],
   "source": [
    "df_reg = df_accident.copy(deep=True)\n",
    "\n",
    "# We decided to create a REGION attribute considering that the STATE attribute had 50 levels, which we will use only\n",
    "# as a reference, whereas REGION can allow us to interpret, discover and create new relationships. \n",
    "# We decided to group states in only four regions: West (1), Midwest (2), South (3) and Northeast (4), as it is done in\n",
    "# https://en.wikipedia.org/wiki/List_of_regions_of_the_United_States. \n",
    "df_reg['REGION'] = 0\n",
    "\n",
    "# Add states according to the region where they belong:\n",
    "df_reg['REGION'][df_reg['STATE'] == 1] = 3\n",
    "df_reg['REGION'][df_reg['STATE'] == 2] = 1\n",
    "df_reg['REGION'][df_reg['STATE'] == 4] = 1\n",
    "df_reg['REGION'][df_reg['STATE'] == 5] = 3\n",
    "df_reg['REGION'][df_reg['STATE'] == 6] = 1\n",
    "df_reg['REGION'][df_reg['STATE'] == 8] = 1\n",
    "df_reg['REGION'][df_reg['STATE'] == 9] = 4\n",
    "df_reg['REGION'][df_reg['STATE'] == 10] = 4\n",
    "df_reg['REGION'][df_reg['STATE'] == 12] = 3\n",
    "df_reg['REGION'][df_reg['STATE'] == 13] = 3\n",
    "df_reg['REGION'][df_reg['STATE'] == 15] = 1\n",
    "df_reg['REGION'][df_reg['STATE'] == 16] = 1\n",
    "df_reg['REGION'][df_reg['STATE'] == 17] = 2\n",
    "df_reg['REGION'][df_reg['STATE'] == 18] = 2\n",
    "df_reg['REGION'][df_reg['STATE'] == 19] = 2\n",
    "df_reg['REGION'][df_reg['STATE'] == 20] = 2\n",
    "df_reg['REGION'][df_reg['STATE'] == 21] = 3\n",
    "df_reg['REGION'][df_reg['STATE'] == 22] = 3\n",
    "df_reg['REGION'][df_reg['STATE'] == 23] = 4\n",
    "df_reg['REGION'][df_reg['STATE'] == 24] = 3\n",
    "df_reg['REGION'][df_reg['STATE'] == 25] = 4\n",
    "df_reg['REGION'][df_reg['STATE'] == 26] = 4\n",
    "df_reg['REGION'][df_reg['STATE'] == 27] = 4\n",
    "df_reg['REGION'][df_reg['STATE'] == 28] = 3\n",
    "df_reg['REGION'][df_reg['STATE'] == 29] = 4\n",
    "df_reg['REGION'][df_reg['STATE'] == 30] = 1\n",
    "df_reg['REGION'][df_reg['STATE'] == 31] = 4\n",
    "df_reg['REGION'][df_reg['STATE'] == 32] = 1\n",
    "df_reg['REGION'][df_reg['STATE'] == 33] = 4\n",
    "df_reg['REGION'][df_reg['STATE'] == 34] = 4\n",
    "df_reg['REGION'][df_reg['STATE'] == 35] = 1\n",
    "df_reg['REGION'][df_reg['STATE'] == 36] = 4\n",
    "df_reg['REGION'][df_reg['STATE'] == 37] = 3\n",
    "df_reg['REGION'][df_reg['STATE'] == 38] = 2\n",
    "df_reg['REGION'][df_reg['STATE'] == 39] = 2\n",
    "df_reg['REGION'][df_reg['STATE'] == 40] = 3\n",
    "df_reg['REGION'][df_reg['STATE'] == 41] = 1\n",
    "df_reg['REGION'][df_reg['STATE'] == 42] = 4\n",
    "df_reg['REGION'][df_reg['STATE'] == 44] = 4\n",
    "df_reg['REGION'][df_reg['STATE'] == 45] = 3\n",
    "df_reg['REGION'][df_reg['STATE'] == 46] = 2\n",
    "df_reg['REGION'][df_reg['STATE'] == 47] = 3\n",
    "df_reg['REGION'][df_reg['STATE'] == 48] = 3\n",
    "df_reg['REGION'][df_reg['STATE'] == 49] = 1\n",
    "df_reg['REGION'][df_reg['STATE'] == 50] = 4\n",
    "df_reg['REGION'][df_reg['STATE'] == 51] = 3\n",
    "df_reg['REGION'][df_reg['STATE'] == 53] = 1\n",
    "df_reg['REGION'][df_reg['STATE'] == 54] = 3\n",
    "df_reg['REGION'][df_reg['STATE'] == 55] = 2\n",
    "df_reg['REGION'][df_reg['STATE'] == 56] = 1"
   ]
  },
  {
   "cell_type": "code",
   "execution_count": 72,
   "metadata": {},
   "outputs": [],
   "source": [
    "if 'STATE' in df_reg:\n",
    "    del df_reg['STATE']"
   ]
  },
  {
   "cell_type": "code",
   "execution_count": 73,
   "metadata": {
    "scrolled": true
   },
   "outputs": [
    {
     "data": {
      "text/html": [
       "<div>\n",
       "<style scoped>\n",
       "    .dataframe tbody tr th:only-of-type {\n",
       "        vertical-align: middle;\n",
       "    }\n",
       "\n",
       "    .dataframe tbody tr th {\n",
       "        vertical-align: top;\n",
       "    }\n",
       "\n",
       "    .dataframe thead th {\n",
       "        text-align: right;\n",
       "    }\n",
       "</style>\n",
       "<table border=\"1\" class=\"dataframe\">\n",
       "  <thead>\n",
       "    <tr style=\"text-align: right;\">\n",
       "      <th></th>\n",
       "      <th>Unnamed: 0</th>\n",
       "      <th>VE_TOTAL</th>\n",
       "      <th>PVH_INVL</th>\n",
       "      <th>PEDS</th>\n",
       "      <th>PERNOTMVIT</th>\n",
       "      <th>PERMVIT</th>\n",
       "      <th>PERSONS</th>\n",
       "      <th>DAY_WEEK</th>\n",
       "      <th>ROUTE</th>\n",
       "      <th>MAN_COLL</th>\n",
       "      <th>...</th>\n",
       "      <th>RELJCT2</th>\n",
       "      <th>WRK_ZONE</th>\n",
       "      <th>REL_ROAD</th>\n",
       "      <th>LGT_COND</th>\n",
       "      <th>WEATHER</th>\n",
       "      <th>FATALS</th>\n",
       "      <th>DRUNK_DR</th>\n",
       "      <th>HARM_EV_RED</th>\n",
       "      <th>HR_RANGE</th>\n",
       "      <th>REGION</th>\n",
       "    </tr>\n",
       "  </thead>\n",
       "  <tbody>\n",
       "    <tr>\n",
       "      <th>count</th>\n",
       "      <td>28823.000000</td>\n",
       "      <td>28823.000000</td>\n",
       "      <td>28823.000000</td>\n",
       "      <td>28823.000000</td>\n",
       "      <td>28823.000000</td>\n",
       "      <td>28823.000000</td>\n",
       "      <td>28823.000000</td>\n",
       "      <td>28823.000000</td>\n",
       "      <td>28823.000000</td>\n",
       "      <td>28823.000000</td>\n",
       "      <td>...</td>\n",
       "      <td>28823.000000</td>\n",
       "      <td>28823.000000</td>\n",
       "      <td>28823.000000</td>\n",
       "      <td>28823.000000</td>\n",
       "      <td>28823.000000</td>\n",
       "      <td>28823.000000</td>\n",
       "      <td>28823.000000</td>\n",
       "      <td>28823.000000</td>\n",
       "      <td>28823.000000</td>\n",
       "      <td>28823.000000</td>\n",
       "    </tr>\n",
       "    <tr>\n",
       "      <th>mean</th>\n",
       "      <td>16216.451167</td>\n",
       "      <td>1.551435</td>\n",
       "      <td>0.031676</td>\n",
       "      <td>0.205149</td>\n",
       "      <td>0.212816</td>\n",
       "      <td>2.269160</td>\n",
       "      <td>2.276828</td>\n",
       "      <td>4.097006</td>\n",
       "      <td>3.373903</td>\n",
       "      <td>1.611977</td>\n",
       "      <td>...</td>\n",
       "      <td>2.000312</td>\n",
       "      <td>0.033029</td>\n",
       "      <td>2.195122</td>\n",
       "      <td>1.815182</td>\n",
       "      <td>2.733893</td>\n",
       "      <td>1.089963</td>\n",
       "      <td>0.281997</td>\n",
       "      <td>2.532561</td>\n",
       "      <td>3.819484</td>\n",
       "      <td>2.628665</td>\n",
       "    </tr>\n",
       "    <tr>\n",
       "      <th>std</th>\n",
       "      <td>9234.278852</td>\n",
       "      <td>0.740342</td>\n",
       "      <td>0.221970</td>\n",
       "      <td>0.442517</td>\n",
       "      <td>0.458635</td>\n",
       "      <td>1.619565</td>\n",
       "      <td>1.621389</td>\n",
       "      <td>2.086971</td>\n",
       "      <td>1.609935</td>\n",
       "      <td>2.517900</td>\n",
       "      <td>...</td>\n",
       "      <td>2.848601</td>\n",
       "      <td>0.284969</td>\n",
       "      <td>1.585693</td>\n",
       "      <td>0.972106</td>\n",
       "      <td>3.389701</td>\n",
       "      <td>0.351929</td>\n",
       "      <td>0.466114</td>\n",
       "      <td>2.066207</td>\n",
       "      <td>1.702918</td>\n",
       "      <td>1.022042</td>\n",
       "    </tr>\n",
       "    <tr>\n",
       "      <th>min</th>\n",
       "      <td>0.000000</td>\n",
       "      <td>1.000000</td>\n",
       "      <td>0.000000</td>\n",
       "      <td>0.000000</td>\n",
       "      <td>0.000000</td>\n",
       "      <td>0.000000</td>\n",
       "      <td>0.000000</td>\n",
       "      <td>1.000000</td>\n",
       "      <td>1.000000</td>\n",
       "      <td>0.000000</td>\n",
       "      <td>...</td>\n",
       "      <td>1.000000</td>\n",
       "      <td>0.000000</td>\n",
       "      <td>1.000000</td>\n",
       "      <td>1.000000</td>\n",
       "      <td>1.000000</td>\n",
       "      <td>1.000000</td>\n",
       "      <td>0.000000</td>\n",
       "      <td>0.000000</td>\n",
       "      <td>1.000000</td>\n",
       "      <td>1.000000</td>\n",
       "    </tr>\n",
       "    <tr>\n",
       "      <th>25%</th>\n",
       "      <td>8805.500000</td>\n",
       "      <td>1.000000</td>\n",
       "      <td>0.000000</td>\n",
       "      <td>0.000000</td>\n",
       "      <td>0.000000</td>\n",
       "      <td>1.000000</td>\n",
       "      <td>1.000000</td>\n",
       "      <td>2.000000</td>\n",
       "      <td>2.000000</td>\n",
       "      <td>0.000000</td>\n",
       "      <td>...</td>\n",
       "      <td>1.000000</td>\n",
       "      <td>0.000000</td>\n",
       "      <td>1.000000</td>\n",
       "      <td>1.000000</td>\n",
       "      <td>1.000000</td>\n",
       "      <td>1.000000</td>\n",
       "      <td>0.000000</td>\n",
       "      <td>1.000000</td>\n",
       "      <td>2.000000</td>\n",
       "      <td>2.000000</td>\n",
       "    </tr>\n",
       "    <tr>\n",
       "      <th>50%</th>\n",
       "      <td>16436.000000</td>\n",
       "      <td>1.000000</td>\n",
       "      <td>0.000000</td>\n",
       "      <td>0.000000</td>\n",
       "      <td>0.000000</td>\n",
       "      <td>2.000000</td>\n",
       "      <td>2.000000</td>\n",
       "      <td>4.000000</td>\n",
       "      <td>3.000000</td>\n",
       "      <td>0.000000</td>\n",
       "      <td>...</td>\n",
       "      <td>1.000000</td>\n",
       "      <td>0.000000</td>\n",
       "      <td>1.000000</td>\n",
       "      <td>2.000000</td>\n",
       "      <td>1.000000</td>\n",
       "      <td>1.000000</td>\n",
       "      <td>0.000000</td>\n",
       "      <td>1.000000</td>\n",
       "      <td>4.000000</td>\n",
       "      <td>3.000000</td>\n",
       "    </tr>\n",
       "    <tr>\n",
       "      <th>75%</th>\n",
       "      <td>23993.500000</td>\n",
       "      <td>2.000000</td>\n",
       "      <td>0.000000</td>\n",
       "      <td>0.000000</td>\n",
       "      <td>0.000000</td>\n",
       "      <td>3.000000</td>\n",
       "      <td>3.000000</td>\n",
       "      <td>6.000000</td>\n",
       "      <td>4.000000</td>\n",
       "      <td>2.000000</td>\n",
       "      <td>...</td>\n",
       "      <td>2.000000</td>\n",
       "      <td>0.000000</td>\n",
       "      <td>4.000000</td>\n",
       "      <td>2.000000</td>\n",
       "      <td>2.000000</td>\n",
       "      <td>1.000000</td>\n",
       "      <td>1.000000</td>\n",
       "      <td>5.000000</td>\n",
       "      <td>5.000000</td>\n",
       "      <td>3.000000</td>\n",
       "    </tr>\n",
       "    <tr>\n",
       "      <th>max</th>\n",
       "      <td>32165.000000</td>\n",
       "      <td>8.000000</td>\n",
       "      <td>4.000000</td>\n",
       "      <td>4.000000</td>\n",
       "      <td>4.000000</td>\n",
       "      <td>13.000000</td>\n",
       "      <td>13.000000</td>\n",
       "      <td>7.000000</td>\n",
       "      <td>7.000000</td>\n",
       "      <td>11.000000</td>\n",
       "      <td>...</td>\n",
       "      <td>20.000000</td>\n",
       "      <td>4.000000</td>\n",
       "      <td>11.000000</td>\n",
       "      <td>5.000000</td>\n",
       "      <td>12.000000</td>\n",
       "      <td>5.000000</td>\n",
       "      <td>2.000000</td>\n",
       "      <td>6.000000</td>\n",
       "      <td>6.000000</td>\n",
       "      <td>4.000000</td>\n",
       "    </tr>\n",
       "  </tbody>\n",
       "</table>\n",
       "<p>8 rows × 21 columns</p>\n",
       "</div>"
      ],
      "text/plain": [
       "         Unnamed: 0      VE_TOTAL      PVH_INVL          PEDS    PERNOTMVIT  \\\n",
       "count  28823.000000  28823.000000  28823.000000  28823.000000  28823.000000   \n",
       "mean   16216.451167      1.551435      0.031676      0.205149      0.212816   \n",
       "std     9234.278852      0.740342      0.221970      0.442517      0.458635   \n",
       "min        0.000000      1.000000      0.000000      0.000000      0.000000   \n",
       "25%     8805.500000      1.000000      0.000000      0.000000      0.000000   \n",
       "50%    16436.000000      1.000000      0.000000      0.000000      0.000000   \n",
       "75%    23993.500000      2.000000      0.000000      0.000000      0.000000   \n",
       "max    32165.000000      8.000000      4.000000      4.000000      4.000000   \n",
       "\n",
       "            PERMVIT       PERSONS      DAY_WEEK         ROUTE      MAN_COLL  \\\n",
       "count  28823.000000  28823.000000  28823.000000  28823.000000  28823.000000   \n",
       "mean       2.269160      2.276828      4.097006      3.373903      1.611977   \n",
       "std        1.619565      1.621389      2.086971      1.609935      2.517900   \n",
       "min        0.000000      0.000000      1.000000      1.000000      0.000000   \n",
       "25%        1.000000      1.000000      2.000000      2.000000      0.000000   \n",
       "50%        2.000000      2.000000      4.000000      3.000000      0.000000   \n",
       "75%        3.000000      3.000000      6.000000      4.000000      2.000000   \n",
       "max       13.000000     13.000000      7.000000      7.000000     11.000000   \n",
       "\n",
       "       ...       RELJCT2      WRK_ZONE      REL_ROAD      LGT_COND  \\\n",
       "count  ...  28823.000000  28823.000000  28823.000000  28823.000000   \n",
       "mean   ...      2.000312      0.033029      2.195122      1.815182   \n",
       "std    ...      2.848601      0.284969      1.585693      0.972106   \n",
       "min    ...      1.000000      0.000000      1.000000      1.000000   \n",
       "25%    ...      1.000000      0.000000      1.000000      1.000000   \n",
       "50%    ...      1.000000      0.000000      1.000000      2.000000   \n",
       "75%    ...      2.000000      0.000000      4.000000      2.000000   \n",
       "max    ...     20.000000      4.000000     11.000000      5.000000   \n",
       "\n",
       "            WEATHER        FATALS      DRUNK_DR   HARM_EV_RED      HR_RANGE  \\\n",
       "count  28823.000000  28823.000000  28823.000000  28823.000000  28823.000000   \n",
       "mean       2.733893      1.089963      0.281997      2.532561      3.819484   \n",
       "std        3.389701      0.351929      0.466114      2.066207      1.702918   \n",
       "min        1.000000      1.000000      0.000000      0.000000      1.000000   \n",
       "25%        1.000000      1.000000      0.000000      1.000000      2.000000   \n",
       "50%        1.000000      1.000000      0.000000      1.000000      4.000000   \n",
       "75%        2.000000      1.000000      1.000000      5.000000      5.000000   \n",
       "max       12.000000      5.000000      2.000000      6.000000      6.000000   \n",
       "\n",
       "             REGION  \n",
       "count  28823.000000  \n",
       "mean       2.628665  \n",
       "std        1.022042  \n",
       "min        1.000000  \n",
       "25%        2.000000  \n",
       "50%        3.000000  \n",
       "75%        3.000000  \n",
       "max        4.000000  \n",
       "\n",
       "[8 rows x 21 columns]"
      ]
     },
     "execution_count": 73,
     "metadata": {},
     "output_type": "execute_result"
    }
   ],
   "source": [
    "df_reg.describe(include='all')"
   ]
  },
  {
   "cell_type": "code",
   "execution_count": 74,
   "metadata": {},
   "outputs": [
    {
     "name": "stdout",
     "output_type": "stream",
     "text": [
      "<class 'pandas.core.frame.DataFrame'>\n",
      "Int64Index: 28823 entries, 1 to 28823\n",
      "Data columns (total 21 columns):\n",
      "Unnamed: 0     28823 non-null int64\n",
      "VE_TOTAL       28823 non-null int64\n",
      "PVH_INVL       28823 non-null int64\n",
      "PEDS           28823 non-null int64\n",
      "PERNOTMVIT     28823 non-null int64\n",
      "PERMVIT        28823 non-null int64\n",
      "PERSONS        28823 non-null int64\n",
      "DAY_WEEK       28823 non-null int64\n",
      "ROUTE          28823 non-null int32\n",
      "MAN_COLL       28823 non-null int32\n",
      "RELJCT1        28823 non-null int32\n",
      "RELJCT2        28823 non-null int32\n",
      "WRK_ZONE       28823 non-null int64\n",
      "REL_ROAD       28823 non-null int32\n",
      "LGT_COND       28823 non-null int32\n",
      "WEATHER        28823 non-null int32\n",
      "FATALS         28823 non-null int64\n",
      "DRUNK_DR       28823 non-null int64\n",
      "HARM_EV_RED    28823 non-null int64\n",
      "HR_RANGE       28823 non-null int64\n",
      "REGION         28823 non-null int64\n",
      "dtypes: int32(7), int64(14)\n",
      "memory usage: 4.1 MB\n"
     ]
    }
   ],
   "source": [
    "df_reg.info()"
   ]
  },
  {
   "cell_type": "markdown",
   "metadata": {},
   "source": [
    "#### Creation of df_r_dumm data frame\n",
    "\n",
    "This dataframe is pretty similar to df_acc_dum in the sense that it also stores the one-hot encoded attributes along with REGION, which will also be one-hot encoded. "
   ]
  },
  {
   "cell_type": "code",
   "execution_count": 75,
   "metadata": {},
   "outputs": [],
   "source": [
    "df_r_dumm = df_reg.copy(deep=True)"
   ]
  },
  {
   "cell_type": "markdown",
   "metadata": {},
   "source": [
    "#### One hot encoding of categorical variables of df_r_dumm"
   ]
  },
  {
   "cell_type": "code",
   "execution_count": 76,
   "metadata": {},
   "outputs": [],
   "source": [
    "# Create dummy variable from ROUTE attribute\n",
    "route_df = pd.get_dummies(df_r_dumm.ROUTE,prefix='ROUTE')\n",
    "df_r_dumm = pd.concat((df_r_dumm, route_df), axis =1)"
   ]
  },
  {
   "cell_type": "code",
   "execution_count": 77,
   "metadata": {},
   "outputs": [],
   "source": [
    "# Create dummy variable from HARM_EV attribute\n",
    "harm_df = pd.get_dummies(df_r_dumm.HARM_EV_RED,prefix='HARM_RED')\n",
    "df_r_dumm = pd.concat((df_r_dumm, harm_df), axis =1)"
   ]
  },
  {
   "cell_type": "code",
   "execution_count": 78,
   "metadata": {},
   "outputs": [],
   "source": [
    "# Create dummy variable from RELJCT2 attribute\n",
    "reljct_df = pd.get_dummies(df_r_dumm.RELJCT2,prefix='RELJCT2')\n",
    "df_r_dumm = pd.concat((df_r_dumm, reljct_df), axis =1)"
   ]
  },
  {
   "cell_type": "code",
   "execution_count": 79,
   "metadata": {},
   "outputs": [],
   "source": [
    "# Create dummy variable from WRK_ZONE attribute\n",
    "wrk_df = pd.get_dummies(df_r_dumm.WRK_ZONE,prefix='WRK_ZONE')\n",
    "df_r_dumm = pd.concat((df_r_dumm, wrk_df), axis =1)"
   ]
  },
  {
   "cell_type": "code",
   "execution_count": 80,
   "metadata": {},
   "outputs": [],
   "source": [
    "# Create dummy variable from REL_ROAD attribute\n",
    "relrd_df = pd.get_dummies(df_r_dumm.REL_ROAD,prefix='REL_ROAD')\n",
    "df_r_dumm = pd.concat((df_r_dumm, relrd_df), axis =1)"
   ]
  },
  {
   "cell_type": "code",
   "execution_count": 81,
   "metadata": {},
   "outputs": [],
   "source": [
    "# Create dummy variable from LGT_COND attribute\n",
    "lgt_df = pd.get_dummies(df_r_dumm.LGT_COND,prefix='LGT_COND')\n",
    "df_r_dumm = pd.concat((df_r_dumm, lgt_df), axis =1)"
   ]
  },
  {
   "cell_type": "code",
   "execution_count": 82,
   "metadata": {},
   "outputs": [],
   "source": [
    "# Create dummy variable from WEATHER attribute\n",
    "wtr_df = pd.get_dummies(df_r_dumm.WEATHER,prefix='WEATHER')\n",
    "df_r_dumm = pd.concat((df_r_dumm, wtr_df), axis =1)"
   ]
  },
  {
   "cell_type": "code",
   "execution_count": 83,
   "metadata": {},
   "outputs": [],
   "source": [
    "# Create dummy variable from DAY_WEEK attribute\n",
    "wk_df = pd.get_dummies(df_r_dumm.DAY_WEEK,prefix='DAY_WEEK')\n",
    "df_r_dumm = pd.concat((df_r_dumm, wk_df), axis =1)"
   ]
  },
  {
   "cell_type": "code",
   "execution_count": 84,
   "metadata": {},
   "outputs": [],
   "source": [
    "# Create dummy variable from HR_RANGE attribute\n",
    "hr_range = pd.get_dummies(df_r_dumm.HR_RANGE,prefix='HR_RANGE')\n",
    "df_r_dumm = pd.concat((df_r_dumm, hr_range), axis =1)"
   ]
  },
  {
   "cell_type": "code",
   "execution_count": 85,
   "metadata": {},
   "outputs": [],
   "source": [
    "# # Create dummy variable from REGION attribute\n",
    "df_region = pd.get_dummies(df_r_dumm.REGION,prefix='REGION')\n",
    "df_r_dumm = pd.concat((df_r_dumm, df_region), axis =1)"
   ]
  },
  {
   "cell_type": "code",
   "execution_count": 86,
   "metadata": {},
   "outputs": [],
   "source": [
    "# # Create dummy variable from MAN_COLL attribute\n",
    "man_coll = pd.get_dummies(df_r_dumm.MAN_COLL,prefix='MAN_COLL')\n",
    "df_r_dumm = pd.concat((df_r_dumm, man_coll), axis =1)"
   ]
  },
  {
   "cell_type": "code",
   "execution_count": 87,
   "metadata": {},
   "outputs": [],
   "source": [
    "# To clean df_accident, drop those attributes from which the dummy variables were derived\n",
    "    \n",
    "if 'ROUTE' in df_r_dumm:\n",
    "    del df_r_dumm['ROUTE'] \n",
    "\n",
    "    \n",
    "if 'HARM_EV' in df_r_dumm:\n",
    "    del df_r_dumm['HARM_EV_RED'] \n",
    "    \n",
    "if 'RELJCT2' in df_r_dumm:\n",
    "    del df_r_dumm['RELJCT2'] \n",
    "\n",
    "    \n",
    "if 'WRK_ZONE' in df_r_dumm:\n",
    "    del df_r_dumm['WRK_ZONE'] \n",
    "    \n",
    "if 'REL_ROAD' in df_r_dumm:\n",
    "    del df_r_dumm['REL_ROAD'] \n",
    "    \n",
    "if 'LGT_COND' in df_r_dumm:\n",
    "    del df_r_dumm['LGT_COND'] \n",
    "    \n",
    "if 'WEATHER' in df_r_dumm:\n",
    "    del df_r_dumm['WEATHER'] \n",
    "    \n",
    "\n",
    "if 'DAY_WEEK' in df_r_dumm:\n",
    "    del df_r_dumm['DAY_WEEK']\n",
    "    \n",
    "if 'HR_RANGE' in df_r_dumm:\n",
    "    del df_r_dumm['HR_RANGE']\n",
    "    \n",
    "if 'REGION' in df_r_dumm:\n",
    "    del df_r_dumm['REGION']\n",
    "    \n",
    "if 'MAN_COLL' in df_r_dumm:\n",
    "    del df_r_dumm['MAN_COLL']\n",
    "    "
   ]
  },
  {
   "cell_type": "code",
   "execution_count": 88,
   "metadata": {},
   "outputs": [
    {
     "name": "stdout",
     "output_type": "stream",
     "text": [
      "The number of rows is        28823\n",
      "The number of attributes is  89\n"
     ]
    }
   ],
   "source": [
    "print ('The number of rows is       ', df_r_dumm.shape[0])\n",
    "print ('The number of attributes is ', df_r_dumm.shape[1])"
   ]
  },
  {
   "cell_type": "markdown",
   "metadata": {},
   "source": [
    "Adding a one-hot encoding of REGION only added 3 columns to the dataset. "
   ]
  },
  {
   "cell_type": "code",
   "execution_count": 89,
   "metadata": {
    "scrolled": true
   },
   "outputs": [
    {
     "data": {
      "text/html": [
       "<div>\n",
       "<style scoped>\n",
       "    .dataframe tbody tr th:only-of-type {\n",
       "        vertical-align: middle;\n",
       "    }\n",
       "\n",
       "    .dataframe tbody tr th {\n",
       "        vertical-align: top;\n",
       "    }\n",
       "\n",
       "    .dataframe thead th {\n",
       "        text-align: right;\n",
       "    }\n",
       "</style>\n",
       "<table border=\"1\" class=\"dataframe\">\n",
       "  <thead>\n",
       "    <tr style=\"text-align: right;\">\n",
       "      <th></th>\n",
       "      <th>Unnamed: 0</th>\n",
       "      <th>VE_TOTAL</th>\n",
       "      <th>PVH_INVL</th>\n",
       "      <th>PEDS</th>\n",
       "      <th>PERNOTMVIT</th>\n",
       "      <th>PERMVIT</th>\n",
       "      <th>PERSONS</th>\n",
       "      <th>RELJCT1</th>\n",
       "      <th>FATALS</th>\n",
       "      <th>DRUNK_DR</th>\n",
       "      <th>...</th>\n",
       "      <th>REGION_3</th>\n",
       "      <th>REGION_4</th>\n",
       "      <th>MAN_COLL_0</th>\n",
       "      <th>MAN_COLL_1</th>\n",
       "      <th>MAN_COLL_2</th>\n",
       "      <th>MAN_COLL_6</th>\n",
       "      <th>MAN_COLL_7</th>\n",
       "      <th>MAN_COLL_8</th>\n",
       "      <th>MAN_COLL_9</th>\n",
       "      <th>MAN_COLL_11</th>\n",
       "    </tr>\n",
       "  </thead>\n",
       "  <tbody>\n",
       "    <tr>\n",
       "      <th>count</th>\n",
       "      <td>28823.000000</td>\n",
       "      <td>28823.000000</td>\n",
       "      <td>28823.000000</td>\n",
       "      <td>28823.000000</td>\n",
       "      <td>28823.000000</td>\n",
       "      <td>28823.000000</td>\n",
       "      <td>28823.000000</td>\n",
       "      <td>28823.000000</td>\n",
       "      <td>28823.000000</td>\n",
       "      <td>28823.000000</td>\n",
       "      <td>...</td>\n",
       "      <td>28823.000000</td>\n",
       "      <td>28823.000000</td>\n",
       "      <td>28823.000000</td>\n",
       "      <td>28823.000000</td>\n",
       "      <td>28823.000000</td>\n",
       "      <td>28823.000000</td>\n",
       "      <td>28823.000000</td>\n",
       "      <td>28823.000000</td>\n",
       "      <td>28823.000000</td>\n",
       "      <td>28823.000000</td>\n",
       "    </tr>\n",
       "    <tr>\n",
       "      <th>mean</th>\n",
       "      <td>16216.451167</td>\n",
       "      <td>1.551435</td>\n",
       "      <td>0.031676</td>\n",
       "      <td>0.205149</td>\n",
       "      <td>0.212816</td>\n",
       "      <td>2.269160</td>\n",
       "      <td>2.276828</td>\n",
       "      <td>0.043021</td>\n",
       "      <td>1.089963</td>\n",
       "      <td>0.281997</td>\n",
       "      <td>...</td>\n",
       "      <td>0.458106</td>\n",
       "      <td>0.192034</td>\n",
       "      <td>0.612011</td>\n",
       "      <td>0.069875</td>\n",
       "      <td>0.105124</td>\n",
       "      <td>0.182354</td>\n",
       "      <td>0.016168</td>\n",
       "      <td>0.010651</td>\n",
       "      <td>0.001318</td>\n",
       "      <td>0.002498</td>\n",
       "    </tr>\n",
       "    <tr>\n",
       "      <th>std</th>\n",
       "      <td>9234.278852</td>\n",
       "      <td>0.740342</td>\n",
       "      <td>0.221970</td>\n",
       "      <td>0.442517</td>\n",
       "      <td>0.458635</td>\n",
       "      <td>1.619565</td>\n",
       "      <td>1.621389</td>\n",
       "      <td>0.202908</td>\n",
       "      <td>0.351929</td>\n",
       "      <td>0.466114</td>\n",
       "      <td>...</td>\n",
       "      <td>0.498250</td>\n",
       "      <td>0.393907</td>\n",
       "      <td>0.487300</td>\n",
       "      <td>0.254940</td>\n",
       "      <td>0.306719</td>\n",
       "      <td>0.386143</td>\n",
       "      <td>0.126122</td>\n",
       "      <td>0.102655</td>\n",
       "      <td>0.036286</td>\n",
       "      <td>0.049918</td>\n",
       "    </tr>\n",
       "    <tr>\n",
       "      <th>min</th>\n",
       "      <td>0.000000</td>\n",
       "      <td>1.000000</td>\n",
       "      <td>0.000000</td>\n",
       "      <td>0.000000</td>\n",
       "      <td>0.000000</td>\n",
       "      <td>0.000000</td>\n",
       "      <td>0.000000</td>\n",
       "      <td>0.000000</td>\n",
       "      <td>1.000000</td>\n",
       "      <td>0.000000</td>\n",
       "      <td>...</td>\n",
       "      <td>0.000000</td>\n",
       "      <td>0.000000</td>\n",
       "      <td>0.000000</td>\n",
       "      <td>0.000000</td>\n",
       "      <td>0.000000</td>\n",
       "      <td>0.000000</td>\n",
       "      <td>0.000000</td>\n",
       "      <td>0.000000</td>\n",
       "      <td>0.000000</td>\n",
       "      <td>0.000000</td>\n",
       "    </tr>\n",
       "    <tr>\n",
       "      <th>25%</th>\n",
       "      <td>8805.500000</td>\n",
       "      <td>1.000000</td>\n",
       "      <td>0.000000</td>\n",
       "      <td>0.000000</td>\n",
       "      <td>0.000000</td>\n",
       "      <td>1.000000</td>\n",
       "      <td>1.000000</td>\n",
       "      <td>0.000000</td>\n",
       "      <td>1.000000</td>\n",
       "      <td>0.000000</td>\n",
       "      <td>...</td>\n",
       "      <td>0.000000</td>\n",
       "      <td>0.000000</td>\n",
       "      <td>0.000000</td>\n",
       "      <td>0.000000</td>\n",
       "      <td>0.000000</td>\n",
       "      <td>0.000000</td>\n",
       "      <td>0.000000</td>\n",
       "      <td>0.000000</td>\n",
       "      <td>0.000000</td>\n",
       "      <td>0.000000</td>\n",
       "    </tr>\n",
       "    <tr>\n",
       "      <th>50%</th>\n",
       "      <td>16436.000000</td>\n",
       "      <td>1.000000</td>\n",
       "      <td>0.000000</td>\n",
       "      <td>0.000000</td>\n",
       "      <td>0.000000</td>\n",
       "      <td>2.000000</td>\n",
       "      <td>2.000000</td>\n",
       "      <td>0.000000</td>\n",
       "      <td>1.000000</td>\n",
       "      <td>0.000000</td>\n",
       "      <td>...</td>\n",
       "      <td>0.000000</td>\n",
       "      <td>0.000000</td>\n",
       "      <td>1.000000</td>\n",
       "      <td>0.000000</td>\n",
       "      <td>0.000000</td>\n",
       "      <td>0.000000</td>\n",
       "      <td>0.000000</td>\n",
       "      <td>0.000000</td>\n",
       "      <td>0.000000</td>\n",
       "      <td>0.000000</td>\n",
       "    </tr>\n",
       "    <tr>\n",
       "      <th>75%</th>\n",
       "      <td>23993.500000</td>\n",
       "      <td>2.000000</td>\n",
       "      <td>0.000000</td>\n",
       "      <td>0.000000</td>\n",
       "      <td>0.000000</td>\n",
       "      <td>3.000000</td>\n",
       "      <td>3.000000</td>\n",
       "      <td>0.000000</td>\n",
       "      <td>1.000000</td>\n",
       "      <td>1.000000</td>\n",
       "      <td>...</td>\n",
       "      <td>1.000000</td>\n",
       "      <td>0.000000</td>\n",
       "      <td>1.000000</td>\n",
       "      <td>0.000000</td>\n",
       "      <td>0.000000</td>\n",
       "      <td>0.000000</td>\n",
       "      <td>0.000000</td>\n",
       "      <td>0.000000</td>\n",
       "      <td>0.000000</td>\n",
       "      <td>0.000000</td>\n",
       "    </tr>\n",
       "    <tr>\n",
       "      <th>max</th>\n",
       "      <td>32165.000000</td>\n",
       "      <td>8.000000</td>\n",
       "      <td>4.000000</td>\n",
       "      <td>4.000000</td>\n",
       "      <td>4.000000</td>\n",
       "      <td>13.000000</td>\n",
       "      <td>13.000000</td>\n",
       "      <td>1.000000</td>\n",
       "      <td>5.000000</td>\n",
       "      <td>2.000000</td>\n",
       "      <td>...</td>\n",
       "      <td>1.000000</td>\n",
       "      <td>1.000000</td>\n",
       "      <td>1.000000</td>\n",
       "      <td>1.000000</td>\n",
       "      <td>1.000000</td>\n",
       "      <td>1.000000</td>\n",
       "      <td>1.000000</td>\n",
       "      <td>1.000000</td>\n",
       "      <td>1.000000</td>\n",
       "      <td>1.000000</td>\n",
       "    </tr>\n",
       "  </tbody>\n",
       "</table>\n",
       "<p>8 rows × 89 columns</p>\n",
       "</div>"
      ],
      "text/plain": [
       "         Unnamed: 0      VE_TOTAL      PVH_INVL          PEDS    PERNOTMVIT  \\\n",
       "count  28823.000000  28823.000000  28823.000000  28823.000000  28823.000000   \n",
       "mean   16216.451167      1.551435      0.031676      0.205149      0.212816   \n",
       "std     9234.278852      0.740342      0.221970      0.442517      0.458635   \n",
       "min        0.000000      1.000000      0.000000      0.000000      0.000000   \n",
       "25%     8805.500000      1.000000      0.000000      0.000000      0.000000   \n",
       "50%    16436.000000      1.000000      0.000000      0.000000      0.000000   \n",
       "75%    23993.500000      2.000000      0.000000      0.000000      0.000000   \n",
       "max    32165.000000      8.000000      4.000000      4.000000      4.000000   \n",
       "\n",
       "            PERMVIT       PERSONS       RELJCT1        FATALS      DRUNK_DR  \\\n",
       "count  28823.000000  28823.000000  28823.000000  28823.000000  28823.000000   \n",
       "mean       2.269160      2.276828      0.043021      1.089963      0.281997   \n",
       "std        1.619565      1.621389      0.202908      0.351929      0.466114   \n",
       "min        0.000000      0.000000      0.000000      1.000000      0.000000   \n",
       "25%        1.000000      1.000000      0.000000      1.000000      0.000000   \n",
       "50%        2.000000      2.000000      0.000000      1.000000      0.000000   \n",
       "75%        3.000000      3.000000      0.000000      1.000000      1.000000   \n",
       "max       13.000000     13.000000      1.000000      5.000000      2.000000   \n",
       "\n",
       "       ...      REGION_3      REGION_4    MAN_COLL_0    MAN_COLL_1  \\\n",
       "count  ...  28823.000000  28823.000000  28823.000000  28823.000000   \n",
       "mean   ...      0.458106      0.192034      0.612011      0.069875   \n",
       "std    ...      0.498250      0.393907      0.487300      0.254940   \n",
       "min    ...      0.000000      0.000000      0.000000      0.000000   \n",
       "25%    ...      0.000000      0.000000      0.000000      0.000000   \n",
       "50%    ...      0.000000      0.000000      1.000000      0.000000   \n",
       "75%    ...      1.000000      0.000000      1.000000      0.000000   \n",
       "max    ...      1.000000      1.000000      1.000000      1.000000   \n",
       "\n",
       "         MAN_COLL_2    MAN_COLL_6    MAN_COLL_7    MAN_COLL_8    MAN_COLL_9  \\\n",
       "count  28823.000000  28823.000000  28823.000000  28823.000000  28823.000000   \n",
       "mean       0.105124      0.182354      0.016168      0.010651      0.001318   \n",
       "std        0.306719      0.386143      0.126122      0.102655      0.036286   \n",
       "min        0.000000      0.000000      0.000000      0.000000      0.000000   \n",
       "25%        0.000000      0.000000      0.000000      0.000000      0.000000   \n",
       "50%        0.000000      0.000000      0.000000      0.000000      0.000000   \n",
       "75%        0.000000      0.000000      0.000000      0.000000      0.000000   \n",
       "max        1.000000      1.000000      1.000000      1.000000      1.000000   \n",
       "\n",
       "        MAN_COLL_11  \n",
       "count  28823.000000  \n",
       "mean       0.002498  \n",
       "std        0.049918  \n",
       "min        0.000000  \n",
       "25%        0.000000  \n",
       "50%        0.000000  \n",
       "75%        0.000000  \n",
       "max        1.000000  \n",
       "\n",
       "[8 rows x 89 columns]"
      ]
     },
     "execution_count": 89,
     "metadata": {},
     "output_type": "execute_result"
    }
   ],
   "source": [
    "df_r_dumm.describe(include='all')"
   ]
  },
  {
   "cell_type": "markdown",
   "metadata": {},
   "source": [
    "### Modeling and Evaluation (50 points total)\n",
    "\n",
    "Different tasks will require different evaluation methods. Be as thorough as possible when analyzing\n",
    "the data you have chosen and use visualizations of the results to explain the performance and\n",
    "expected outcomes whenever possible. Guide the reader through your analysis with plenty of\n",
    "discussion of the results."
   ]
  },
  {
   "cell_type": "markdown",
   "metadata": {},
   "source": [
    "For this task we tried to divide the data from the four dataframes we have creates into 80% train/ 20% test but after more than 4 hours trying, we just could not make it work properly. \n",
    "\n",
    "We tried dividing the different dataframes into X and y numpy arrays, then creating a loop to split them into X_train, y_train, X_test, and y_test; we also tried train_test_split but the clustering methods returned errors when using numpy arrays that we were unable to fix given the time we had to finish the project. We are sure that having more time would had also allowed us to find a solution for our issue. \n",
    "\n",
    "Therefore, we decided to keep out dataframes as pandas, but then again splitting them turn out to be a tall order that with ourr time constraint we could not figure out. So the dataframes were left intact. \n",
    "\n",
    "We, then, decided to test how KMeans behave when using a dataframe with no one-hot encoded attributes, and when using one with one-hot encoded ones to decide which one will work better based on their accuracy and deviation. Thus choosing the best performing one to perform other clustering methods such as: agglomerative and DBSCAN. "
   ]
  },
  {
   "cell_type": "markdown",
   "metadata": {},
   "source": [
    "#### Modeling of dataframe df_accident\n",
    "\n",
    "We used Stratified K folds with 10 splits as our cross-validation. And created an object using Random Forest with 150 estimators. We will not change its parameters, instead to train our data we will try KMeans with different dataframes, different attributes to decide which yields the best acuracy and deviation combined. Then, we will use that particular one to perform other cluster methods and try different validations of it.  "
   ]
  },
  {
   "cell_type": "code",
   "execution_count": null,
   "metadata": {},
   "outputs": [],
   "source": [
    "%%time \n",
    "\n",
    "from sklearn.cluster import KMeans\n",
    "import numpy as np\n",
    "import pandas as pd\n",
    "from sklearn.model_selection import StratifiedKFold, cross_val_score\n",
    "from sklearn.ensemble import RandomForestClassifier\n",
    "\n",
    "cv = StratifiedKFold(n_splits=10)\n",
    "\n",
    "clf = RandomForestClassifier(n_estimators=150,random_state=1)\n",
    "\n",
    "\n",
    "\n",
    "X = df_accident[['STATE', 'VE_TOTAL', 'DAY_WEEK', 'HR_RANGE', \n",
    "                 'MAN_COLL', 'LGT_COND', 'WEATHER', 'DRUNK_DR']]\n",
    "\n",
    "y = df_accident['FATALS']\n",
    "\n",
    "acc = cross_val_score(clf,X,y=y,cv=cv)\n",
    "\n",
    "print (\"Average accuracy = \", acc.mean()*100, \"+-\", acc.std()*100)\n",
    "\n"
   ]
  },
  {
   "cell_type": "code",
   "execution_count": null,
   "metadata": {
    "scrolled": true
   },
   "outputs": [],
   "source": [
    "\n",
    "X1 = df_accident[['PERSONS', 'PERMVIT']]\n",
    "X2 = df_accident[['STATE', 'VE_TOTAL', 'DAY_WEEK', 'HR_RANGE', \n",
    "                 'MAN_COLL', 'LGT_COND', 'WEATHER', 'DRUNK_DR']]\n",
    "\n",
    "params = []\n",
    "for n_person in range(3,5):\n",
    "    for n_permvit in range(3,5):\n",
    "        # get the first clustering\n",
    "        cls_person = KMeans(n_clusters=n_person, init='k-means++',random_state=1)\n",
    "        cls_person.fit(X1)\n",
    "        newfeature_person = cls_person.labels_ # the labels from kmeans clustering\n",
    "\n",
    "        # append on the second clustering\n",
    "        cls_permvit = KMeans(n_clusters=n_permvit, init='k-means++',random_state=1)\n",
    "        cls_permvit.fit(X2)\n",
    "        newfeature_permvit = cls_permvit.labels_ # the labels from kmeans clustering\n",
    "        \n",
    "        # append to dataframe\n",
    "        y = df_accident['FATALS']\n",
    "        X = df_accident[['STATE', 'VE_TOTAL', 'PEDS', 'PERMVIT', 'PERSONS', 'DAY_WEEK', 'HR_RANGE', \n",
    "                 'MAN_COLL', 'LGT_COND', 'WEATHER', 'DRUNK_DR']]\n",
    "        X = np.column_stack((X,pd.get_dummies(newfeature_person),pd.get_dummies(newfeature_permvit)))\n",
    "\n",
    "        acc = cross_val_score(clf,X,y=y,cv=cv)\n",
    "        params.append((n_person,n_permvit,acc.mean()*100,acc.std()*100)) # save state\n",
    "\n",
    "        print (\"Clusters\",n_person,n_permvit,\"Average accuracy = \", acc.mean()*100, \"+-\", acc.std()*100)\n",
    "        \n",
    "        "
   ]
  },
  {
   "cell_type": "markdown",
   "metadata": {},
   "source": [
    "Based on the above results, it seems that 3 clusters for PERSONS and 4 for PERMVIT land the highest accuracy (91.27) and lowest deviation (0.54). Next we will use the number of clusters that seemed appropriate to perform Kmeans on those two attributes together. "
   ]
  },
  {
   "cell_type": "code",
   "execution_count": null,
   "metadata": {
    "scrolled": true
   },
   "outputs": [],
   "source": [
    "n_person=3\n",
    "n_permvit=4\n",
    "\n",
    "X2 = df_accident[['STATE', 'VE_TOTAL','PERSONS', 'DAY_WEEK', 'HR_RANGE', \n",
    "                 'MAN_COLL', 'LGT_COND', 'WEATHER', 'DRUNK_DR']]\n",
    "\n",
    "cls_person = KMeans(n_clusters=n_person, init='k-means++',random_state=1)\n",
    "cls_person.fit(X1)\n",
    "newfeature_person = cls_person.labels_ # the labels from kmeans clustering\n",
    "\n",
    "# append on the second clustering\n",
    "cls_permvit = KMeans(n_clusters=n_permvit, init='k-means++',random_state=1)\n",
    "cls_permvit.fit(X2)\n",
    "newfeature_permvit = cls_permvit.labels_ # the labels from kmeans clustering\n",
    "\n",
    "plt.figure()\n",
    "plt.subplot(1,2,1)\n",
    "X2=X2.values\n",
    "plt.scatter(X2[:, 7], X2[:, 2]+np.random.random(X2[:, 7].shape)/2, c=newfeature_person, cmap=plt.cm.rainbow, s=20, linewidths=0)\n",
    "plt.xlabel('WEATHER'), plt.ylabel('Persons Involved')\n",
    "plt.grid()\n",
    "\n",
    "plt.subplot(1,2,2)\n",
    "plt.scatter(X2[:, 7], X2[:, 8]+np.random.random(X2[:, 7].shape)/2, c=newfeature_permvit, cmap=plt.cm.rainbow, s=20, linewidths=0)\n",
    "plt.xlabel('WEATHER'), plt.ylabel('Alcohol Involved')\n",
    "plt.grid()\n",
    "\n",
    "X1=X1.values\n",
    "plt.figure()\n",
    "plt.scatter(X1[:, 0], X1[:, 1]+np.random.random(X1[:, 0].shape)/2, c=newfeature_person, cmap=plt.cm.rainbow, s=20, linewidths=0)\n",
    "plt.xlabel('People Involved'), plt.ylabel('People in Vehicle')\n",
    "plt.grid()"
   ]
  },
  {
   "cell_type": "markdown",
   "metadata": {},
   "source": [
    "Based on the above graph, PERSONS (people in vehicle) and PERMVIT (people involved) can be easily clustered in 3. PERSONS and WEATHER also show three, somehow easily defined clusters. WEATHER and Alcohol involved is a different story as only one cluster (in red) can be easily defined. \n",
    "\n",
    "Next we will try performing KMeans on just PERSONS. "
   ]
  },
  {
   "cell_type": "code",
   "execution_count": null,
   "metadata": {
    "scrolled": true
   },
   "outputs": [],
   "source": [
    "X3 = df_accident[['PERSONS', 'PERMVIT']]\n",
    "X4 = df_accident[['STATE', 'VE_TOTAL', 'DAY_WEEK', 'HR_RANGE', \n",
    "                 'MAN_COLL', 'LGT_COND', 'WEATHER', 'DRUNK_DR']]\n",
    "\n",
    "params = []\n",
    "for n_person in range(3,6):\n",
    "        # get the first clustering\n",
    "        cls_person = KMeans(n_clusters=n_person, init='k-means++',random_state=1)\n",
    "        cls_person.fit(X3)\n",
    "        newfeature_person = cls_person.labels_ # the labels from kmeans clustering\n",
    "\n",
    "\n",
    "        y = df_accident['FATALS']\n",
    "        X = df_accident[['STATE', 'VE_TOTAL', 'PEDS', 'PERMVIT', 'PERSONS', 'DAY_WEEK', 'HR_RANGE', \n",
    "                 'MAN_COLL', 'LGT_COND', 'WEATHER', 'DRUNK_DR']]\n",
    "        X = np.column_stack((X,pd.get_dummies(newfeature_person)))\n",
    "\n",
    "        acc = cross_val_score(clf,X,y=y,cv=cv)\n",
    "        params.append((n_person,acc.mean()*100,acc.std()*100)) # save state\n",
    "\n",
    "        print (\"Clusters\",n_person,\"Average accuracy = \", acc.mean()*100, \"+-\", acc.std()*100)\n",
    "        \n",
    "        "
   ]
  },
  {
   "cell_type": "markdown",
   "metadata": {},
   "source": [
    "We can see that performing KMeans on just PERSONS did increase the accuracy and lower the deviation, making it tighter. For graphing the clusters we will use only 3, which is the number that provides the higher accuracy/ lower deviation. "
   ]
  },
  {
   "cell_type": "code",
   "execution_count": null,
   "metadata": {},
   "outputs": [],
   "source": [
    "n_person=3\n",
    "\n",
    "\n",
    "X4 = df_accident[['STATE', 'VE_TOTAL','PERSONS', 'DAY_WEEK', 'HR_RANGE', \n",
    "                 'MAN_COLL', 'LGT_COND', 'WEATHER', 'DRUNK_DR']]\n",
    "\n",
    "cls_person = KMeans(n_clusters=n_person, init='k-means++',random_state=1)\n",
    "cls_person.fit(X3)\n",
    "newfeature_person = cls_person.labels_ # the labels from kmeans clustering\n",
    "\n",
    "plt.figure()\n",
    "plt.subplot(1,2,1)\n",
    "X4=X4.values\n",
    "plt.scatter(X4[:, 7], X4[:, 1]+np.random.random(X4[:, 1].shape)/2, c=newfeature_person, cmap=plt.cm.rainbow, s=20, linewidths=0)\n",
    "plt.xlabel('WEATHER'), plt.ylabel('Persons Involved')\n",
    "plt.grid()\n",
    "\n",
    "plt.subplot(1,2,2)\n",
    "plt.scatter(X4[:, 7], X4[:, 8]+np.random.random(X4[:, 1].shape)/2, c=newfeature_permvit, cmap=plt.cm.rainbow, s=20, linewidths=0)\n",
    "plt.xlabel('WEATHER'), plt.ylabel('Alcohol Involved')\n",
    "plt.grid()\n",
    "\n",
    "X3=X3.values\n",
    "plt.figure()\n",
    "plt.scatter(X3[:, 0], X3[:, 1]+np.random.random(X3[:, 0].shape)/2, c=newfeature_person, cmap=plt.cm.rainbow, s=20, linewidths=0)\n",
    "plt.xlabel('People Involved'), plt.ylabel('People in Vehicle')\n",
    "plt.grid()"
   ]
  },
  {
   "cell_type": "markdown",
   "metadata": {},
   "source": [
    "We chose three clusters because they have the higher accuracy (91.48) and the lowest deviation (0.25). Even tough there isn't a dramatic difference with the previous graph, the clusters in this plot are slightly more defined. "
   ]
  },
  {
   "cell_type": "markdown",
   "metadata": {},
   "source": [
    "#### Lighting condition and weather\n",
    "\n",
    "From the df_accident dataframe we observed that most accidents happen under normal weather and lighting conditions, but there were also a good number that did happen in \"unusual\" conditions. So we want to know what would happen if we use KMeans on these two attributes (not one-hot encoded) together. "
   ]
  },
  {
   "cell_type": "code",
   "execution_count": null,
   "metadata": {
    "scrolled": true
   },
   "outputs": [],
   "source": [
    "X5 = df_accident[['LGT_COND', 'WEATHER']]\n",
    "X6 = df_accident[['STATE', 'PERSONS', 'PERMVIT', 'VE_TOTAL', 'DAY_WEEK', 'HR_RANGE', \n",
    "                 'MAN_COLL', 'HARM_EV_RED', 'DRUNK_DR']]\n",
    "\n",
    "params = []\n",
    "for n_lgt in range(3,6):\n",
    "     for n_wthr in range(3,6):\n",
    "    \n",
    "        # get the first clustering\n",
    "        cls_lgt = KMeans(n_clusters=n_lgt, init='k-means++',random_state=1)\n",
    "        cls_lgt.fit(X5)\n",
    "        newfeature_lgt = cls_lgt.labels_ # the labels from kmeans clustering\n",
    "\n",
    "        # append second clustering\n",
    "        cls_wthr = KMeans(n_clusters=n_wthr, init='k-means++',random_state=1)\n",
    "        cls_wthr.fit(X6)\n",
    "        newfeature_wthr = cls_wthr.labels_ # the labels from kmeans clustering\n",
    "\n",
    "        y = df_accident['FATALS']\n",
    "        X = df_accident[['STATE', 'PERSONS', 'PERMVIT', 'VE_TOTAL', 'DAY_WEEK', 'HR_RANGE', \n",
    "                 'MAN_COLL', 'HARM_EV_RED', 'DRUNK_DR']]\n",
    "        X = np.column_stack((X,pd.get_dummies(newfeature_lgt),pd.get_dummies(newfeature_wthr) ))\n",
    "\n",
    "        acc = cross_val_score(clf,X,y=y,cv=cv)\n",
    "        params.append((n_lgt, n_wthr,acc.mean()*100,acc.std()*100)) # save state\n",
    "\n",
    "        print (\"Clusters\",n_lgt, n_wthr, \"Average accuracy = \", acc.mean()*100, \"+-\", acc.std()*100)\n",
    "        \n",
    "        "
   ]
  },
  {
   "cell_type": "markdown",
   "metadata": {},
   "source": [
    "Accuracy haven'e changed much, but the deviation went up again. We attribute this to the fact that both are "
   ]
  },
  {
   "cell_type": "code",
   "execution_count": null,
   "metadata": {
    "scrolled": true
   },
   "outputs": [],
   "source": [
    "n_lgt=6\n",
    "n_wthr=3\n",
    "\n",
    "X6 = df_accident[['STATE', 'PERSONS', 'PERMVIT', 'VE_TOTAL', 'DAY_WEEK', 'HR_RANGE', \n",
    "                 'MAN_COLL', 'HARM_EV_RED', 'DRUNK_DR']]\n",
    "\n",
    "cls_lgt = KMeans(n_clusters=n_lgt, init='k-means++',random_state=1)\n",
    "cls_lgt.fit(X5)\n",
    "newfeature_lgt = cls_lgt.labels_\n",
    "\n",
    "# append on the second clustering\n",
    "cls_wthr = KMeans(n_clusters=n_wthr, init='k-means++',random_state=1)\n",
    "cls_wthr.fit(X6)\n",
    "newfeature_wthr = cls_wthr.labels_ # the labels from kmeans clustering\n",
    "\n",
    "plt.figure()\n",
    "plt.subplot(1,2,1)\n",
    "X6=X6.values\n",
    "plt.scatter(X6[:, 7], X6[:, 1]+np.random.random(X6[:, 1].shape)/2, c=newfeature_lgt, cmap=plt.cm.rainbow, s=20, linewidths=0)\n",
    "plt.xlabel('WEATHER'), plt.ylabel('Lighting Condition')\n",
    "plt.grid()\n",
    "\n",
    "plt.subplot(1,2,2)\n",
    "plt.scatter(X6[:, 7], X6[:, 8]+np.random.random(X6[:, 1].shape)/2, c=newfeature_wthr, cmap=plt.cm.rainbow, s=20, linewidths=0)\n",
    "plt.xlabel('WEATHER'), plt.ylabel('Alcohol Involved')\n",
    "plt.grid()\n",
    "\n",
    "X5=X5.values\n",
    "plt.figure()\n",
    "plt.scatter(X5[:, 0], X5[:, 1]+np.random.random(X5[:, 0].shape)/2, c=newfeature_person, cmap=plt.cm.rainbow, s=20, linewidths=0)\n",
    "plt.xlabel('Lighting Condition'), plt.ylabel('WEATHER')\n",
    "plt.grid()"
   ]
  },
  {
   "cell_type": "markdown",
   "metadata": {},
   "source": [
    "None of the graphs above display clusterings that are able to be separated at plain sight, the visual is confusing in fact.  We did not know what to expect when performing KMeans on the two categorical attributes that we discretized. \n",
    "\n",
    "Only that pertaining to WEATHER and Alcohol involved displays a more defined clustering, in which we can see one big green cluster and a lot of tiny ones. "
   ]
  },
  {
   "cell_type": "code",
   "execution_count": null,
   "metadata": {
    "scrolled": true
   },
   "outputs": [],
   "source": [
    "n_lgt=5\n",
    "n_wthr=4\n",
    "\n",
    "X6 = df_accident[['STATE', 'PERSONS', 'PERMVIT', 'VE_TOTAL', 'DAY_WEEK', 'HR_RANGE', \n",
    "                 'MAN_COLL', 'HARM_EV_RED', 'DRUNK_DR']]\n",
    "\n",
    "cls_lgt = KMeans(n_clusters=n_lgt, init='k-means++',random_state=1)\n",
    "cls_lgt.fit(X5)\n",
    "newfeature_lgt = cls_lgt.labels_\n",
    "\n",
    "# append on the second clustering\n",
    "cls_wthr = KMeans(n_clusters=n_wthr, init='k-means++',random_state=1)\n",
    "cls_wthr.fit(X6)\n",
    "newfeature_wthr = cls_wthr.labels_ # the labels from kmeans clustering\n",
    "\n",
    "plt.figure()\n",
    "plt.subplot(1,2,1)\n",
    "X6=X6.values\n",
    "plt.scatter(X6[:, 7], X6[:, 1]+np.random.random(X6[:, 1].shape)/2, c=newfeature_lgt, cmap=plt.cm.rainbow, s=20, linewidths=0)\n",
    "plt.xlabel('WEATHER'), plt.ylabel('Lighting Condition')\n",
    "plt.grid()\n",
    "\n",
    "plt.subplot(1,2,2)\n",
    "plt.scatter(X6[:, 7], X6[:, 8]+np.random.random(X6[:, 1].shape)/2, c=newfeature_wthr, cmap=plt.cm.rainbow, s=20, linewidths=0)\n",
    "plt.xlabel('WEATHER'), plt.ylabel('Alcohol Involved')\n",
    "plt.grid()\n",
    "\n",
    "X5=X5\n",
    "plt.figure()\n",
    "plt.scatter(X5[:, 0], X5[:, 1]+np.random.random(X5[:, 0].shape)/2, c=newfeature_person, cmap=plt.cm.rainbow, s=20, linewidths=0)\n",
    "plt.xlabel('Lighting Condition'), plt.ylabel('WEATHER')\n",
    "plt.grid()"
   ]
  },
  {
   "cell_type": "markdown",
   "metadata": {},
   "source": [
    "#### KMeans with df_acc_dum\n",
    "\n",
    "These dataframe uses one-hot encoded versions of the categoricals.\n",
    "We would like to test how does the one-hot encoded versions of LGT_COND and WEATHER work when using KMeans. "
   ]
  },
  {
   "cell_type": "code",
   "execution_count": null,
   "metadata": {
    "scrolled": true
   },
   "outputs": [],
   "source": [
    "X_1 = df_acc_dum[['LGT_COND_1', 'LGT_COND_2', 'LGT_COND_3', 'LGT_COND_4', 'LGT_COND_5',  'WEATHER_1', 'WEATHER_2',\n",
    "                 'WEATHER_3', 'WEATHER_4', 'WEATHER_5', 'WEATHER_6', 'WEATHER_10', 'WEATHER_11', 'WEATHER_12']]\n",
    "X_2 = df_acc_dum[['STATE', 'PERSONS', 'PERMVIT', 'VE_TOTAL', 'DAY_WEEK_1', 'DAY_WEEK_2', 'DAY_WEEK_3', 'DAY_WEEK_4' , \n",
    "                  'DAY_WEEK_5', 'DAY_WEEK_6', 'DAY_WEEK_7', 'HR_RANGE_1', 'HR_RANGE_2', 'HR_RANGE_3', 'HR_RANGE_4', \n",
    "                  'HR_RANGE_5','HR_RANGE_6', 'MAN_COLL_0','MAN_COLL_1', 'MAN_COLL_2','MAN_COLL_6', 'MAN_COLL_7', \n",
    "                  'MAN_COLL_8', 'MAN_COLL_9', 'MAN_COLL_11', 'HARM_RED_1','HARM_RED_2', 'HARM_RED_3', \n",
    "                  'HARM_RED_4', 'HARM_RED_5', 'HARM_RED_6', 'DRUNK_DR']]\n",
    "\n",
    "params = []\n",
    "for n_lgt in range(3,5):\n",
    "     for n_wthr in range(3,5):\n",
    "    \n",
    "        # get the first clustering\n",
    "        cls_lgt = KMeans(n_clusters=n_lgt, init='k-means++',random_state=1)\n",
    "        cls_lgt.fit(X_1)\n",
    "        newfeature_lgt = cls_lgt.labels_ # the labels from kmeans clustering\n",
    "\n",
    "        # append second clustering\n",
    "        cls_wthr = KMeans(n_clusters=n_wthr, init='k-means++',random_state=1)\n",
    "        cls_wthr.fit(X_2)\n",
    "        newfeature_wthr = cls_wthr.labels_ # the labels from kmeans clustering\n",
    "\n",
    "        y = df_acc_dum['FATALS']\n",
    "        X = df_acc_dum[['STATE', 'PERSONS', 'PERMVIT', 'VE_TOTAL', 'DAY_WEEK_1', 'DAY_WEEK_2', 'DAY_WEEK_3', 'DAY_WEEK_4' , \n",
    "                  'DAY_WEEK_5', 'DAY_WEEK_6', 'DAY_WEEK_7', 'HR_RANGE_1', 'HR_RANGE_2', 'HR_RANGE_3', 'HR_RANGE_4', \n",
    "                  'HR_RANGE_5','HR_RANGE_6', 'MAN_COLL_0','MAN_COLL_1', 'MAN_COLL_2','MAN_COLL_6', 'MAN_COLL_7', \n",
    "                  'MAN_COLL_8', 'MAN_COLL_9', 'MAN_COLL_11', 'HARM_RED_1','HARM_RED_2', 'HARM_RED_3', \n",
    "                  'HARM_RED_4', 'HARM_RED_5', 'HARM_RED_6', 'DRUNK_DR']]\n",
    "        \n",
    "\n",
    "        acc = cross_val_score(clf,X,y=y,cv=cv)\n",
    "        params.append((n_lgt, n_wthr,acc.mean()*100,acc.std()*100)) # save state\n",
    "\n",
    "        print (\"Clusters\",n_lgt, n_wthr, \"Average accuracy = \", acc.mean()*100, \"+-\", acc.std()*100)\n",
    "        \n",
    "        "
   ]
  },
  {
   "cell_type": "markdown",
   "metadata": {},
   "source": [
    "Using 2 one-hot encoded attributes together did not result well: We end up getting the same accuray and deviation for each iteration. \n",
    "\n",
    "Instead, we will use KMeans on 2 continuous variables, but using the dataframe df_acc_dum in which we performed one-hot encoding for the categorical variables. "
   ]
  },
  {
   "cell_type": "code",
   "execution_count": null,
   "metadata": {},
   "outputs": [],
   "source": [
    "X_1 = df_acc_dum[['PERSONS', 'PERMVIT']]\n",
    "X_2 = df_acc_dum[['STATE', 'VE_TOTAL', 'DAY_WEEK_1', 'DAY_WEEK_2', 'DAY_WEEK_3', 'DAY_WEEK_4' , \n",
    "                  'DAY_WEEK_5', 'DAY_WEEK_6', 'DAY_WEEK_7', 'HR_RANGE_1', 'HR_RANGE_2', 'HR_RANGE_3', 'HR_RANGE_4', \n",
    "                  'HR_RANGE_5','HR_RANGE_6', 'MAN_COLL_0','MAN_COLL_1', 'MAN_COLL_2','MAN_COLL_6', 'MAN_COLL_7', \n",
    "                  'MAN_COLL_8', 'MAN_COLL_9', 'MAN_COLL_11', 'HARM_RED_1','HARM_RED_2', 'HARM_RED_3', \n",
    "                  'HARM_RED_4', 'HARM_RED_5', 'HARM_RED_6', 'LGT_COND_1', 'LGT_COND_2', 'LGT_COND_3', 'LGT_COND_4', 'LGT_COND_5',  'WEATHER_1', 'WEATHER_2',\n",
    "                 'WEATHER_3', 'WEATHER_4', 'WEATHER_5', 'WEATHER_6', 'WEATHER_10', 'WEATHER_11', 'WEATHER_12', 'DRUNK_DR']]\n",
    "\n",
    "\n",
    "params = []\n",
    "for n_person in range(3,6):\n",
    "    for n_permvit in range(3,6):\n",
    "        # get the first clustering\n",
    "        cls_person = KMeans(n_clusters=n_person, init='k-means++',random_state=1)\n",
    "        cls_person.fit(X_1)\n",
    "        newfeature_person = cls_person.labels_ # the labels from kmeans clustering\n",
    "\n",
    "        # append on the second clustering\n",
    "        cls_permvit = KMeans(n_clusters=n_permvit, init='k-means++',random_state=1)\n",
    "        cls_permvit.fit(X_2)\n",
    "        newfeature_permvit = cls_permvit.labels_ # the labels from kmeans clustering\n",
    "\n",
    "        y = df_acc_dum['FATALS']\n",
    "        X = df_acc_dum[['STATE', 'VE_TOTAL', 'DAY_WEEK_1', 'DAY_WEEK_2', 'DAY_WEEK_3', 'DAY_WEEK_4' , \n",
    "                  'DAY_WEEK_5', 'DAY_WEEK_6', 'DAY_WEEK_7', 'HR_RANGE_1', 'HR_RANGE_2', 'HR_RANGE_3', 'HR_RANGE_4', \n",
    "                  'HR_RANGE_5','HR_RANGE_6', 'MAN_COLL_0','MAN_COLL_1', 'MAN_COLL_2','MAN_COLL_6', 'MAN_COLL_7', \n",
    "                  'MAN_COLL_8', 'MAN_COLL_9', 'MAN_COLL_11', 'HARM_RED_1','HARM_RED_2', 'HARM_RED_3', \n",
    "                  'HARM_RED_4', 'HARM_RED_5', 'HARM_RED_6', 'LGT_COND_1', 'LGT_COND_2', 'LGT_COND_3', 'LGT_COND_4', 'LGT_COND_5',  'WEATHER_1', 'WEATHER_2',\n",
    "                 'WEATHER_3', 'WEATHER_4', 'WEATHER_5', 'WEATHER_6', 'WEATHER_10', 'WEATHER_11', 'WEATHER_12', 'DRUNK_DR']]\n",
    "        X = np.column_stack((X,pd.get_dummies(newfeature_person),pd.get_dummies(newfeature_permvit)))\n",
    "\n",
    "        acc = cross_val_score(clf,X,y=y,cv=cv)\n",
    "        params.append((n_person,n_permvit,acc.mean()*100,acc.std()*100)) # save state\n",
    "\n",
    "        print (\"Clusters\",n_person,n_permvit,\"Average accuracy = \", acc.mean()*100, \"+-\", acc.std()*100)\n",
    "        "
   ]
  },
  {
   "cell_type": "markdown",
   "metadata": {},
   "source": [
    "df_accident with no one-hot encoded attributes, and df_acc_dum with one-hot encoded attributes, when performing KMeans on PERSONS and PERMVIT turned out to return the same number of clusters for each 3 and 4 that landed the highest accuracy (both surrounding 0.92) and the lowest deviation on both cases. Although clustering using the df_acc_dum--dataframe with one-hot encoded attributes-- achieved a tightest deviation of 0.31 compared to that of 0.64 from df_accident --with no one-hot encoded attributes.  \n",
    "\n",
    "Therefore for the rest of the analysis, we will be using only those dataframes with one-hot encoded attributes: df_acc_dum and df_r_dumm, which replaced attribute STATE with REGION--derived from STATE. "
   ]
  },
  {
   "cell_type": "code",
   "execution_count": null,
   "metadata": {
    "scrolled": true
   },
   "outputs": [],
   "source": [
    "n_person=3\n",
    "n_permvit=4\n",
    "\n",
    "X_2 = df_acc_dum[['STATE', 'VE_TOTAL', 'DAY_WEEK_1', 'DAY_WEEK_2', 'DAY_WEEK_3', 'DAY_WEEK_4' , \n",
    "                  'DAY_WEEK_5', 'DAY_WEEK_6', 'DAY_WEEK_7', 'HR_RANGE_1', 'HR_RANGE_2', 'HR_RANGE_3', 'HR_RANGE_4', \n",
    "                  'HR_RANGE_5','HR_RANGE_6', 'MAN_COLL_0','MAN_COLL_1', 'MAN_COLL_2','MAN_COLL_6', 'MAN_COLL_7', \n",
    "                  'MAN_COLL_8', 'MAN_COLL_9', 'MAN_COLL_11', 'HARM_RED_1','HARM_RED_2', 'HARM_RED_3', \n",
    "                  'HARM_RED_4', 'HARM_RED_5', 'HARM_RED_6', 'LGT_COND_1', 'LGT_COND_2', 'LGT_COND_3', 'LGT_COND_4', 'LGT_COND_5',  'WEATHER_1', 'WEATHER_2',\n",
    "                 'WEATHER_3', 'WEATHER_4', 'WEATHER_5', 'WEATHER_6', 'WEATHER_10', 'WEATHER_11', 'WEATHER_12', 'DRUNK_DR']]\n",
    "\n",
    "\n",
    "\n",
    "cls_person = KMeans(n_clusters=n_person, init='k-means++',random_state=1)\n",
    "cls_person.fit(X_1)\n",
    "newfeature_person = cls_person.labels_ # the labels from kmeans clustering\n",
    "\n",
    "# append on the second clustering\n",
    "cls_permvit = KMeans(n_clusters=n_permvit, init='k-means++',random_state=1)\n",
    "cls_permvit.fit(X_2)\n",
    "newfeature_permvit = cls_permvit.labels_ # the labels from kmeans clustering\n",
    "\n",
    "plt.figure()\n",
    "plt.subplot(1,2,1)\n",
    "X_2=X_2.values\n",
    "plt.scatter(X_2[:, 7], X_2[:, 1]+np.random.random(X_2[:, 1].shape)/2, c=newfeature_person, cmap=plt.cm.rainbow, s=20, linewidths=0)\n",
    "plt.xlabel('WEATHER'), plt.ylabel('Persons Involved')\n",
    "plt.grid()\n",
    "\n",
    "plt.subplot(1,2,2)\n",
    "plt.scatter(X_2[:, 7], X_2[:, 8]+np.random.random(X_2[:, 1].shape)/2, c=newfeature_permvit, cmap=plt.cm.rainbow, s=20, linewidths=0)\n",
    "plt.xlabel('WEATHER'), plt.ylabel('Alcohol Involved')\n",
    "plt.grid()\n",
    "\n",
    "X_1=X_1.values\n",
    "plt.figure()\n",
    "plt.scatter(X_1[:, 0], X_1[:, 1]+np.random.random(X_1[:, 0].shape)/2, c=newfeature_person, cmap=plt.cm.rainbow, s=20, linewidths=0)\n",
    "plt.xlabel('People Involved'), plt.ylabel('People in Vehicle')\n",
    "plt.grid()"
   ]
  },
  {
   "cell_type": "markdown",
   "metadata": {},
   "source": [
    "Choosing to use df_acc_dum was a really good choice as the clusters are more easily distinguishable and defined than when the data has no one-hot encoded attributes. \n",
    "\n",
    "Therefore, at this point we decided to proceed considering only those dataframes we have created that contain one-hot encoded attributes:\n",
    "\n",
    "- df_acc_dum, which includes the attribute STATE in its original form\n",
    "- df_r_dumm, which contains the newly created attribute REGION (derived from STATE) that was one-hot encoded also.\n",
    "\n",
    "After getting the accuracy and deviation results from using df_r_dumm we will decide if doing Agglomerative and DBSCAN should be performed on both dataframes or just the one that provides better results: higher accuracy and lower deviation. \n"
   ]
  },
  {
   "cell_type": "markdown",
   "metadata": {},
   "source": [
    "#### KMeans with dr_r_dumm"
   ]
  },
  {
   "cell_type": "code",
   "execution_count": null,
   "metadata": {},
   "outputs": [],
   "source": [
    "X_1 = df_r_dumm[['PERSONS', 'PERMVIT']]\n",
    "X_2 = df_r_dumm[['VE_TOTAL', 'DAY_WEEK_1', 'DAY_WEEK_2', 'DAY_WEEK_3', 'DAY_WEEK_4' , \n",
    "                  'DAY_WEEK_5', 'DAY_WEEK_6', 'DAY_WEEK_7', 'HR_RANGE_1', 'HR_RANGE_2', 'HR_RANGE_3', 'HR_RANGE_4', \n",
    "                  'HR_RANGE_5','HR_RANGE_6', 'MAN_COLL_0','MAN_COLL_1', 'MAN_COLL_2','MAN_COLL_6', 'MAN_COLL_7', \n",
    "                  'MAN_COLL_8', 'MAN_COLL_9', 'MAN_COLL_11', 'HARM_RED_1','HARM_RED_2', 'HARM_RED_3', \n",
    "                  'HARM_RED_4', 'HARM_RED_5', 'HARM_RED_6', 'LGT_COND_1', 'LGT_COND_2', 'LGT_COND_3', \n",
    "                 'LGT_COND_4', 'LGT_COND_5',  'WEATHER_1', 'WEATHER_2', 'WEATHER_3', 'WEATHER_4', 'WEATHER_5', \n",
    "                 'WEATHER_6', 'WEATHER_10', 'WEATHER_11', 'WEATHER_12', 'REGION_1', 'REGION_2', 'REGION_3', 'REGION_4', 'DRUNK_DR']]\n",
    "\n",
    "\n",
    "params = []\n",
    "for n_person in range(3,6):\n",
    "    for n_permvit in range(3,6):\n",
    "        # get the first clustering\n",
    "        cls_person = KMeans(n_clusters=n_person, init='k-means++',random_state=1)\n",
    "        cls_person.fit(X_1)\n",
    "        newfeature_person = cls_person.labels_ # the labels from kmeans clustering\n",
    "\n",
    "        # append on the second clustering\n",
    "        cls_permvit = KMeans(n_clusters=n_permvit, init='k-means++',random_state=1)\n",
    "        cls_permvit.fit(X_2)\n",
    "        newfeature_permvit = cls_permvit.labels_ # the labels from kmeans clustering\n",
    "\n",
    "        y = df_r_dumm['FATALS']\n",
    "        X = df_r_dumm[['VE_TOTAL', 'DAY_WEEK_1', 'DAY_WEEK_2', 'DAY_WEEK_3', 'DAY_WEEK_4' , \n",
    "                  'DAY_WEEK_5', 'DAY_WEEK_6', 'DAY_WEEK_7', 'HR_RANGE_1', 'HR_RANGE_2', 'HR_RANGE_3', 'HR_RANGE_4', \n",
    "                  'HR_RANGE_5','HR_RANGE_6', 'MAN_COLL_0','MAN_COLL_1', 'MAN_COLL_2','MAN_COLL_6', 'MAN_COLL_7', \n",
    "                  'MAN_COLL_8', 'MAN_COLL_9', 'MAN_COLL_11', 'HARM_RED_1','HARM_RED_2', 'HARM_RED_3', \n",
    "                  'HARM_RED_4', 'HARM_RED_5', 'HARM_RED_6', 'LGT_COND_1', 'LGT_COND_2', 'LGT_COND_3', \n",
    "                 'LGT_COND_4', 'LGT_COND_5',  'WEATHER_1', 'WEATHER_2', 'WEATHER_3', 'WEATHER_4', 'WEATHER_5', \n",
    "                 'WEATHER_6', 'WEATHER_10', 'WEATHER_11', 'WEATHER_12', 'REGION_1', 'REGION_2', 'REGION_3', 'REGION_4', 'DRUNK_DR']]\n",
    "        X = np.column_stack((X,pd.get_dummies(newfeature_person),pd.get_dummies(newfeature_permvit)))\n",
    "\n",
    "        acc = cross_val_score(clf,X,y=y,cv=cv)\n",
    "        params.append((n_person,n_permvit,acc.mean()*100,acc.std()*100)) # save state\n",
    "\n",
    "        print (\"Clusters\",n_person,n_permvit,\"Average accuracy = \", acc.mean()*100, \"+-\", acc.std()*100)\n",
    "        "
   ]
  },
  {
   "cell_type": "code",
   "execution_count": null,
   "metadata": {},
   "outputs": [],
   "source": [
    "n_person=3\n",
    "n_permvit=5\n",
    "\n",
    "X_2 = df_r_dumm[['VE_TOTAL', 'DAY_WEEK_1', 'DAY_WEEK_2', 'DAY_WEEK_3', 'DAY_WEEK_4' , \n",
    "                  'DAY_WEEK_5', 'DAY_WEEK_6', 'DAY_WEEK_7', 'HR_RANGE_1', 'HR_RANGE_2', 'HR_RANGE_3', 'HR_RANGE_4', \n",
    "                  'HR_RANGE_5','HR_RANGE_6', 'MAN_COLL_0','MAN_COLL_1', 'MAN_COLL_2','MAN_COLL_6', 'MAN_COLL_7', \n",
    "                  'MAN_COLL_8', 'MAN_COLL_9', 'MAN_COLL_11', 'HARM_RED_1','HARM_RED_2', 'HARM_RED_3', \n",
    "                  'HARM_RED_4', 'HARM_RED_5', 'HARM_RED_6', 'LGT_COND_1', 'LGT_COND_2', 'LGT_COND_3', \n",
    "                 'LGT_COND_4', 'LGT_COND_5',  'WEATHER_1', 'WEATHER_2', 'WEATHER_3', 'WEATHER_4', 'WEATHER_5', \n",
    "                 'WEATHER_6', 'WEATHER_10', 'WEATHER_11', 'WEATHER_12', 'REGION_1', 'REGION_2', 'REGION_3', 'REGION_4', 'DRUNK_DR']]\n",
    "\n",
    "\n",
    "\n",
    "cls_person = KMeans(n_clusters=n_person, init='k-means++',random_state=1)\n",
    "cls_person.fit(X_1)\n",
    "newfeature_person = cls_person.labels_ # the labels from kmeans clustering\n",
    "\n",
    "# append on the second clustering\n",
    "cls_permvit = KMeans(n_clusters=n_permvit, init='k-means++',random_state=1)\n",
    "cls_permvit.fit(X_2)\n",
    "newfeature_permvit = cls_permvit.labels_ # the labels from kmeans clustering\n",
    "\n",
    "plt.figure()\n",
    "plt.subplot(1,2,1)\n",
    "X_2=X_2.values\n",
    "plt.scatter(X_2[:, 7], X_2[:, 1]+np.random.random(X_2[:, 1].shape)/2, c=newfeature_person, cmap=plt.cm.rainbow, s=20, linewidths=0)\n",
    "plt.xlabel('WEATHER'), plt.ylabel('Persons Involved')\n",
    "plt.grid()\n",
    "\n",
    "plt.subplot(1,2,2)\n",
    "plt.scatter(X_2[:, 7], X_2[:, 8]+np.random.random(X_2[:, 1].shape)/2, c=newfeature_permvit, cmap=plt.cm.rainbow, s=20, linewidths=0)\n",
    "plt.xlabel('WEATHER'), plt.ylabel('Alcohol Involved')\n",
    "plt.grid()\n",
    "\n",
    "X_1=X_1.values\n",
    "plt.figure()\n",
    "plt.scatter(X_1[:, 0], X_1[:, 1]+np.random.random(X_1[:, 0].shape)/2, c=newfeature_person, cmap=plt.cm.rainbow, s=20, linewidths=0)\n",
    "plt.xlabel('People Involved'), plt.ylabel('People in Vehicle')\n",
    "plt.grid()"
   ]
  },
  {
   "cell_type": "code",
   "execution_count": null,
   "metadata": {},
   "outputs": [],
   "source": [
    "%%time \n",
    "\n",
    "from sklearn.cluster import AgglomerativeClustering\n",
    "from sklearn.cluster import KMeans\n",
    "from sklearn.cluster import DBSCAN\n",
    "import numpy as np\n",
    "\n",
    "from sklearn.cluster import AgglomerativeClustering\n",
    "\n",
    "X_1 = df_r_dumm[['PERSONS', 'PERMVIT']]\n",
    "\n",
    "params= []\n",
    "for link in ['ward', 'complete', 'average']:\n",
    "    for n_person in range(3,6):\n",
    "        \n",
    "\n",
    "            # append on the clustering\n",
    "            cls_person = AgglomerativeClustering(n_clusters=n_person, linkage=link)\n",
    "            cls_person.fit(X_2)\n",
    "            newfeature_person = cls_person.labels_ # the labels from kmeans clustering\n",
    "        \n",
    "        \n",
    "\n",
    "            y = df_r_dumm['FATALS']\n",
    "            X = df_r_dumm[['VE_TOTAL', 'DAY_WEEK_1', 'DAY_WEEK_2', 'DAY_WEEK_3', 'DAY_WEEK_4' , \n",
    "                  'DAY_WEEK_5', 'DAY_WEEK_6', 'DAY_WEEK_7', 'HR_RANGE_1', 'HR_RANGE_2', 'HR_RANGE_3', 'HR_RANGE_4', \n",
    "                  'HR_RANGE_5','HR_RANGE_6', 'MAN_COLL_0','MAN_COLL_1', 'MAN_COLL_2','MAN_COLL_6', 'MAN_COLL_7', \n",
    "                  'MAN_COLL_8', 'MAN_COLL_9', 'MAN_COLL_11', 'HARM_RED_1','HARM_RED_2', 'HARM_RED_3', \n",
    "                  'HARM_RED_4', 'HARM_RED_5', 'HARM_RED_6', 'LGT_COND_1', 'LGT_COND_2', 'LGT_COND_3', \n",
    "                 'LGT_COND_4', 'LGT_COND_5',  'WEATHER_1', 'WEATHER_2', 'WEATHER_3', 'WEATHER_4', 'WEATHER_5', \n",
    "                 'WEATHER_6', 'WEATHER_10', 'WEATHER_11', 'WEATHER_12', 'REGION_1', 'REGION_2', 'REGION_3', 'REGION_4', 'DRUNK_DR']]\n",
    "            X = np.column_stack((X,pd.get_dummies(newfeature_person)))\n",
    "\n",
    "            acc = cross_val_score(clf,X,y=y,cv=cv)\n",
    "            params.append((n_person,acc.mean()*100,acc.std()*100)) # save state\n",
    "\n",
    "            print (\"C=\",n_person, link,\"Average accuracy = \", acc.mean()*100, \"+-\", acc.std()*100)"
   ]
  },
  {
   "cell_type": "markdown",
   "metadata": {
    "collapsed": true
   },
   "source": [
    "Deployment"
   ]
  }
 ],
 "metadata": {
  "kernelspec": {
   "display_name": "Python 3",
   "language": "python",
   "name": "python3"
  },
  "language_info": {
   "codemirror_mode": {
    "name": "ipython",
    "version": 3
   },
   "file_extension": ".py",
   "mimetype": "text/x-python",
   "name": "python",
   "nbconvert_exporter": "python",
   "pygments_lexer": "ipython3",
   "version": "3.7.1"
  }
 },
 "nbformat": 4,
 "nbformat_minor": 2
}
